{
 "cells": [
  {
   "cell_type": "code",
   "execution_count": 44,
   "id": "97c7b35a",
   "metadata": {},
   "outputs": [],
   "source": [
    "import pandas as pd\n",
    "import matplotlib.pyplot as plt\n",
    "import seaborn as sns\n",
    "import requests\n",
    "import numpy as np\n",
    "import plotly.express as px\n",
    "from matplotlib.ticker import MultipleLocator, FuncFormatter"
   ]
  },
  {
   "cell_type": "code",
   "execution_count": 45,
   "id": "c3bdeb5c",
   "metadata": {},
   "outputs": [],
   "source": [
    "# pd.options.display.float_format = \"{:,.0f}\".format"
   ]
  },
  {
   "cell_type": "markdown",
   "id": "45aa4bbd",
   "metadata": {},
   "source": [
    "this allows for all floats in the notebook to display with commas and no decimals, but will keep the data as numeric for things such as plotting"
   ]
  },
  {
   "cell_type": "code",
   "execution_count": 46,
   "id": "9df04654",
   "metadata": {},
   "outputs": [
    {
     "data": {
      "application/vnd.microsoft.datawrangler.viewer.v0+json": {
       "columns": [
        {
         "name": "index",
         "rawType": "int64",
         "type": "integer"
        },
        {
         "name": "FIPS",
         "rawType": "object",
         "type": "string"
        },
        {
         "name": "State",
         "rawType": "object",
         "type": "string"
        },
        {
         "name": "County_Name",
         "rawType": "object",
         "type": "string"
        },
        {
         "name": "Attribute",
         "rawType": "object",
         "type": "string"
        },
        {
         "name": "Value",
         "rawType": "object",
         "type": "string"
        }
       ],
       "ref": "a86c6d80-f92a-4cab-8321-d82189f24766",
       "rows": [
        [
         "0",
         "01001",
         "AL",
         "Autauga County",
         "Population_2020",
         "58805"
        ],
        [
         "1",
         "01001",
         "AL",
         "Autauga County",
         "RUCC_2023",
         "2"
        ],
        [
         "2",
         "01001",
         "AL",
         "Autauga County",
         "Description",
         "Metro - Counties in metro areas of 250,000 to 1 million population"
        ],
        [
         "3",
         "01003",
         "AL",
         "Baldwin County",
         "Population_2020",
         "231767"
        ],
        [
         "4",
         "01003",
         "AL",
         "Baldwin County",
         "RUCC_2023",
         "3"
        ],
        [
         "5",
         "01003",
         "AL",
         "Baldwin County",
         "Description",
         "Metro - Counties in metro areas of fewer than 250,000 population"
        ],
        [
         "6",
         "01005",
         "AL",
         "Barbour County",
         "Population_2020",
         "25223"
        ],
        [
         "7",
         "01005",
         "AL",
         "Barbour County",
         "RUCC_2023",
         "6"
        ],
        [
         "8",
         "01005",
         "AL",
         "Barbour County",
         "Description",
         "Nonmetro - Urban population of 5,000 to 20,000, adjacent to a metro area"
        ],
        [
         "9",
         "01007",
         "AL",
         "Bibb County",
         "Population_2020",
         "22293"
        ],
        [
         "10",
         "01007",
         "AL",
         "Bibb County",
         "RUCC_2023",
         "1"
        ],
        [
         "11",
         "01007",
         "AL",
         "Bibb County",
         "Description",
         "Metro - Counties in metro areas of 1 million population or more"
        ],
        [
         "12",
         "01009",
         "AL",
         "Blount County",
         "Population_2020",
         "59134"
        ],
        [
         "13",
         "01009",
         "AL",
         "Blount County",
         "RUCC_2023",
         "1"
        ],
        [
         "14",
         "01009",
         "AL",
         "Blount County",
         "Description",
         "Metro - Counties in metro areas of 1 million population or more"
        ],
        [
         "15",
         "01011",
         "AL",
         "Bullock County",
         "Population_2020",
         "10357"
        ],
        [
         "16",
         "01011",
         "AL",
         "Bullock County",
         "RUCC_2023",
         "8"
        ],
        [
         "17",
         "01011",
         "AL",
         "Bullock County",
         "Description",
         "Nonmetro - Urban population of fewer than 5,000, adjacent to a metro area"
        ],
        [
         "18",
         "01013",
         "AL",
         "Butler County",
         "Population_2020",
         "19051"
        ],
        [
         "19",
         "01013",
         "AL",
         "Butler County",
         "RUCC_2023",
         "6"
        ],
        [
         "20",
         "01013",
         "AL",
         "Butler County",
         "Description",
         "Nonmetro - Urban population of 5,000 to 20,000, adjacent to a metro area"
        ],
        [
         "21",
         "01015",
         "AL",
         "Calhoun County",
         "Population_2020",
         "116441"
        ],
        [
         "22",
         "01015",
         "AL",
         "Calhoun County",
         "RUCC_2023",
         "3"
        ],
        [
         "23",
         "01015",
         "AL",
         "Calhoun County",
         "Description",
         "Metro - Counties in metro areas of fewer than 250,000 population"
        ],
        [
         "24",
         "01017",
         "AL",
         "Chambers County",
         "Population_2020",
         "34772"
        ],
        [
         "25",
         "01017",
         "AL",
         "Chambers County",
         "RUCC_2023",
         "6"
        ],
        [
         "26",
         "01017",
         "AL",
         "Chambers County",
         "Description",
         "Nonmetro - Urban population of 5,000 to 20,000, adjacent to a metro area"
        ],
        [
         "27",
         "01019",
         "AL",
         "Cherokee County",
         "Population_2020",
         "24971"
        ],
        [
         "28",
         "01019",
         "AL",
         "Cherokee County",
         "RUCC_2023",
         "8"
        ],
        [
         "29",
         "01019",
         "AL",
         "Cherokee County",
         "Description",
         "Nonmetro - Urban population of fewer than 5,000, adjacent to a metro area"
        ],
        [
         "30",
         "01021",
         "AL",
         "Chilton County",
         "Population_2020",
         "45014"
        ],
        [
         "31",
         "01021",
         "AL",
         "Chilton County",
         "RUCC_2023",
         "1"
        ],
        [
         "32",
         "01021",
         "AL",
         "Chilton County",
         "Description",
         "Metro - Counties in metro areas of 1 million population or more"
        ],
        [
         "33",
         "01023",
         "AL",
         "Choctaw County",
         "Population_2020",
         "12665"
        ],
        [
         "34",
         "01023",
         "AL",
         "Choctaw County",
         "RUCC_2023",
         "9"
        ],
        [
         "35",
         "01023",
         "AL",
         "Choctaw County",
         "Description",
         "Nonmetro - Urban population of fewer than 5,000, not adjacent to a metro area"
        ],
        [
         "36",
         "01025",
         "AL",
         "Clarke County",
         "Population_2020",
         "23087"
        ],
        [
         "37",
         "01025",
         "AL",
         "Clarke County",
         "RUCC_2023",
         "9"
        ],
        [
         "38",
         "01025",
         "AL",
         "Clarke County",
         "Description",
         "Nonmetro - Urban population of fewer than 5,000, not adjacent to a metro area"
        ],
        [
         "39",
         "01027",
         "AL",
         "Clay County",
         "Population_2020",
         "14236"
        ],
        [
         "40",
         "01027",
         "AL",
         "Clay County",
         "RUCC_2023",
         "9"
        ],
        [
         "41",
         "01027",
         "AL",
         "Clay County",
         "Description",
         "Nonmetro - Urban population of fewer than 5,000, not adjacent to a metro area"
        ],
        [
         "42",
         "01029",
         "AL",
         "Cleburne County",
         "Population_2020",
         "15056"
        ],
        [
         "43",
         "01029",
         "AL",
         "Cleburne County",
         "RUCC_2023",
         "8"
        ],
        [
         "44",
         "01029",
         "AL",
         "Cleburne County",
         "Description",
         "Nonmetro - Urban population of fewer than 5,000, adjacent to a metro area"
        ],
        [
         "45",
         "01031",
         "AL",
         "Coffee County",
         "Population_2020",
         "53465"
        ],
        [
         "46",
         "01031",
         "AL",
         "Coffee County",
         "RUCC_2023",
         "4"
        ],
        [
         "47",
         "01031",
         "AL",
         "Coffee County",
         "Description",
         "Nonmetro - Urban population of 20,000 or more, adjacent to a metro area"
        ],
        [
         "48",
         "01033",
         "AL",
         "Colbert County",
         "Population_2020",
         "57227"
        ],
        [
         "49",
         "01033",
         "AL",
         "Colbert County",
         "RUCC_2023",
         "3"
        ]
       ],
       "shape": {
        "columns": 5,
        "rows": 100
       }
      },
      "text/html": [
       "<div>\n",
       "<style scoped>\n",
       "    .dataframe tbody tr th:only-of-type {\n",
       "        vertical-align: middle;\n",
       "    }\n",
       "\n",
       "    .dataframe tbody tr th {\n",
       "        vertical-align: top;\n",
       "    }\n",
       "\n",
       "    .dataframe thead th {\n",
       "        text-align: right;\n",
       "    }\n",
       "</style>\n",
       "<table border=\"1\" class=\"dataframe\">\n",
       "  <thead>\n",
       "    <tr style=\"text-align: right;\">\n",
       "      <th></th>\n",
       "      <th>FIPS</th>\n",
       "      <th>State</th>\n",
       "      <th>County_Name</th>\n",
       "      <th>Attribute</th>\n",
       "      <th>Value</th>\n",
       "    </tr>\n",
       "  </thead>\n",
       "  <tbody>\n",
       "    <tr>\n",
       "      <th>0</th>\n",
       "      <td>01001</td>\n",
       "      <td>AL</td>\n",
       "      <td>Autauga County</td>\n",
       "      <td>Population_2020</td>\n",
       "      <td>58805</td>\n",
       "    </tr>\n",
       "    <tr>\n",
       "      <th>1</th>\n",
       "      <td>01001</td>\n",
       "      <td>AL</td>\n",
       "      <td>Autauga County</td>\n",
       "      <td>RUCC_2023</td>\n",
       "      <td>2</td>\n",
       "    </tr>\n",
       "    <tr>\n",
       "      <th>2</th>\n",
       "      <td>01001</td>\n",
       "      <td>AL</td>\n",
       "      <td>Autauga County</td>\n",
       "      <td>Description</td>\n",
       "      <td>Metro - Counties in metro areas of 250,000 to ...</td>\n",
       "    </tr>\n",
       "    <tr>\n",
       "      <th>3</th>\n",
       "      <td>01003</td>\n",
       "      <td>AL</td>\n",
       "      <td>Baldwin County</td>\n",
       "      <td>Population_2020</td>\n",
       "      <td>231767</td>\n",
       "    </tr>\n",
       "    <tr>\n",
       "      <th>4</th>\n",
       "      <td>01003</td>\n",
       "      <td>AL</td>\n",
       "      <td>Baldwin County</td>\n",
       "      <td>RUCC_2023</td>\n",
       "      <td>3</td>\n",
       "    </tr>\n",
       "    <tr>\n",
       "      <th>...</th>\n",
       "      <td>...</td>\n",
       "      <td>...</td>\n",
       "      <td>...</td>\n",
       "      <td>...</td>\n",
       "      <td>...</td>\n",
       "    </tr>\n",
       "    <tr>\n",
       "      <th>95</th>\n",
       "      <td>01063</td>\n",
       "      <td>AL</td>\n",
       "      <td>Greene County</td>\n",
       "      <td>Description</td>\n",
       "      <td>Metro - Counties in metro areas of 250,000 to ...</td>\n",
       "    </tr>\n",
       "    <tr>\n",
       "      <th>96</th>\n",
       "      <td>01065</td>\n",
       "      <td>AL</td>\n",
       "      <td>Hale County</td>\n",
       "      <td>Population_2020</td>\n",
       "      <td>14785</td>\n",
       "    </tr>\n",
       "    <tr>\n",
       "      <th>97</th>\n",
       "      <td>01065</td>\n",
       "      <td>AL</td>\n",
       "      <td>Hale County</td>\n",
       "      <td>RUCC_2023</td>\n",
       "      <td>2</td>\n",
       "    </tr>\n",
       "    <tr>\n",
       "      <th>98</th>\n",
       "      <td>01065</td>\n",
       "      <td>AL</td>\n",
       "      <td>Hale County</td>\n",
       "      <td>Description</td>\n",
       "      <td>Metro - Counties in metro areas of 250,000 to ...</td>\n",
       "    </tr>\n",
       "    <tr>\n",
       "      <th>99</th>\n",
       "      <td>01067</td>\n",
       "      <td>AL</td>\n",
       "      <td>Henry County</td>\n",
       "      <td>Population_2020</td>\n",
       "      <td>17146</td>\n",
       "    </tr>\n",
       "  </tbody>\n",
       "</table>\n",
       "<p>100 rows × 5 columns</p>\n",
       "</div>"
      ],
      "text/plain": [
       "     FIPS State     County_Name        Attribute  \\\n",
       "0   01001    AL  Autauga County  Population_2020   \n",
       "1   01001    AL  Autauga County        RUCC_2023   \n",
       "2   01001    AL  Autauga County      Description   \n",
       "3   01003    AL  Baldwin County  Population_2020   \n",
       "4   01003    AL  Baldwin County        RUCC_2023   \n",
       "..    ...   ...             ...              ...   \n",
       "95  01063    AL   Greene County      Description   \n",
       "96  01065    AL     Hale County  Population_2020   \n",
       "97  01065    AL     Hale County        RUCC_2023   \n",
       "98  01065    AL     Hale County      Description   \n",
       "99  01067    AL    Henry County  Population_2020   \n",
       "\n",
       "                                                Value  \n",
       "0                                               58805  \n",
       "1                                                   2  \n",
       "2   Metro - Counties in metro areas of 250,000 to ...  \n",
       "3                                              231767  \n",
       "4                                                   3  \n",
       "..                                                ...  \n",
       "95  Metro - Counties in metro areas of 250,000 to ...  \n",
       "96                                              14785  \n",
       "97                                                  2  \n",
       "98  Metro - Counties in metro areas of 250,000 to ...  \n",
       "99                                              17146  \n",
       "\n",
       "[100 rows x 5 columns]"
      ]
     },
     "execution_count": 46,
     "metadata": {},
     "output_type": "execute_result"
    }
   ],
   "source": [
    "df_ky_income = pd.read_csv(\"../data/HDPulse_data_income.csv\", skiprows=4)\n",
    "df_renamed_inc = df_ky_income.rename(columns={'Rank within US (of 3141 counties)': 'Median Household Income Rank Within US (of 3141 counties)'}, inplace=False)\n",
    "\n",
    "df_renamed_inc.head(130)\n",
    "\n",
    "df_ky_education = pd.read_csv(\"../data/HDPulse_data_education.csv\", skiprows=5)\n",
    "df_renamed_edu = df_ky_education.rename(columns={'Rank within US (of 3143 counties)': \"Education Rank Within US (of 3141 counties)\"}, inplace=False)\n",
    "\n",
    "df_renamed_edu.head(130)\n",
    "\n",
    "df_income_allstates_inc = pd.read_csv(\"../data/HDPulse_data_income_allstates.csv\", skiprows=4)\n",
    "df_renamed_allstates_inc = df_income_allstates_inc.rename(columns={\"Value (Dollars)\": \"Median Household Income (Dollars)\"}, inplace=False)\n",
    "\n",
    "df_renamed_allstates_inc.head(60)\n",
    "\n",
    "df_education_allstates = pd.read_csv(\"../data/HDPulse_data_education_allstates.csv\", skiprows=5)\n",
    "df_renamed_allstates_edu = df_education_allstates.rename(columns={\"Value (Percent)\": \"People (Education: At Least Bachelor's Degree) %\"}, inplace=False)\n",
    "\n",
    "df_renamed_allstates_edu.head(60)\n",
    "\n",
    "\n",
    "df_rucc = pd.read_csv(\"../data/rucc_codes_2023.csv\", encoding='latin1')\n",
    "df_rucc['FIPS'] = df_rucc['FIPS'].astype(str).str.zfill(5)\n",
    "df_rucc.head(100)"
   ]
  },
  {
   "cell_type": "code",
   "execution_count": 47,
   "id": "9da32a1d",
   "metadata": {},
   "outputs": [
    {
     "data": {
      "application/vnd.microsoft.datawrangler.viewer.v0+json": {
       "columns": [
        {
         "name": "index",
         "rawType": "int64",
         "type": "integer"
        },
        {
         "name": "County",
         "rawType": "object",
         "type": "string"
        },
        {
         "name": "FIPS_x",
         "rawType": "float64",
         "type": "float"
        },
        {
         "name": "Value (Dollars)",
         "rawType": "object",
         "type": "unknown"
        },
        {
         "name": "Median Household Income Rank Within US (of 3141 counties)",
         "rawType": "object",
         "type": "unknown"
        },
        {
         "name": "FIPS_y",
         "rawType": "float64",
         "type": "float"
        },
        {
         "name": "Value (Percent)",
         "rawType": "float64",
         "type": "float"
        },
        {
         "name": "People (Education: At Least Bachelor's Degree)",
         "rawType": "float64",
         "type": "float"
        },
        {
         "name": "Education Rank Within US (of 3141 counties)",
         "rawType": "object",
         "type": "unknown"
        }
       ],
       "ref": "c5c9c0fb-e6dd-4651-bd39-6028a038c889",
       "rows": [
        [
         "0",
         "Adair County",
         "21001.0",
         "50,316",
         "2,664",
         "21001.0",
         "18.8",
         "2402.0",
         "2,043"
        ],
        [
         "1",
         "Allen County",
         "21003.0",
         "59,029",
         "2,016",
         "21003.0",
         "17.4",
         "2546.0",
         "2,295"
        ],
        [
         "2",
         "Anderson County",
         "21005.0",
         "71,747",
         "917",
         "21005.0",
         "25.7",
         "4290.0",
         "1,028"
        ],
        [
         "3",
         "Ballard County",
         "21007.0",
         "64,740",
         "1,468",
         "21007.0",
         "18.7",
         "1028.0",
         "2,064"
        ],
        [
         "4",
         "Barren County",
         "21009.0",
         "49,171",
         "2,736",
         "21009.0",
         "17.8",
         "5497.0",
         "2,228"
        ],
        [
         "5",
         "Bath County",
         "21011.0",
         "54,128",
         "2,410",
         "21011.0",
         "14.4",
         "1227.0",
         "2,759"
        ],
        [
         "6",
         "Bell County",
         "21013.0",
         "32,403",
         "3,124",
         "21013.0",
         "13.9",
         "2343.0",
         "2,810"
        ],
        [
         "7",
         "Boone County",
         "21015.0",
         "94,752",
         "198",
         "21015.0",
         "35.4",
         "32143.0",
         "405"
        ],
        [
         "8",
         "Bourbon County",
         "21017.0",
         "56,322",
         "2,250",
         "21017.0",
         "25.5",
         "3535.0",
         "1,055"
        ],
        [
         "9",
         "Boyd County",
         "21019.0",
         "60,659",
         "1,850",
         "21019.0",
         "19.4",
         "6648.0",
         "1,932"
        ],
        [
         "10",
         "Boyle County",
         "21021.0",
         "61,635",
         "1,756",
         "21021.0",
         "27.4",
         "5671.0",
         "878"
        ],
        [
         "11",
         "Bracken County",
         "21023.0",
         "59,521",
         "1,961",
         "21023.0",
         "17.0",
         "991.0",
         "2,352"
        ],
        [
         "12",
         "Breathitt County",
         "21025.0",
         "41,101",
         "3,031",
         "21025.0",
         "16.5",
         "1606.0",
         "2,432"
        ],
        [
         "13",
         "Breckinridge County",
         "21027.0",
         "53,673",
         "2,443",
         "21027.0",
         "14.9",
         "2131.0",
         "2,694"
        ],
        [
         "14",
         "Bullitt County",
         "21029.0",
         "77,640",
         "596",
         "21029.0",
         "18.9",
         "11210.0",
         "2,022"
        ],
        [
         "15",
         "Butler County",
         "21031.0",
         "52,003",
         "2,559",
         "21031.0",
         "9.5",
         "826.0",
         "3,108"
        ],
        [
         "16",
         "Caldwell County",
         "21033.0",
         "57,618",
         "2,132",
         "21033.0",
         "18.1",
         "1591.0",
         "2,177"
        ],
        [
         "17",
         "Calloway County",
         "21035.0",
         "51,854",
         "2,570",
         "21035.0",
         "32.3",
         "7557.0",
         "568"
        ],
        [
         "18",
         "Campbell County",
         "21037.0",
         "77,271",
         "616",
         "21037.0",
         "39.5",
         "25815.0",
         "267"
        ],
        [
         "19",
         "Carlisle County",
         "21039.0",
         "62,019",
         "1,715",
         "21039.0",
         "14.6",
         "484.0",
         "2,729"
        ],
        [
         "20",
         "Carroll County",
         "21041.0",
         "57,753",
         "2,124",
         "21041.0",
         "8.9",
         "635.0",
         "3,117"
        ],
        [
         "21",
         "Carter County",
         "21043.0",
         "50,389",
         "2,661",
         "21043.0",
         "15.4",
         "2820.0",
         "2,613"
        ],
        [
         "22",
         "Casey County",
         "21045.0",
         "41,689",
         "3,016",
         "21045.0",
         "11.8",
         "1303.0",
         "3,003"
        ],
        [
         "23",
         "Christian County",
         "21047.0",
         "54,190",
         "2,406",
         "21047.0",
         "20.0",
         "8301.0",
         "1,835"
        ],
        [
         "24",
         "Clark County",
         "21049.0",
         "67,824",
         "1,214",
         "21049.0",
         "22.2",
         "5779.0",
         "1,458"
        ],
        [
         "25",
         "Clay County",
         "21051.0",
         "39,607",
         "3,056",
         "21051.0",
         "16.6",
         "2409.0",
         "2,412"
        ],
        [
         "26",
         "Clinton County",
         "21053.0",
         "42,168",
         "3,000",
         "21053.0",
         "16.5",
         "1086.0",
         "2,432"
        ],
        [
         "27",
         "Crittenden County",
         "21055.0",
         "47,003",
         "2,842",
         "21055.0",
         "12.6",
         "796.0",
         "2,944"
        ],
        [
         "28",
         "Cumberland County",
         "21057.0",
         "39,662",
         "3,055",
         "21057.0",
         "17.5",
         "756.0",
         "2,276"
        ],
        [
         "29",
         "Daviess County",
         "21059.0",
         "65,323",
         "1,398",
         "21059.0",
         "25.2",
         "17506.0",
         "1,090"
        ],
        [
         "30",
         "Edmonson County",
         "21061.0",
         "54,512",
         "2,384",
         "21061.0",
         "10.3",
         "939.0",
         "3,091"
        ],
        [
         "31",
         "Elliott County",
         "21063.0",
         "40,074",
         "3,051",
         "21063.0",
         "6.2",
         "349.0",
         "3,138"
        ],
        [
         "32",
         "Estill County",
         "21065.0",
         "43,905",
         "2,953",
         "21065.0",
         "9.9",
         "1001.0",
         "3,100"
        ],
        [
         "33",
         "Fayette County",
         "21067.0",
         "67,631",
         "1,236",
         "21067.0",
         "47.3",
         "99135.0",
         "122"
        ],
        [
         "34",
         "Fleming County",
         "21069.0",
         "49,663",
         "2,707",
         "21069.0",
         "16.4",
         "1696.0",
         "2,447"
        ],
        [
         "35",
         "Floyd County",
         "21071.0",
         "41,582",
         "3,019",
         "21071.0",
         "15.1",
         "3773.0",
         "2,665"
        ],
        [
         "36",
         "For more information about Education (At least bachelor's degree), see the dictionary at http://hdpulse.nimhd.nih.gov/dictionary.php#education.",
         null,
         null,
         null,
         null,
         null,
         null,
         null
        ],
        [
         "37",
         "For more information about Income (Median household income), see the dictionary at http://hdpulse.nimhd.nih.gov/dictionary.php#income.",
         null,
         null,
         null,
         null,
         null,
         null,
         null
        ],
        [
         "38",
         "Franklin County",
         "21073.0",
         "66,470",
         "1,317",
         "21073.0",
         "31.8",
         "11540.0",
         "599"
        ],
        [
         "39",
         "Fulton County",
         "21075.0",
         "36,834",
         "3,094",
         "21075.0",
         "17.3",
         "781.0",
         "2,308"
        ],
        [
         "40",
         "Gallatin County",
         "21077.0",
         "62,247",
         "1,702",
         "21077.0",
         "13.2",
         "792.0",
         "2,886"
        ],
        [
         "41",
         "Garrard County",
         "21079.0",
         "62,572",
         "1,669",
         "21079.0",
         "19.1",
         "2352.0",
         "1,977"
        ],
        [
         "42",
         "Grant County",
         "21081.0",
         "67,940",
         "1,203",
         "21081.0",
         "15.1",
         "2458.0",
         "2,665"
        ],
        [
         "43",
         "Graves County",
         "21083.0",
         "50,576",
         "2,641",
         "21083.0",
         "17.4",
         "4338.0",
         "2,295"
        ],
        [
         "44",
         "Grayson County",
         "21085.0",
         "49,893",
         "2,694",
         "21085.0",
         "14.6",
         "2677.0",
         "2,729"
        ],
        [
         "45",
         "Green County",
         "21087.0",
         "41,087",
         "3,032",
         "21087.0",
         "16.6",
         "1361.0",
         "2,412"
        ],
        [
         "46",
         "Greenup County",
         "21089.0",
         "59,613",
         "1,954",
         "21089.0",
         "18.3",
         "4674.0",
         "2,138"
        ],
        [
         "47",
         "HDPulse: An Ecosystem of Minority Health and Health Disparities Resources. National Institute on Minority Health and Health Disparities. Created 9/19/2025. Available from https://hdpulse.nimhd.nih.gov",
         null,
         null,
         null,
         null,
         null,
         null,
         null
        ],
        [
         "48",
         "Hancock County",
         "21091.0",
         "66,836",
         "1,295",
         "21091.0",
         "16.8",
         "1032.0",
         "2,375"
        ],
        [
         "49",
         "Hardin County",
         "21093.0",
         "67,608",
         "1,239",
         "21093.0",
         "24.4",
         "18171.0",
         "1,182"
        ]
       ],
       "shape": {
        "columns": 8,
        "rows": 130
       }
      },
      "text/html": [
       "<div>\n",
       "<style scoped>\n",
       "    .dataframe tbody tr th:only-of-type {\n",
       "        vertical-align: middle;\n",
       "    }\n",
       "\n",
       "    .dataframe tbody tr th {\n",
       "        vertical-align: top;\n",
       "    }\n",
       "\n",
       "    .dataframe thead th {\n",
       "        text-align: right;\n",
       "    }\n",
       "</style>\n",
       "<table border=\"1\" class=\"dataframe\">\n",
       "  <thead>\n",
       "    <tr style=\"text-align: right;\">\n",
       "      <th></th>\n",
       "      <th>County</th>\n",
       "      <th>FIPS_x</th>\n",
       "      <th>Value (Dollars)</th>\n",
       "      <th>Median Household Income Rank Within US (of 3141 counties)</th>\n",
       "      <th>FIPS_y</th>\n",
       "      <th>Value (Percent)</th>\n",
       "      <th>People (Education: At Least Bachelor's Degree)</th>\n",
       "      <th>Education Rank Within US (of 3141 counties)</th>\n",
       "    </tr>\n",
       "  </thead>\n",
       "  <tbody>\n",
       "    <tr>\n",
       "      <th>0</th>\n",
       "      <td>Adair County</td>\n",
       "      <td>21,001</td>\n",
       "      <td>50,316</td>\n",
       "      <td>2,664</td>\n",
       "      <td>21,001</td>\n",
       "      <td>19</td>\n",
       "      <td>2,402</td>\n",
       "      <td>2,043</td>\n",
       "    </tr>\n",
       "    <tr>\n",
       "      <th>1</th>\n",
       "      <td>Allen County</td>\n",
       "      <td>21,003</td>\n",
       "      <td>59,029</td>\n",
       "      <td>2,016</td>\n",
       "      <td>21,003</td>\n",
       "      <td>17</td>\n",
       "      <td>2,546</td>\n",
       "      <td>2,295</td>\n",
       "    </tr>\n",
       "    <tr>\n",
       "      <th>2</th>\n",
       "      <td>Anderson County</td>\n",
       "      <td>21,005</td>\n",
       "      <td>71,747</td>\n",
       "      <td>917</td>\n",
       "      <td>21,005</td>\n",
       "      <td>26</td>\n",
       "      <td>4,290</td>\n",
       "      <td>1,028</td>\n",
       "    </tr>\n",
       "    <tr>\n",
       "      <th>3</th>\n",
       "      <td>Ballard County</td>\n",
       "      <td>21,007</td>\n",
       "      <td>64,740</td>\n",
       "      <td>1,468</td>\n",
       "      <td>21,007</td>\n",
       "      <td>19</td>\n",
       "      <td>1,028</td>\n",
       "      <td>2,064</td>\n",
       "    </tr>\n",
       "    <tr>\n",
       "      <th>4</th>\n",
       "      <td>Barren County</td>\n",
       "      <td>21,009</td>\n",
       "      <td>49,171</td>\n",
       "      <td>2,736</td>\n",
       "      <td>21,009</td>\n",
       "      <td>18</td>\n",
       "      <td>5,497</td>\n",
       "      <td>2,228</td>\n",
       "    </tr>\n",
       "    <tr>\n",
       "      <th>...</th>\n",
       "      <td>...</td>\n",
       "      <td>...</td>\n",
       "      <td>...</td>\n",
       "      <td>...</td>\n",
       "      <td>...</td>\n",
       "      <td>...</td>\n",
       "      <td>...</td>\n",
       "      <td>...</td>\n",
       "    </tr>\n",
       "    <tr>\n",
       "      <th>125</th>\n",
       "      <td>Wayne County</td>\n",
       "      <td>21,231</td>\n",
       "      <td>41,933</td>\n",
       "      <td>3,006</td>\n",
       "      <td>21,231</td>\n",
       "      <td>14</td>\n",
       "      <td>1,931</td>\n",
       "      <td>2,830</td>\n",
       "    </tr>\n",
       "    <tr>\n",
       "      <th>126</th>\n",
       "      <td>Webster County</td>\n",
       "      <td>21,233</td>\n",
       "      <td>58,786</td>\n",
       "      <td>2,049</td>\n",
       "      <td>21,233</td>\n",
       "      <td>13</td>\n",
       "      <td>1,099</td>\n",
       "      <td>2,944</td>\n",
       "    </tr>\n",
       "    <tr>\n",
       "      <th>127</th>\n",
       "      <td>Whitley County</td>\n",
       "      <td>21,235</td>\n",
       "      <td>41,719</td>\n",
       "      <td>3,015</td>\n",
       "      <td>21,235</td>\n",
       "      <td>20</td>\n",
       "      <td>4,580</td>\n",
       "      <td>1,871</td>\n",
       "    </tr>\n",
       "    <tr>\n",
       "      <th>128</th>\n",
       "      <td>Wolfe County</td>\n",
       "      <td>21,237</td>\n",
       "      <td>29,052</td>\n",
       "      <td>3,136</td>\n",
       "      <td>21,237</td>\n",
       "      <td>7</td>\n",
       "      <td>333</td>\n",
       "      <td>3,133</td>\n",
       "    </tr>\n",
       "    <tr>\n",
       "      <th>129</th>\n",
       "      <td>Woodford County</td>\n",
       "      <td>21,239</td>\n",
       "      <td>80,006</td>\n",
       "      <td>506</td>\n",
       "      <td>21,239</td>\n",
       "      <td>42</td>\n",
       "      <td>7,826</td>\n",
       "      <td>216</td>\n",
       "    </tr>\n",
       "  </tbody>\n",
       "</table>\n",
       "<p>130 rows × 8 columns</p>\n",
       "</div>"
      ],
      "text/plain": [
       "              County  FIPS_x Value (Dollars)  \\\n",
       "0       Adair County  21,001          50,316   \n",
       "1       Allen County  21,003          59,029   \n",
       "2    Anderson County  21,005          71,747   \n",
       "3     Ballard County  21,007          64,740   \n",
       "4      Barren County  21,009          49,171   \n",
       "..               ...     ...             ...   \n",
       "125     Wayne County  21,231          41,933   \n",
       "126   Webster County  21,233          58,786   \n",
       "127   Whitley County  21,235          41,719   \n",
       "128     Wolfe County  21,237          29,052   \n",
       "129  Woodford County  21,239          80,006   \n",
       "\n",
       "    Median Household Income Rank Within US (of 3141 counties)  FIPS_y  \\\n",
       "0                                                2,664         21,001   \n",
       "1                                                2,016         21,003   \n",
       "2                                                  917         21,005   \n",
       "3                                                1,468         21,007   \n",
       "4                                                2,736         21,009   \n",
       "..                                                 ...            ...   \n",
       "125                                              3,006         21,231   \n",
       "126                                              2,049         21,233   \n",
       "127                                              3,015         21,235   \n",
       "128                                              3,136         21,237   \n",
       "129                                                506         21,239   \n",
       "\n",
       "     Value (Percent)  People (Education: At Least Bachelor's Degree)  \\\n",
       "0                 19                                           2,402   \n",
       "1                 17                                           2,546   \n",
       "2                 26                                           4,290   \n",
       "3                 19                                           1,028   \n",
       "4                 18                                           5,497   \n",
       "..               ...                                             ...   \n",
       "125               14                                           1,931   \n",
       "126               13                                           1,099   \n",
       "127               20                                           4,580   \n",
       "128                7                                             333   \n",
       "129               42                                           7,826   \n",
       "\n",
       "    Education Rank Within US (of 3141 counties)  \n",
       "0                                         2,043  \n",
       "1                                         2,295  \n",
       "2                                         1,028  \n",
       "3                                         2,064  \n",
       "4                                         2,228  \n",
       "..                                          ...  \n",
       "125                                       2,830  \n",
       "126                                       2,944  \n",
       "127                                       1,871  \n",
       "128                                       3,133  \n",
       "129                                         216  \n",
       "\n",
       "[130 rows x 8 columns]"
      ]
     },
     "execution_count": 47,
     "metadata": {},
     "output_type": "execute_result"
    }
   ],
   "source": [
    "merged_df_ky = pd.merge(df_renamed_inc, df_renamed_edu, on=\"County\", how=\"outer\")\n",
    "\n",
    "merged_df_ky.head(130)"
   ]
  },
  {
   "cell_type": "code",
   "execution_count": 48,
   "id": "aa86eb67",
   "metadata": {},
   "outputs": [
    {
     "data": {
      "application/vnd.microsoft.datawrangler.viewer.v0+json": {
       "columns": [
        {
         "name": "index",
         "rawType": "int64",
         "type": "integer"
        },
        {
         "name": "County",
         "rawType": "object",
         "type": "string"
        },
        {
         "name": "FIPS (Federal Information Processing Standards)",
         "rawType": "float64",
         "type": "float"
        },
        {
         "name": "Value (Dollars)",
         "rawType": "object",
         "type": "unknown"
        },
        {
         "name": "Median Household Income Rank Within US (of 3141 counties)",
         "rawType": "object",
         "type": "unknown"
        },
        {
         "name": "Value (Percent)",
         "rawType": "float64",
         "type": "float"
        },
        {
         "name": "People (Education: At Least Bachelor's Degree)",
         "rawType": "float64",
         "type": "float"
        },
        {
         "name": "Education Rank Within US (of 3141 counties)",
         "rawType": "object",
         "type": "unknown"
        }
       ],
       "ref": "56dd098f-b139-4304-a0e2-9828a304f3e9",
       "rows": [
        [
         "0",
         "United States",
         "0.0",
         "78,538",
         null,
         "35.0",
         "79954302.0",
         null
        ],
        [
         "1",
         "Kentucky",
         "21000.0",
         "62,417",
         "45 of 52",
         "27.0",
         "830856.0",
         "48 of 52"
        ],
        [
         "2",
         "Adair County",
         "21001.0",
         "50,316",
         "2,664",
         "18.8",
         "2402.0",
         "2,043"
        ],
        [
         "3",
         "Allen County",
         "21003.0",
         "59,029",
         "2,016",
         "17.4",
         "2546.0",
         "2,295"
        ],
        [
         "4",
         "Anderson County",
         "21005.0",
         "71,747",
         "917",
         "25.7",
         "4290.0",
         "1,028"
        ],
        [
         "5",
         "Ballard County",
         "21007.0",
         "64,740",
         "1,468",
         "18.7",
         "1028.0",
         "2,064"
        ],
        [
         "6",
         "Barren County",
         "21009.0",
         "49,171",
         "2,736",
         "17.8",
         "5497.0",
         "2,228"
        ],
        [
         "7",
         "Bath County",
         "21011.0",
         "54,128",
         "2,410",
         "14.4",
         "1227.0",
         "2,759"
        ],
        [
         "8",
         "Bell County",
         "21013.0",
         "32,403",
         "3,124",
         "13.9",
         "2343.0",
         "2,810"
        ],
        [
         "9",
         "Boone County",
         "21015.0",
         "94,752",
         "198",
         "35.4",
         "32143.0",
         "405"
        ],
        [
         "10",
         "Bourbon County",
         "21017.0",
         "56,322",
         "2,250",
         "25.5",
         "3535.0",
         "1,055"
        ],
        [
         "11",
         "Boyd County",
         "21019.0",
         "60,659",
         "1,850",
         "19.4",
         "6648.0",
         "1,932"
        ],
        [
         "12",
         "Boyle County",
         "21021.0",
         "61,635",
         "1,756",
         "27.4",
         "5671.0",
         "878"
        ],
        [
         "13",
         "Bracken County",
         "21023.0",
         "59,521",
         "1,961",
         "17.0",
         "991.0",
         "2,352"
        ],
        [
         "14",
         "Breathitt County",
         "21025.0",
         "41,101",
         "3,031",
         "16.5",
         "1606.0",
         "2,432"
        ],
        [
         "15",
         "Breckinridge County",
         "21027.0",
         "53,673",
         "2,443",
         "14.9",
         "2131.0",
         "2,694"
        ],
        [
         "16",
         "Bullitt County",
         "21029.0",
         "77,640",
         "596",
         "18.9",
         "11210.0",
         "2,022"
        ],
        [
         "17",
         "Butler County",
         "21031.0",
         "52,003",
         "2,559",
         "9.5",
         "826.0",
         "3,108"
        ],
        [
         "18",
         "Caldwell County",
         "21033.0",
         "57,618",
         "2,132",
         "18.1",
         "1591.0",
         "2,177"
        ],
        [
         "19",
         "Calloway County",
         "21035.0",
         "51,854",
         "2,570",
         "32.3",
         "7557.0",
         "568"
        ],
        [
         "20",
         "Campbell County",
         "21037.0",
         "77,271",
         "616",
         "39.5",
         "25815.0",
         "267"
        ],
        [
         "21",
         "Carlisle County",
         "21039.0",
         "62,019",
         "1,715",
         "14.6",
         "484.0",
         "2,729"
        ],
        [
         "22",
         "Carroll County",
         "21041.0",
         "57,753",
         "2,124",
         "8.9",
         "635.0",
         "3,117"
        ],
        [
         "23",
         "Carter County",
         "21043.0",
         "50,389",
         "2,661",
         "15.4",
         "2820.0",
         "2,613"
        ],
        [
         "24",
         "Casey County",
         "21045.0",
         "41,689",
         "3,016",
         "11.8",
         "1303.0",
         "3,003"
        ],
        [
         "25",
         "Christian County",
         "21047.0",
         "54,190",
         "2,406",
         "20.0",
         "8301.0",
         "1,835"
        ],
        [
         "26",
         "Clark County",
         "21049.0",
         "67,824",
         "1,214",
         "22.2",
         "5779.0",
         "1,458"
        ],
        [
         "27",
         "Clay County",
         "21051.0",
         "39,607",
         "3,056",
         "16.6",
         "2409.0",
         "2,412"
        ],
        [
         "28",
         "Clinton County",
         "21053.0",
         "42,168",
         "3,000",
         "16.5",
         "1086.0",
         "2,432"
        ],
        [
         "29",
         "Crittenden County",
         "21055.0",
         "47,003",
         "2,842",
         "12.6",
         "796.0",
         "2,944"
        ],
        [
         "30",
         "Cumberland County",
         "21057.0",
         "39,662",
         "3,055",
         "17.5",
         "756.0",
         "2,276"
        ],
        [
         "31",
         "Daviess County",
         "21059.0",
         "65,323",
         "1,398",
         "25.2",
         "17506.0",
         "1,090"
        ],
        [
         "32",
         "Edmonson County",
         "21061.0",
         "54,512",
         "2,384",
         "10.3",
         "939.0",
         "3,091"
        ],
        [
         "33",
         "Elliott County",
         "21063.0",
         "40,074",
         "3,051",
         "6.2",
         "349.0",
         "3,138"
        ],
        [
         "34",
         "Estill County",
         "21065.0",
         "43,905",
         "2,953",
         "9.9",
         "1001.0",
         "3,100"
        ],
        [
         "35",
         "Fayette County",
         "21067.0",
         "67,631",
         "1,236",
         "47.3",
         "99135.0",
         "122"
        ],
        [
         "36",
         "Fleming County",
         "21069.0",
         "49,663",
         "2,707",
         "16.4",
         "1696.0",
         "2,447"
        ],
        [
         "37",
         "Floyd County",
         "21071.0",
         "41,582",
         "3,019",
         "15.1",
         "3773.0",
         "2,665"
        ],
        [
         "38",
         "For more information about Education (At least bachelor's degree), see the dictionary at http://hdpulse.nimhd.nih.gov/dictionary.php#education.",
         null,
         null,
         null,
         null,
         null,
         null
        ],
        [
         "39",
         "For more information about Income (Median household income), see the dictionary at http://hdpulse.nimhd.nih.gov/dictionary.php#income.",
         null,
         null,
         null,
         null,
         null,
         null
        ],
        [
         "40",
         "Franklin County",
         "21073.0",
         "66,470",
         "1,317",
         "31.8",
         "11540.0",
         "599"
        ],
        [
         "41",
         "Fulton County",
         "21075.0",
         "36,834",
         "3,094",
         "17.3",
         "781.0",
         "2,308"
        ],
        [
         "42",
         "Gallatin County",
         "21077.0",
         "62,247",
         "1,702",
         "13.2",
         "792.0",
         "2,886"
        ],
        [
         "43",
         "Garrard County",
         "21079.0",
         "62,572",
         "1,669",
         "19.1",
         "2352.0",
         "1,977"
        ],
        [
         "44",
         "Grant County",
         "21081.0",
         "67,940",
         "1,203",
         "15.1",
         "2458.0",
         "2,665"
        ],
        [
         "45",
         "Graves County",
         "21083.0",
         "50,576",
         "2,641",
         "17.4",
         "4338.0",
         "2,295"
        ],
        [
         "46",
         "Grayson County",
         "21085.0",
         "49,893",
         "2,694",
         "14.6",
         "2677.0",
         "2,729"
        ],
        [
         "47",
         "Green County",
         "21087.0",
         "41,087",
         "3,032",
         "16.6",
         "1361.0",
         "2,412"
        ],
        [
         "48",
         "Greenup County",
         "21089.0",
         "59,613",
         "1,954",
         "18.3",
         "4674.0",
         "2,138"
        ],
        [
         "49",
         "HDPulse: An Ecosystem of Minority Health and Health Disparities Resources. National Institute on Minority Health and Health Disparities. Created 9/19/2025. Available from https://hdpulse.nimhd.nih.gov",
         null,
         null,
         null,
         null,
         null,
         null
        ]
       ],
       "shape": {
        "columns": 7,
        "rows": 130
       }
      },
      "text/html": [
       "<div>\n",
       "<style scoped>\n",
       "    .dataframe tbody tr th:only-of-type {\n",
       "        vertical-align: middle;\n",
       "    }\n",
       "\n",
       "    .dataframe tbody tr th {\n",
       "        vertical-align: top;\n",
       "    }\n",
       "\n",
       "    .dataframe thead th {\n",
       "        text-align: right;\n",
       "    }\n",
       "</style>\n",
       "<table border=\"1\" class=\"dataframe\">\n",
       "  <thead>\n",
       "    <tr style=\"text-align: right;\">\n",
       "      <th></th>\n",
       "      <th>County</th>\n",
       "      <th>FIPS (Federal Information Processing Standards)</th>\n",
       "      <th>Value (Dollars)</th>\n",
       "      <th>Median Household Income Rank Within US (of 3141 counties)</th>\n",
       "      <th>Value (Percent)</th>\n",
       "      <th>People (Education: At Least Bachelor's Degree)</th>\n",
       "      <th>Education Rank Within US (of 3141 counties)</th>\n",
       "    </tr>\n",
       "  </thead>\n",
       "  <tbody>\n",
       "    <tr>\n",
       "      <th>0</th>\n",
       "      <td>United States</td>\n",
       "      <td>0</td>\n",
       "      <td>78,538</td>\n",
       "      <td>NaN</td>\n",
       "      <td>35</td>\n",
       "      <td>79,954,302</td>\n",
       "      <td>NaN</td>\n",
       "    </tr>\n",
       "    <tr>\n",
       "      <th>1</th>\n",
       "      <td>Kentucky</td>\n",
       "      <td>21,000</td>\n",
       "      <td>62,417</td>\n",
       "      <td>45 of 52</td>\n",
       "      <td>27</td>\n",
       "      <td>830,856</td>\n",
       "      <td>48 of 52</td>\n",
       "    </tr>\n",
       "    <tr>\n",
       "      <th>2</th>\n",
       "      <td>Adair County</td>\n",
       "      <td>21,001</td>\n",
       "      <td>50,316</td>\n",
       "      <td>2,664</td>\n",
       "      <td>19</td>\n",
       "      <td>2,402</td>\n",
       "      <td>2,043</td>\n",
       "    </tr>\n",
       "    <tr>\n",
       "      <th>3</th>\n",
       "      <td>Allen County</td>\n",
       "      <td>21,003</td>\n",
       "      <td>59,029</td>\n",
       "      <td>2,016</td>\n",
       "      <td>17</td>\n",
       "      <td>2,546</td>\n",
       "      <td>2,295</td>\n",
       "    </tr>\n",
       "    <tr>\n",
       "      <th>4</th>\n",
       "      <td>Anderson County</td>\n",
       "      <td>21,005</td>\n",
       "      <td>71,747</td>\n",
       "      <td>917</td>\n",
       "      <td>26</td>\n",
       "      <td>4,290</td>\n",
       "      <td>1,028</td>\n",
       "    </tr>\n",
       "    <tr>\n",
       "      <th>...</th>\n",
       "      <td>...</td>\n",
       "      <td>...</td>\n",
       "      <td>...</td>\n",
       "      <td>...</td>\n",
       "      <td>...</td>\n",
       "      <td>...</td>\n",
       "      <td>...</td>\n",
       "    </tr>\n",
       "    <tr>\n",
       "      <th>125</th>\n",
       "      <td>Wayne County</td>\n",
       "      <td>21,231</td>\n",
       "      <td>41,933</td>\n",
       "      <td>3,006</td>\n",
       "      <td>14</td>\n",
       "      <td>1,931</td>\n",
       "      <td>2,830</td>\n",
       "    </tr>\n",
       "    <tr>\n",
       "      <th>126</th>\n",
       "      <td>Webster County</td>\n",
       "      <td>21,233</td>\n",
       "      <td>58,786</td>\n",
       "      <td>2,049</td>\n",
       "      <td>13</td>\n",
       "      <td>1,099</td>\n",
       "      <td>2,944</td>\n",
       "    </tr>\n",
       "    <tr>\n",
       "      <th>127</th>\n",
       "      <td>Whitley County</td>\n",
       "      <td>21,235</td>\n",
       "      <td>41,719</td>\n",
       "      <td>3,015</td>\n",
       "      <td>20</td>\n",
       "      <td>4,580</td>\n",
       "      <td>1,871</td>\n",
       "    </tr>\n",
       "    <tr>\n",
       "      <th>128</th>\n",
       "      <td>Wolfe County</td>\n",
       "      <td>21,237</td>\n",
       "      <td>29,052</td>\n",
       "      <td>3,136</td>\n",
       "      <td>7</td>\n",
       "      <td>333</td>\n",
       "      <td>3,133</td>\n",
       "    </tr>\n",
       "    <tr>\n",
       "      <th>129</th>\n",
       "      <td>Woodford County</td>\n",
       "      <td>21,239</td>\n",
       "      <td>80,006</td>\n",
       "      <td>506</td>\n",
       "      <td>42</td>\n",
       "      <td>7,826</td>\n",
       "      <td>216</td>\n",
       "    </tr>\n",
       "  </tbody>\n",
       "</table>\n",
       "<p>130 rows × 7 columns</p>\n",
       "</div>"
      ],
      "text/plain": [
       "              County  FIPS (Federal Information Processing Standards)  \\\n",
       "0      United States                                                0   \n",
       "1           Kentucky                                           21,000   \n",
       "2       Adair County                                           21,001   \n",
       "3       Allen County                                           21,003   \n",
       "4    Anderson County                                           21,005   \n",
       "..               ...                                              ...   \n",
       "125     Wayne County                                           21,231   \n",
       "126   Webster County                                           21,233   \n",
       "127   Whitley County                                           21,235   \n",
       "128     Wolfe County                                           21,237   \n",
       "129  Woodford County                                           21,239   \n",
       "\n",
       "    Value (Dollars) Median Household Income Rank Within US (of 3141 counties)  \\\n",
       "0            78,538                                                NaN          \n",
       "1            62,417                                           45 of 52          \n",
       "2            50,316                                              2,664          \n",
       "3            59,029                                              2,016          \n",
       "4            71,747                                                917          \n",
       "..              ...                                                ...          \n",
       "125          41,933                                              3,006          \n",
       "126          58,786                                              2,049          \n",
       "127          41,719                                              3,015          \n",
       "128          29,052                                              3,136          \n",
       "129          80,006                                                506          \n",
       "\n",
       "     Value (Percent)  People (Education: At Least Bachelor's Degree)  \\\n",
       "0                 35                                      79,954,302   \n",
       "1                 27                                         830,856   \n",
       "2                 19                                           2,402   \n",
       "3                 17                                           2,546   \n",
       "4                 26                                           4,290   \n",
       "..               ...                                             ...   \n",
       "125               14                                           1,931   \n",
       "126               13                                           1,099   \n",
       "127               20                                           4,580   \n",
       "128                7                                             333   \n",
       "129               42                                           7,826   \n",
       "\n",
       "    Education Rank Within US (of 3141 counties)  \n",
       "0                                           NaN  \n",
       "1                                      48 of 52  \n",
       "2                                         2,043  \n",
       "3                                         2,295  \n",
       "4                                         1,028  \n",
       "..                                          ...  \n",
       "125                                       2,830  \n",
       "126                                       2,944  \n",
       "127                                       1,871  \n",
       "128                                       3,133  \n",
       "129                                         216  \n",
       "\n",
       "[130 rows x 7 columns]"
      ]
     },
     "execution_count": 48,
     "metadata": {},
     "output_type": "execute_result"
    }
   ],
   "source": [
    "row_us = merged_df_ky[merged_df_ky['County'] == 'United States']\n",
    "\n",
    "row_ky = merged_df_ky[merged_df_ky['County'] == 'Kentucky']\n",
    "\n",
    "remaining = merged_df_ky[\n",
    "    (merged_df_ky['County'] != 'United States') & \n",
    "    (merged_df_ky['County'] != 'Kentucky')\n",
    "]\n",
    "\n",
    "merged_df_reordered = pd.concat([row_us, row_ky, remaining], ignore_index=True)\n",
    "\n",
    "merged_df_reordered = merged_df_reordered.drop(columns=['FIPS_y'])\n",
    "\n",
    "merged_df_reordered.rename(columns={'FIPS_x': \"FIPS (Federal Information Processing Standards)\"}, inplace=True)\n",
    "\n",
    "merged_df_reordered.head(130)"
   ]
  },
  {
   "cell_type": "code",
   "execution_count": 49,
   "id": "34841ff6",
   "metadata": {},
   "outputs": [
    {
     "data": {
      "application/vnd.microsoft.datawrangler.viewer.v0+json": {
       "columns": [
        {
         "name": "index",
         "rawType": "int64",
         "type": "integer"
        },
        {
         "name": "County",
         "rawType": "object",
         "type": "string"
        },
        {
         "name": "FIPS (Federal Information Processing Standards)",
         "rawType": "float64",
         "type": "float"
        },
        {
         "name": "Value (Dollars)",
         "rawType": "object",
         "type": "string"
        },
        {
         "name": "Median Household Income Rank Within US (of 3141 counties)",
         "rawType": "object",
         "type": "unknown"
        },
        {
         "name": "Value (Percent)",
         "rawType": "float64",
         "type": "float"
        },
        {
         "name": "People (Education: At Least Bachelor's Degree)",
         "rawType": "float64",
         "type": "float"
        },
        {
         "name": "Education Rank Within US (of 3141 counties)",
         "rawType": "object",
         "type": "unknown"
        }
       ],
       "ref": "56d0065c-1f11-46ad-a163-1367743d91e1",
       "rows": [
        [
         "0",
         "United States",
         "0.0",
         "78,538",
         null,
         "35.0",
         "79954302.0",
         null
        ],
        [
         "1",
         "Kentucky",
         "21000.0",
         "62,417",
         "45 of 52",
         "27.0",
         "830856.0",
         "48 of 52"
        ],
        [
         "2",
         "Adair County",
         "21001.0",
         "50,316",
         "2,664",
         "18.8",
         "2402.0",
         "2,043"
        ],
        [
         "3",
         "Allen County",
         "21003.0",
         "59,029",
         "2,016",
         "17.4",
         "2546.0",
         "2,295"
        ],
        [
         "4",
         "Anderson County",
         "21005.0",
         "71,747",
         "917",
         "25.7",
         "4290.0",
         "1,028"
        ],
        [
         "5",
         "Ballard County",
         "21007.0",
         "64,740",
         "1,468",
         "18.7",
         "1028.0",
         "2,064"
        ],
        [
         "6",
         "Barren County",
         "21009.0",
         "49,171",
         "2,736",
         "17.8",
         "5497.0",
         "2,228"
        ],
        [
         "7",
         "Bath County",
         "21011.0",
         "54,128",
         "2,410",
         "14.4",
         "1227.0",
         "2,759"
        ],
        [
         "8",
         "Bell County",
         "21013.0",
         "32,403",
         "3,124",
         "13.9",
         "2343.0",
         "2,810"
        ],
        [
         "9",
         "Boone County",
         "21015.0",
         "94,752",
         "198",
         "35.4",
         "32143.0",
         "405"
        ],
        [
         "10",
         "Bourbon County",
         "21017.0",
         "56,322",
         "2,250",
         "25.5",
         "3535.0",
         "1,055"
        ],
        [
         "11",
         "Boyd County",
         "21019.0",
         "60,659",
         "1,850",
         "19.4",
         "6648.0",
         "1,932"
        ],
        [
         "12",
         "Boyle County",
         "21021.0",
         "61,635",
         "1,756",
         "27.4",
         "5671.0",
         "878"
        ],
        [
         "13",
         "Bracken County",
         "21023.0",
         "59,521",
         "1,961",
         "17.0",
         "991.0",
         "2,352"
        ],
        [
         "14",
         "Breathitt County",
         "21025.0",
         "41,101",
         "3,031",
         "16.5",
         "1606.0",
         "2,432"
        ],
        [
         "15",
         "Breckinridge County",
         "21027.0",
         "53,673",
         "2,443",
         "14.9",
         "2131.0",
         "2,694"
        ],
        [
         "16",
         "Bullitt County",
         "21029.0",
         "77,640",
         "596",
         "18.9",
         "11210.0",
         "2,022"
        ],
        [
         "17",
         "Butler County",
         "21031.0",
         "52,003",
         "2,559",
         "9.5",
         "826.0",
         "3,108"
        ],
        [
         "18",
         "Caldwell County",
         "21033.0",
         "57,618",
         "2,132",
         "18.1",
         "1591.0",
         "2,177"
        ],
        [
         "19",
         "Calloway County",
         "21035.0",
         "51,854",
         "2,570",
         "32.3",
         "7557.0",
         "568"
        ],
        [
         "20",
         "Campbell County",
         "21037.0",
         "77,271",
         "616",
         "39.5",
         "25815.0",
         "267"
        ],
        [
         "21",
         "Carlisle County",
         "21039.0",
         "62,019",
         "1,715",
         "14.6",
         "484.0",
         "2,729"
        ],
        [
         "22",
         "Carroll County",
         "21041.0",
         "57,753",
         "2,124",
         "8.9",
         "635.0",
         "3,117"
        ],
        [
         "23",
         "Carter County",
         "21043.0",
         "50,389",
         "2,661",
         "15.4",
         "2820.0",
         "2,613"
        ],
        [
         "24",
         "Casey County",
         "21045.0",
         "41,689",
         "3,016",
         "11.8",
         "1303.0",
         "3,003"
        ],
        [
         "25",
         "Christian County",
         "21047.0",
         "54,190",
         "2,406",
         "20.0",
         "8301.0",
         "1,835"
        ],
        [
         "26",
         "Clark County",
         "21049.0",
         "67,824",
         "1,214",
         "22.2",
         "5779.0",
         "1,458"
        ],
        [
         "27",
         "Clay County",
         "21051.0",
         "39,607",
         "3,056",
         "16.6",
         "2409.0",
         "2,412"
        ],
        [
         "28",
         "Clinton County",
         "21053.0",
         "42,168",
         "3,000",
         "16.5",
         "1086.0",
         "2,432"
        ],
        [
         "29",
         "Crittenden County",
         "21055.0",
         "47,003",
         "2,842",
         "12.6",
         "796.0",
         "2,944"
        ],
        [
         "30",
         "Cumberland County",
         "21057.0",
         "39,662",
         "3,055",
         "17.5",
         "756.0",
         "2,276"
        ],
        [
         "31",
         "Daviess County",
         "21059.0",
         "65,323",
         "1,398",
         "25.2",
         "17506.0",
         "1,090"
        ],
        [
         "32",
         "Edmonson County",
         "21061.0",
         "54,512",
         "2,384",
         "10.3",
         "939.0",
         "3,091"
        ],
        [
         "33",
         "Elliott County",
         "21063.0",
         "40,074",
         "3,051",
         "6.2",
         "349.0",
         "3,138"
        ],
        [
         "34",
         "Estill County",
         "21065.0",
         "43,905",
         "2,953",
         "9.9",
         "1001.0",
         "3,100"
        ],
        [
         "35",
         "Fayette County",
         "21067.0",
         "67,631",
         "1,236",
         "47.3",
         "99135.0",
         "122"
        ],
        [
         "36",
         "Fleming County",
         "21069.0",
         "49,663",
         "2,707",
         "16.4",
         "1696.0",
         "2,447"
        ],
        [
         "37",
         "Floyd County",
         "21071.0",
         "41,582",
         "3,019",
         "15.1",
         "3773.0",
         "2,665"
        ],
        [
         "40",
         "Franklin County",
         "21073.0",
         "66,470",
         "1,317",
         "31.8",
         "11540.0",
         "599"
        ],
        [
         "41",
         "Fulton County",
         "21075.0",
         "36,834",
         "3,094",
         "17.3",
         "781.0",
         "2,308"
        ],
        [
         "42",
         "Gallatin County",
         "21077.0",
         "62,247",
         "1,702",
         "13.2",
         "792.0",
         "2,886"
        ],
        [
         "43",
         "Garrard County",
         "21079.0",
         "62,572",
         "1,669",
         "19.1",
         "2352.0",
         "1,977"
        ],
        [
         "44",
         "Grant County",
         "21081.0",
         "67,940",
         "1,203",
         "15.1",
         "2458.0",
         "2,665"
        ],
        [
         "45",
         "Graves County",
         "21083.0",
         "50,576",
         "2,641",
         "17.4",
         "4338.0",
         "2,295"
        ],
        [
         "46",
         "Grayson County",
         "21085.0",
         "49,893",
         "2,694",
         "14.6",
         "2677.0",
         "2,729"
        ],
        [
         "47",
         "Green County",
         "21087.0",
         "41,087",
         "3,032",
         "16.6",
         "1361.0",
         "2,412"
        ],
        [
         "48",
         "Greenup County",
         "21089.0",
         "59,613",
         "1,954",
         "18.3",
         "4674.0",
         "2,138"
        ],
        [
         "50",
         "Hancock County",
         "21091.0",
         "66,836",
         "1,295",
         "16.8",
         "1032.0",
         "2,375"
        ],
        [
         "51",
         "Hardin County",
         "21093.0",
         "67,608",
         "1,239",
         "24.4",
         "18171.0",
         "1,182"
        ],
        [
         "52",
         "Harlan County",
         "21095.0",
         "37,198",
         "3,087",
         "12.7",
         "2326.0",
         "2,929"
        ]
       ],
       "shape": {
        "columns": 7,
        "rows": 122
       }
      },
      "text/html": [
       "<div>\n",
       "<style scoped>\n",
       "    .dataframe tbody tr th:only-of-type {\n",
       "        vertical-align: middle;\n",
       "    }\n",
       "\n",
       "    .dataframe tbody tr th {\n",
       "        vertical-align: top;\n",
       "    }\n",
       "\n",
       "    .dataframe thead th {\n",
       "        text-align: right;\n",
       "    }\n",
       "</style>\n",
       "<table border=\"1\" class=\"dataframe\">\n",
       "  <thead>\n",
       "    <tr style=\"text-align: right;\">\n",
       "      <th></th>\n",
       "      <th>County</th>\n",
       "      <th>FIPS (Federal Information Processing Standards)</th>\n",
       "      <th>Value (Dollars)</th>\n",
       "      <th>Median Household Income Rank Within US (of 3141 counties)</th>\n",
       "      <th>Value (Percent)</th>\n",
       "      <th>People (Education: At Least Bachelor's Degree)</th>\n",
       "      <th>Education Rank Within US (of 3141 counties)</th>\n",
       "    </tr>\n",
       "  </thead>\n",
       "  <tbody>\n",
       "    <tr>\n",
       "      <th>0</th>\n",
       "      <td>United States</td>\n",
       "      <td>0</td>\n",
       "      <td>78,538</td>\n",
       "      <td>NaN</td>\n",
       "      <td>35</td>\n",
       "      <td>79,954,302</td>\n",
       "      <td>NaN</td>\n",
       "    </tr>\n",
       "    <tr>\n",
       "      <th>1</th>\n",
       "      <td>Kentucky</td>\n",
       "      <td>21,000</td>\n",
       "      <td>62,417</td>\n",
       "      <td>45 of 52</td>\n",
       "      <td>27</td>\n",
       "      <td>830,856</td>\n",
       "      <td>48 of 52</td>\n",
       "    </tr>\n",
       "    <tr>\n",
       "      <th>2</th>\n",
       "      <td>Adair County</td>\n",
       "      <td>21,001</td>\n",
       "      <td>50,316</td>\n",
       "      <td>2,664</td>\n",
       "      <td>19</td>\n",
       "      <td>2,402</td>\n",
       "      <td>2,043</td>\n",
       "    </tr>\n",
       "    <tr>\n",
       "      <th>3</th>\n",
       "      <td>Allen County</td>\n",
       "      <td>21,003</td>\n",
       "      <td>59,029</td>\n",
       "      <td>2,016</td>\n",
       "      <td>17</td>\n",
       "      <td>2,546</td>\n",
       "      <td>2,295</td>\n",
       "    </tr>\n",
       "    <tr>\n",
       "      <th>4</th>\n",
       "      <td>Anderson County</td>\n",
       "      <td>21,005</td>\n",
       "      <td>71,747</td>\n",
       "      <td>917</td>\n",
       "      <td>26</td>\n",
       "      <td>4,290</td>\n",
       "      <td>1,028</td>\n",
       "    </tr>\n",
       "    <tr>\n",
       "      <th>...</th>\n",
       "      <td>...</td>\n",
       "      <td>...</td>\n",
       "      <td>...</td>\n",
       "      <td>...</td>\n",
       "      <td>...</td>\n",
       "      <td>...</td>\n",
       "      <td>...</td>\n",
       "    </tr>\n",
       "    <tr>\n",
       "      <th>125</th>\n",
       "      <td>Wayne County</td>\n",
       "      <td>21,231</td>\n",
       "      <td>41,933</td>\n",
       "      <td>3,006</td>\n",
       "      <td>14</td>\n",
       "      <td>1,931</td>\n",
       "      <td>2,830</td>\n",
       "    </tr>\n",
       "    <tr>\n",
       "      <th>126</th>\n",
       "      <td>Webster County</td>\n",
       "      <td>21,233</td>\n",
       "      <td>58,786</td>\n",
       "      <td>2,049</td>\n",
       "      <td>13</td>\n",
       "      <td>1,099</td>\n",
       "      <td>2,944</td>\n",
       "    </tr>\n",
       "    <tr>\n",
       "      <th>127</th>\n",
       "      <td>Whitley County</td>\n",
       "      <td>21,235</td>\n",
       "      <td>41,719</td>\n",
       "      <td>3,015</td>\n",
       "      <td>20</td>\n",
       "      <td>4,580</td>\n",
       "      <td>1,871</td>\n",
       "    </tr>\n",
       "    <tr>\n",
       "      <th>128</th>\n",
       "      <td>Wolfe County</td>\n",
       "      <td>21,237</td>\n",
       "      <td>29,052</td>\n",
       "      <td>3,136</td>\n",
       "      <td>7</td>\n",
       "      <td>333</td>\n",
       "      <td>3,133</td>\n",
       "    </tr>\n",
       "    <tr>\n",
       "      <th>129</th>\n",
       "      <td>Woodford County</td>\n",
       "      <td>21,239</td>\n",
       "      <td>80,006</td>\n",
       "      <td>506</td>\n",
       "      <td>42</td>\n",
       "      <td>7,826</td>\n",
       "      <td>216</td>\n",
       "    </tr>\n",
       "  </tbody>\n",
       "</table>\n",
       "<p>122 rows × 7 columns</p>\n",
       "</div>"
      ],
      "text/plain": [
       "              County  FIPS (Federal Information Processing Standards)  \\\n",
       "0      United States                                                0   \n",
       "1           Kentucky                                           21,000   \n",
       "2       Adair County                                           21,001   \n",
       "3       Allen County                                           21,003   \n",
       "4    Anderson County                                           21,005   \n",
       "..               ...                                              ...   \n",
       "125     Wayne County                                           21,231   \n",
       "126   Webster County                                           21,233   \n",
       "127   Whitley County                                           21,235   \n",
       "128     Wolfe County                                           21,237   \n",
       "129  Woodford County                                           21,239   \n",
       "\n",
       "    Value (Dollars) Median Household Income Rank Within US (of 3141 counties)  \\\n",
       "0            78,538                                                NaN          \n",
       "1            62,417                                           45 of 52          \n",
       "2            50,316                                              2,664          \n",
       "3            59,029                                              2,016          \n",
       "4            71,747                                                917          \n",
       "..              ...                                                ...          \n",
       "125          41,933                                              3,006          \n",
       "126          58,786                                              2,049          \n",
       "127          41,719                                              3,015          \n",
       "128          29,052                                              3,136          \n",
       "129          80,006                                                506          \n",
       "\n",
       "     Value (Percent)  People (Education: At Least Bachelor's Degree)  \\\n",
       "0                 35                                      79,954,302   \n",
       "1                 27                                         830,856   \n",
       "2                 19                                           2,402   \n",
       "3                 17                                           2,546   \n",
       "4                 26                                           4,290   \n",
       "..               ...                                             ...   \n",
       "125               14                                           1,931   \n",
       "126               13                                           1,099   \n",
       "127               20                                           4,580   \n",
       "128                7                                             333   \n",
       "129               42                                           7,826   \n",
       "\n",
       "    Education Rank Within US (of 3141 counties)  \n",
       "0                                           NaN  \n",
       "1                                      48 of 52  \n",
       "2                                         2,043  \n",
       "3                                         2,295  \n",
       "4                                         1,028  \n",
       "..                                          ...  \n",
       "125                                       2,830  \n",
       "126                                       2,944  \n",
       "127                                       1,871  \n",
       "128                                       3,133  \n",
       "129                                         216  \n",
       "\n",
       "[122 rows x 7 columns]"
      ]
     },
     "execution_count": 49,
     "metadata": {},
     "output_type": "execute_result"
    }
   ],
   "source": [
    "merged_df_reordered = merged_df_reordered[\n",
    "    ~merged_df_reordered['County'].str.contains(\n",
    "        \"For more information|An ecosystem|Median incomes over|Data not available|Notes|Demographic data provided|Suggested Citation\",\n",
    "        case=False, na=False\n",
    "    )\n",
    "]\n",
    "\n",
    "merged_df_reordered.head(122)"
   ]
  },
  {
   "cell_type": "code",
   "execution_count": 50,
   "id": "dfe80e9d",
   "metadata": {},
   "outputs": [],
   "source": [
    "# merged_df_reordered.replace(\"Missing value\", np.nan, inplace=True)\n",
    "# merged_df_reordered.head(122).fillna(\"\")"
   ]
  },
  {
   "cell_type": "markdown",
   "id": "349bcbda",
   "metadata": {},
   "source": [
    "This was commented out and I will reimplement this later in the code for visual enhancement"
   ]
  },
  {
   "cell_type": "code",
   "execution_count": 51,
   "id": "5a9db70d",
   "metadata": {},
   "outputs": [],
   "source": [
    "merged_df_reordered[\"People (Education: At Least Bachelor's Degree)\"] = merged_df_reordered[\"People (Education: At Least Bachelor's Degree)\"].astype(float).astype(int)\n"
   ]
  },
  {
   "cell_type": "code",
   "execution_count": 52,
   "id": "c924e515",
   "metadata": {},
   "outputs": [
    {
     "data": {
      "application/vnd.microsoft.datawrangler.viewer.v0+json": {
       "columns": [
        {
         "name": "index",
         "rawType": "int64",
         "type": "integer"
        },
        {
         "name": "County",
         "rawType": "object",
         "type": "string"
        },
        {
         "name": "FIPS (Federal Information Processing Standards)",
         "rawType": "float64",
         "type": "float"
        },
        {
         "name": "Value (Dollars)",
         "rawType": "object",
         "type": "string"
        },
        {
         "name": "Median Household Income Rank Within US (of 3141 counties)",
         "rawType": "object",
         "type": "unknown"
        },
        {
         "name": "Value (Percent)",
         "rawType": "float64",
         "type": "float"
        },
        {
         "name": "People (Education: At Least Bachelor's Degree)",
         "rawType": "object",
         "type": "string"
        },
        {
         "name": "Education Rank Within US (of 3141 counties)",
         "rawType": "object",
         "type": "unknown"
        }
       ],
       "ref": "b2661d98-998a-4cd2-b4b6-4f6b439ab24c",
       "rows": [
        [
         "0",
         "United States",
         "0.0",
         "78,538",
         null,
         "35.0",
         "79,954,302",
         null
        ],
        [
         "1",
         "Kentucky",
         "21000.0",
         "62,417",
         "45 of 52",
         "27.0",
         "830,856",
         "48 of 52"
        ],
        [
         "2",
         "Adair County",
         "21001.0",
         "50,316",
         "2,664",
         "18.8",
         "2,402",
         "2,043"
        ],
        [
         "3",
         "Allen County",
         "21003.0",
         "59,029",
         "2,016",
         "17.4",
         "2,546",
         "2,295"
        ],
        [
         "4",
         "Anderson County",
         "21005.0",
         "71,747",
         "917",
         "25.7",
         "4,290",
         "1,028"
        ],
        [
         "5",
         "Ballard County",
         "21007.0",
         "64,740",
         "1,468",
         "18.7",
         "1,028",
         "2,064"
        ],
        [
         "6",
         "Barren County",
         "21009.0",
         "49,171",
         "2,736",
         "17.8",
         "5,497",
         "2,228"
        ],
        [
         "7",
         "Bath County",
         "21011.0",
         "54,128",
         "2,410",
         "14.4",
         "1,227",
         "2,759"
        ],
        [
         "8",
         "Bell County",
         "21013.0",
         "32,403",
         "3,124",
         "13.9",
         "2,343",
         "2,810"
        ],
        [
         "9",
         "Boone County",
         "21015.0",
         "94,752",
         "198",
         "35.4",
         "32,143",
         "405"
        ],
        [
         "10",
         "Bourbon County",
         "21017.0",
         "56,322",
         "2,250",
         "25.5",
         "3,535",
         "1,055"
        ],
        [
         "11",
         "Boyd County",
         "21019.0",
         "60,659",
         "1,850",
         "19.4",
         "6,648",
         "1,932"
        ],
        [
         "12",
         "Boyle County",
         "21021.0",
         "61,635",
         "1,756",
         "27.4",
         "5,671",
         "878"
        ],
        [
         "13",
         "Bracken County",
         "21023.0",
         "59,521",
         "1,961",
         "17.0",
         "991",
         "2,352"
        ],
        [
         "14",
         "Breathitt County",
         "21025.0",
         "41,101",
         "3,031",
         "16.5",
         "1,606",
         "2,432"
        ],
        [
         "15",
         "Breckinridge County",
         "21027.0",
         "53,673",
         "2,443",
         "14.9",
         "2,131",
         "2,694"
        ],
        [
         "16",
         "Bullitt County",
         "21029.0",
         "77,640",
         "596",
         "18.9",
         "11,210",
         "2,022"
        ],
        [
         "17",
         "Butler County",
         "21031.0",
         "52,003",
         "2,559",
         "9.5",
         "826",
         "3,108"
        ],
        [
         "18",
         "Caldwell County",
         "21033.0",
         "57,618",
         "2,132",
         "18.1",
         "1,591",
         "2,177"
        ],
        [
         "19",
         "Calloway County",
         "21035.0",
         "51,854",
         "2,570",
         "32.3",
         "7,557",
         "568"
        ],
        [
         "20",
         "Campbell County",
         "21037.0",
         "77,271",
         "616",
         "39.5",
         "25,815",
         "267"
        ],
        [
         "21",
         "Carlisle County",
         "21039.0",
         "62,019",
         "1,715",
         "14.6",
         "484",
         "2,729"
        ],
        [
         "22",
         "Carroll County",
         "21041.0",
         "57,753",
         "2,124",
         "8.9",
         "635",
         "3,117"
        ],
        [
         "23",
         "Carter County",
         "21043.0",
         "50,389",
         "2,661",
         "15.4",
         "2,820",
         "2,613"
        ],
        [
         "24",
         "Casey County",
         "21045.0",
         "41,689",
         "3,016",
         "11.8",
         "1,303",
         "3,003"
        ],
        [
         "25",
         "Christian County",
         "21047.0",
         "54,190",
         "2,406",
         "20.0",
         "8,301",
         "1,835"
        ],
        [
         "26",
         "Clark County",
         "21049.0",
         "67,824",
         "1,214",
         "22.2",
         "5,779",
         "1,458"
        ],
        [
         "27",
         "Clay County",
         "21051.0",
         "39,607",
         "3,056",
         "16.6",
         "2,409",
         "2,412"
        ],
        [
         "28",
         "Clinton County",
         "21053.0",
         "42,168",
         "3,000",
         "16.5",
         "1,086",
         "2,432"
        ],
        [
         "29",
         "Crittenden County",
         "21055.0",
         "47,003",
         "2,842",
         "12.6",
         "796",
         "2,944"
        ],
        [
         "30",
         "Cumberland County",
         "21057.0",
         "39,662",
         "3,055",
         "17.5",
         "756",
         "2,276"
        ],
        [
         "31",
         "Daviess County",
         "21059.0",
         "65,323",
         "1,398",
         "25.2",
         "17,506",
         "1,090"
        ],
        [
         "32",
         "Edmonson County",
         "21061.0",
         "54,512",
         "2,384",
         "10.3",
         "939",
         "3,091"
        ],
        [
         "33",
         "Elliott County",
         "21063.0",
         "40,074",
         "3,051",
         "6.2",
         "349",
         "3,138"
        ],
        [
         "34",
         "Estill County",
         "21065.0",
         "43,905",
         "2,953",
         "9.9",
         "1,001",
         "3,100"
        ],
        [
         "35",
         "Fayette County",
         "21067.0",
         "67,631",
         "1,236",
         "47.3",
         "99,135",
         "122"
        ],
        [
         "36",
         "Fleming County",
         "21069.0",
         "49,663",
         "2,707",
         "16.4",
         "1,696",
         "2,447"
        ],
        [
         "37",
         "Floyd County",
         "21071.0",
         "41,582",
         "3,019",
         "15.1",
         "3,773",
         "2,665"
        ],
        [
         "40",
         "Franklin County",
         "21073.0",
         "66,470",
         "1,317",
         "31.8",
         "11,540",
         "599"
        ],
        [
         "41",
         "Fulton County",
         "21075.0",
         "36,834",
         "3,094",
         "17.3",
         "781",
         "2,308"
        ],
        [
         "42",
         "Gallatin County",
         "21077.0",
         "62,247",
         "1,702",
         "13.2",
         "792",
         "2,886"
        ],
        [
         "43",
         "Garrard County",
         "21079.0",
         "62,572",
         "1,669",
         "19.1",
         "2,352",
         "1,977"
        ],
        [
         "44",
         "Grant County",
         "21081.0",
         "67,940",
         "1,203",
         "15.1",
         "2,458",
         "2,665"
        ],
        [
         "45",
         "Graves County",
         "21083.0",
         "50,576",
         "2,641",
         "17.4",
         "4,338",
         "2,295"
        ],
        [
         "46",
         "Grayson County",
         "21085.0",
         "49,893",
         "2,694",
         "14.6",
         "2,677",
         "2,729"
        ],
        [
         "47",
         "Green County",
         "21087.0",
         "41,087",
         "3,032",
         "16.6",
         "1,361",
         "2,412"
        ],
        [
         "48",
         "Greenup County",
         "21089.0",
         "59,613",
         "1,954",
         "18.3",
         "4,674",
         "2,138"
        ],
        [
         "50",
         "Hancock County",
         "21091.0",
         "66,836",
         "1,295",
         "16.8",
         "1,032",
         "2,375"
        ],
        [
         "51",
         "Hardin County",
         "21093.0",
         "67,608",
         "1,239",
         "24.4",
         "18,171",
         "1,182"
        ],
        [
         "52",
         "Harlan County",
         "21095.0",
         "37,198",
         "3,087",
         "12.7",
         "2,326",
         "2,929"
        ]
       ],
       "shape": {
        "columns": 7,
        "rows": 122
       }
      },
      "text/html": [
       "<div>\n",
       "<style scoped>\n",
       "    .dataframe tbody tr th:only-of-type {\n",
       "        vertical-align: middle;\n",
       "    }\n",
       "\n",
       "    .dataframe tbody tr th {\n",
       "        vertical-align: top;\n",
       "    }\n",
       "\n",
       "    .dataframe thead th {\n",
       "        text-align: right;\n",
       "    }\n",
       "</style>\n",
       "<table border=\"1\" class=\"dataframe\">\n",
       "  <thead>\n",
       "    <tr style=\"text-align: right;\">\n",
       "      <th></th>\n",
       "      <th>County</th>\n",
       "      <th>FIPS (Federal Information Processing Standards)</th>\n",
       "      <th>Value (Dollars)</th>\n",
       "      <th>Median Household Income Rank Within US (of 3141 counties)</th>\n",
       "      <th>Value (Percent)</th>\n",
       "      <th>People (Education: At Least Bachelor's Degree)</th>\n",
       "      <th>Education Rank Within US (of 3141 counties)</th>\n",
       "    </tr>\n",
       "  </thead>\n",
       "  <tbody>\n",
       "    <tr>\n",
       "      <th>0</th>\n",
       "      <td>United States</td>\n",
       "      <td>0</td>\n",
       "      <td>78,538</td>\n",
       "      <td>NaN</td>\n",
       "      <td>35</td>\n",
       "      <td>79,954,302</td>\n",
       "      <td>NaN</td>\n",
       "    </tr>\n",
       "    <tr>\n",
       "      <th>1</th>\n",
       "      <td>Kentucky</td>\n",
       "      <td>21,000</td>\n",
       "      <td>62,417</td>\n",
       "      <td>45 of 52</td>\n",
       "      <td>27</td>\n",
       "      <td>830,856</td>\n",
       "      <td>48 of 52</td>\n",
       "    </tr>\n",
       "    <tr>\n",
       "      <th>2</th>\n",
       "      <td>Adair County</td>\n",
       "      <td>21,001</td>\n",
       "      <td>50,316</td>\n",
       "      <td>2,664</td>\n",
       "      <td>19</td>\n",
       "      <td>2,402</td>\n",
       "      <td>2,043</td>\n",
       "    </tr>\n",
       "    <tr>\n",
       "      <th>3</th>\n",
       "      <td>Allen County</td>\n",
       "      <td>21,003</td>\n",
       "      <td>59,029</td>\n",
       "      <td>2,016</td>\n",
       "      <td>17</td>\n",
       "      <td>2,546</td>\n",
       "      <td>2,295</td>\n",
       "    </tr>\n",
       "    <tr>\n",
       "      <th>4</th>\n",
       "      <td>Anderson County</td>\n",
       "      <td>21,005</td>\n",
       "      <td>71,747</td>\n",
       "      <td>917</td>\n",
       "      <td>26</td>\n",
       "      <td>4,290</td>\n",
       "      <td>1,028</td>\n",
       "    </tr>\n",
       "    <tr>\n",
       "      <th>...</th>\n",
       "      <td>...</td>\n",
       "      <td>...</td>\n",
       "      <td>...</td>\n",
       "      <td>...</td>\n",
       "      <td>...</td>\n",
       "      <td>...</td>\n",
       "      <td>...</td>\n",
       "    </tr>\n",
       "    <tr>\n",
       "      <th>125</th>\n",
       "      <td>Wayne County</td>\n",
       "      <td>21,231</td>\n",
       "      <td>41,933</td>\n",
       "      <td>3,006</td>\n",
       "      <td>14</td>\n",
       "      <td>1,931</td>\n",
       "      <td>2,830</td>\n",
       "    </tr>\n",
       "    <tr>\n",
       "      <th>126</th>\n",
       "      <td>Webster County</td>\n",
       "      <td>21,233</td>\n",
       "      <td>58,786</td>\n",
       "      <td>2,049</td>\n",
       "      <td>13</td>\n",
       "      <td>1,099</td>\n",
       "      <td>2,944</td>\n",
       "    </tr>\n",
       "    <tr>\n",
       "      <th>127</th>\n",
       "      <td>Whitley County</td>\n",
       "      <td>21,235</td>\n",
       "      <td>41,719</td>\n",
       "      <td>3,015</td>\n",
       "      <td>20</td>\n",
       "      <td>4,580</td>\n",
       "      <td>1,871</td>\n",
       "    </tr>\n",
       "    <tr>\n",
       "      <th>128</th>\n",
       "      <td>Wolfe County</td>\n",
       "      <td>21,237</td>\n",
       "      <td>29,052</td>\n",
       "      <td>3,136</td>\n",
       "      <td>7</td>\n",
       "      <td>333</td>\n",
       "      <td>3,133</td>\n",
       "    </tr>\n",
       "    <tr>\n",
       "      <th>129</th>\n",
       "      <td>Woodford County</td>\n",
       "      <td>21,239</td>\n",
       "      <td>80,006</td>\n",
       "      <td>506</td>\n",
       "      <td>42</td>\n",
       "      <td>7,826</td>\n",
       "      <td>216</td>\n",
       "    </tr>\n",
       "  </tbody>\n",
       "</table>\n",
       "<p>122 rows × 7 columns</p>\n",
       "</div>"
      ],
      "text/plain": [
       "              County  FIPS (Federal Information Processing Standards)  \\\n",
       "0      United States                                                0   \n",
       "1           Kentucky                                           21,000   \n",
       "2       Adair County                                           21,001   \n",
       "3       Allen County                                           21,003   \n",
       "4    Anderson County                                           21,005   \n",
       "..               ...                                              ...   \n",
       "125     Wayne County                                           21,231   \n",
       "126   Webster County                                           21,233   \n",
       "127   Whitley County                                           21,235   \n",
       "128     Wolfe County                                           21,237   \n",
       "129  Woodford County                                           21,239   \n",
       "\n",
       "    Value (Dollars) Median Household Income Rank Within US (of 3141 counties)  \\\n",
       "0            78,538                                                NaN          \n",
       "1            62,417                                           45 of 52          \n",
       "2            50,316                                              2,664          \n",
       "3            59,029                                              2,016          \n",
       "4            71,747                                                917          \n",
       "..              ...                                                ...          \n",
       "125          41,933                                              3,006          \n",
       "126          58,786                                              2,049          \n",
       "127          41,719                                              3,015          \n",
       "128          29,052                                              3,136          \n",
       "129          80,006                                                506          \n",
       "\n",
       "     Value (Percent) People (Education: At Least Bachelor's Degree)  \\\n",
       "0                 35                                     79,954,302   \n",
       "1                 27                                        830,856   \n",
       "2                 19                                          2,402   \n",
       "3                 17                                          2,546   \n",
       "4                 26                                          4,290   \n",
       "..               ...                                            ...   \n",
       "125               14                                          1,931   \n",
       "126               13                                          1,099   \n",
       "127               20                                          4,580   \n",
       "128                7                                            333   \n",
       "129               42                                          7,826   \n",
       "\n",
       "    Education Rank Within US (of 3141 counties)  \n",
       "0                                           NaN  \n",
       "1                                      48 of 52  \n",
       "2                                         2,043  \n",
       "3                                         2,295  \n",
       "4                                         1,028  \n",
       "..                                          ...  \n",
       "125                                       2,830  \n",
       "126                                       2,944  \n",
       "127                                       1,871  \n",
       "128                                       3,133  \n",
       "129                                         216  \n",
       "\n",
       "[122 rows x 7 columns]"
      ]
     },
     "execution_count": 52,
     "metadata": {},
     "output_type": "execute_result"
    }
   ],
   "source": [
    "merged_df_reordered[\"People (Education: At Least Bachelor's Degree)\"] = \\\n",
    "    merged_df_reordered[\"People (Education: At Least Bachelor's Degree)\"].apply(lambda x: f\"{int(x):,}\")\n",
    "\n",
    "merged_df_reordered.head(122)"
   ]
  },
  {
   "cell_type": "code",
   "execution_count": 53,
   "id": "78d373cc",
   "metadata": {},
   "outputs": [
    {
     "data": {
      "application/vnd.microsoft.datawrangler.viewer.v0+json": {
       "columns": [
        {
         "name": "index",
         "rawType": "int64",
         "type": "integer"
        },
        {
         "name": "County",
         "rawType": "object",
         "type": "string"
        },
        {
         "name": "FIPS (Federal Information Processing Standards)",
         "rawType": "float64",
         "type": "float"
        },
        {
         "name": "Value (Dollars)",
         "rawType": "object",
         "type": "string"
        },
        {
         "name": "Median Household Income Rank Within US (of 3141 counties)",
         "rawType": "object",
         "type": "unknown"
        },
        {
         "name": "Value (Percent)",
         "rawType": "object",
         "type": "string"
        },
        {
         "name": "People (Education: At Least Bachelor's Degree)",
         "rawType": "object",
         "type": "string"
        },
        {
         "name": "Education Rank Within US (of 3141 counties)",
         "rawType": "object",
         "type": "unknown"
        }
       ],
       "ref": "306fdf6d-be11-44a3-8a18-4796e071ea47",
       "rows": [
        [
         "0",
         "United States",
         "0.0",
         "78,538",
         null,
         "35.0",
         "79,954,302",
         null
        ],
        [
         "1",
         "Kentucky",
         "21000.0",
         "62,417",
         "45 of 52",
         "27.0",
         "830,856",
         "48 of 52"
        ],
        [
         "2",
         "Adair County",
         "21001.0",
         "50,316",
         "2,664",
         "18.8",
         "2,402",
         "2,043"
        ],
        [
         "3",
         "Allen County",
         "21003.0",
         "59,029",
         "2,016",
         "17.4",
         "2,546",
         "2,295"
        ],
        [
         "4",
         "Anderson County",
         "21005.0",
         "71,747",
         "917",
         "25.7",
         "4,290",
         "1,028"
        ],
        [
         "5",
         "Ballard County",
         "21007.0",
         "64,740",
         "1,468",
         "18.7",
         "1,028",
         "2,064"
        ],
        [
         "6",
         "Barren County",
         "21009.0",
         "49,171",
         "2,736",
         "17.8",
         "5,497",
         "2,228"
        ],
        [
         "7",
         "Bath County",
         "21011.0",
         "54,128",
         "2,410",
         "14.4",
         "1,227",
         "2,759"
        ],
        [
         "8",
         "Bell County",
         "21013.0",
         "32,403",
         "3,124",
         "13.9",
         "2,343",
         "2,810"
        ],
        [
         "9",
         "Boone County",
         "21015.0",
         "94,752",
         "198",
         "35.4",
         "32,143",
         "405"
        ],
        [
         "10",
         "Bourbon County",
         "21017.0",
         "56,322",
         "2,250",
         "25.5",
         "3,535",
         "1,055"
        ],
        [
         "11",
         "Boyd County",
         "21019.0",
         "60,659",
         "1,850",
         "19.4",
         "6,648",
         "1,932"
        ],
        [
         "12",
         "Boyle County",
         "21021.0",
         "61,635",
         "1,756",
         "27.4",
         "5,671",
         "878"
        ],
        [
         "13",
         "Bracken County",
         "21023.0",
         "59,521",
         "1,961",
         "17.0",
         "991",
         "2,352"
        ],
        [
         "14",
         "Breathitt County",
         "21025.0",
         "41,101",
         "3,031",
         "16.5",
         "1,606",
         "2,432"
        ],
        [
         "15",
         "Breckinridge County",
         "21027.0",
         "53,673",
         "2,443",
         "14.9",
         "2,131",
         "2,694"
        ],
        [
         "16",
         "Bullitt County",
         "21029.0",
         "77,640",
         "596",
         "18.9",
         "11,210",
         "2,022"
        ],
        [
         "17",
         "Butler County",
         "21031.0",
         "52,003",
         "2,559",
         "9.5",
         "826",
         "3,108"
        ],
        [
         "18",
         "Caldwell County",
         "21033.0",
         "57,618",
         "2,132",
         "18.1",
         "1,591",
         "2,177"
        ],
        [
         "19",
         "Calloway County",
         "21035.0",
         "51,854",
         "2,570",
         "32.3",
         "7,557",
         "568"
        ],
        [
         "20",
         "Campbell County",
         "21037.0",
         "77,271",
         "616",
         "39.5",
         "25,815",
         "267"
        ],
        [
         "21",
         "Carlisle County",
         "21039.0",
         "62,019",
         "1,715",
         "14.6",
         "484",
         "2,729"
        ],
        [
         "22",
         "Carroll County",
         "21041.0",
         "57,753",
         "2,124",
         "8.9",
         "635",
         "3,117"
        ],
        [
         "23",
         "Carter County",
         "21043.0",
         "50,389",
         "2,661",
         "15.4",
         "2,820",
         "2,613"
        ],
        [
         "24",
         "Casey County",
         "21045.0",
         "41,689",
         "3,016",
         "11.8",
         "1,303",
         "3,003"
        ],
        [
         "25",
         "Christian County",
         "21047.0",
         "54,190",
         "2,406",
         "20.0",
         "8,301",
         "1,835"
        ],
        [
         "26",
         "Clark County",
         "21049.0",
         "67,824",
         "1,214",
         "22.2",
         "5,779",
         "1,458"
        ],
        [
         "27",
         "Clay County",
         "21051.0",
         "39,607",
         "3,056",
         "16.6",
         "2,409",
         "2,412"
        ],
        [
         "28",
         "Clinton County",
         "21053.0",
         "42,168",
         "3,000",
         "16.5",
         "1,086",
         "2,432"
        ],
        [
         "29",
         "Crittenden County",
         "21055.0",
         "47,003",
         "2,842",
         "12.6",
         "796",
         "2,944"
        ],
        [
         "30",
         "Cumberland County",
         "21057.0",
         "39,662",
         "3,055",
         "17.5",
         "756",
         "2,276"
        ],
        [
         "31",
         "Daviess County",
         "21059.0",
         "65,323",
         "1,398",
         "25.2",
         "17,506",
         "1,090"
        ],
        [
         "32",
         "Edmonson County",
         "21061.0",
         "54,512",
         "2,384",
         "10.3",
         "939",
         "3,091"
        ],
        [
         "33",
         "Elliott County",
         "21063.0",
         "40,074",
         "3,051",
         "6.2",
         "349",
         "3,138"
        ],
        [
         "34",
         "Estill County",
         "21065.0",
         "43,905",
         "2,953",
         "9.9",
         "1,001",
         "3,100"
        ],
        [
         "35",
         "Fayette County",
         "21067.0",
         "67,631",
         "1,236",
         "47.3",
         "99,135",
         "122"
        ],
        [
         "36",
         "Fleming County",
         "21069.0",
         "49,663",
         "2,707",
         "16.4",
         "1,696",
         "2,447"
        ],
        [
         "37",
         "Floyd County",
         "21071.0",
         "41,582",
         "3,019",
         "15.1",
         "3,773",
         "2,665"
        ],
        [
         "40",
         "Franklin County",
         "21073.0",
         "66,470",
         "1,317",
         "31.8",
         "11,540",
         "599"
        ],
        [
         "41",
         "Fulton County",
         "21075.0",
         "36,834",
         "3,094",
         "17.3",
         "781",
         "2,308"
        ],
        [
         "42",
         "Gallatin County",
         "21077.0",
         "62,247",
         "1,702",
         "13.2",
         "792",
         "2,886"
        ],
        [
         "43",
         "Garrard County",
         "21079.0",
         "62,572",
         "1,669",
         "19.1",
         "2,352",
         "1,977"
        ],
        [
         "44",
         "Grant County",
         "21081.0",
         "67,940",
         "1,203",
         "15.1",
         "2,458",
         "2,665"
        ],
        [
         "45",
         "Graves County",
         "21083.0",
         "50,576",
         "2,641",
         "17.4",
         "4,338",
         "2,295"
        ],
        [
         "46",
         "Grayson County",
         "21085.0",
         "49,893",
         "2,694",
         "14.6",
         "2,677",
         "2,729"
        ],
        [
         "47",
         "Green County",
         "21087.0",
         "41,087",
         "3,032",
         "16.6",
         "1,361",
         "2,412"
        ],
        [
         "48",
         "Greenup County",
         "21089.0",
         "59,613",
         "1,954",
         "18.3",
         "4,674",
         "2,138"
        ],
        [
         "50",
         "Hancock County",
         "21091.0",
         "66,836",
         "1,295",
         "16.8",
         "1,032",
         "2,375"
        ],
        [
         "51",
         "Hardin County",
         "21093.0",
         "67,608",
         "1,239",
         "24.4",
         "18,171",
         "1,182"
        ],
        [
         "52",
         "Harlan County",
         "21095.0",
         "37,198",
         "3,087",
         "12.7",
         "2,326",
         "2,929"
        ]
       ],
       "shape": {
        "columns": 7,
        "rows": 122
       }
      },
      "text/html": [
       "<div>\n",
       "<style scoped>\n",
       "    .dataframe tbody tr th:only-of-type {\n",
       "        vertical-align: middle;\n",
       "    }\n",
       "\n",
       "    .dataframe tbody tr th {\n",
       "        vertical-align: top;\n",
       "    }\n",
       "\n",
       "    .dataframe thead th {\n",
       "        text-align: right;\n",
       "    }\n",
       "</style>\n",
       "<table border=\"1\" class=\"dataframe\">\n",
       "  <thead>\n",
       "    <tr style=\"text-align: right;\">\n",
       "      <th></th>\n",
       "      <th>County</th>\n",
       "      <th>FIPS (Federal Information Processing Standards)</th>\n",
       "      <th>Value (Dollars)</th>\n",
       "      <th>Median Household Income Rank Within US (of 3141 counties)</th>\n",
       "      <th>Value (Percent)</th>\n",
       "      <th>People (Education: At Least Bachelor's Degree)</th>\n",
       "      <th>Education Rank Within US (of 3141 counties)</th>\n",
       "    </tr>\n",
       "  </thead>\n",
       "  <tbody>\n",
       "    <tr>\n",
       "      <th>0</th>\n",
       "      <td>United States</td>\n",
       "      <td>0</td>\n",
       "      <td>78,538</td>\n",
       "      <td>NaN</td>\n",
       "      <td>35.0</td>\n",
       "      <td>79,954,302</td>\n",
       "      <td>NaN</td>\n",
       "    </tr>\n",
       "    <tr>\n",
       "      <th>1</th>\n",
       "      <td>Kentucky</td>\n",
       "      <td>21,000</td>\n",
       "      <td>62,417</td>\n",
       "      <td>45 of 52</td>\n",
       "      <td>27.0</td>\n",
       "      <td>830,856</td>\n",
       "      <td>48 of 52</td>\n",
       "    </tr>\n",
       "    <tr>\n",
       "      <th>2</th>\n",
       "      <td>Adair County</td>\n",
       "      <td>21,001</td>\n",
       "      <td>50,316</td>\n",
       "      <td>2,664</td>\n",
       "      <td>18.8</td>\n",
       "      <td>2,402</td>\n",
       "      <td>2,043</td>\n",
       "    </tr>\n",
       "    <tr>\n",
       "      <th>3</th>\n",
       "      <td>Allen County</td>\n",
       "      <td>21,003</td>\n",
       "      <td>59,029</td>\n",
       "      <td>2,016</td>\n",
       "      <td>17.4</td>\n",
       "      <td>2,546</td>\n",
       "      <td>2,295</td>\n",
       "    </tr>\n",
       "    <tr>\n",
       "      <th>4</th>\n",
       "      <td>Anderson County</td>\n",
       "      <td>21,005</td>\n",
       "      <td>71,747</td>\n",
       "      <td>917</td>\n",
       "      <td>25.7</td>\n",
       "      <td>4,290</td>\n",
       "      <td>1,028</td>\n",
       "    </tr>\n",
       "    <tr>\n",
       "      <th>...</th>\n",
       "      <td>...</td>\n",
       "      <td>...</td>\n",
       "      <td>...</td>\n",
       "      <td>...</td>\n",
       "      <td>...</td>\n",
       "      <td>...</td>\n",
       "      <td>...</td>\n",
       "    </tr>\n",
       "    <tr>\n",
       "      <th>125</th>\n",
       "      <td>Wayne County</td>\n",
       "      <td>21,231</td>\n",
       "      <td>41,933</td>\n",
       "      <td>3,006</td>\n",
       "      <td>13.7</td>\n",
       "      <td>1,931</td>\n",
       "      <td>2,830</td>\n",
       "    </tr>\n",
       "    <tr>\n",
       "      <th>126</th>\n",
       "      <td>Webster County</td>\n",
       "      <td>21,233</td>\n",
       "      <td>58,786</td>\n",
       "      <td>2,049</td>\n",
       "      <td>12.6</td>\n",
       "      <td>1,099</td>\n",
       "      <td>2,944</td>\n",
       "    </tr>\n",
       "    <tr>\n",
       "      <th>127</th>\n",
       "      <td>Whitley County</td>\n",
       "      <td>21,235</td>\n",
       "      <td>41,719</td>\n",
       "      <td>3,015</td>\n",
       "      <td>19.8</td>\n",
       "      <td>4,580</td>\n",
       "      <td>1,871</td>\n",
       "    </tr>\n",
       "    <tr>\n",
       "      <th>128</th>\n",
       "      <td>Wolfe County</td>\n",
       "      <td>21,237</td>\n",
       "      <td>29,052</td>\n",
       "      <td>3,136</td>\n",
       "      <td>7.4</td>\n",
       "      <td>333</td>\n",
       "      <td>3,133</td>\n",
       "    </tr>\n",
       "    <tr>\n",
       "      <th>129</th>\n",
       "      <td>Woodford County</td>\n",
       "      <td>21,239</td>\n",
       "      <td>80,006</td>\n",
       "      <td>506</td>\n",
       "      <td>41.7</td>\n",
       "      <td>7,826</td>\n",
       "      <td>216</td>\n",
       "    </tr>\n",
       "  </tbody>\n",
       "</table>\n",
       "<p>122 rows × 7 columns</p>\n",
       "</div>"
      ],
      "text/plain": [
       "              County  FIPS (Federal Information Processing Standards)  \\\n",
       "0      United States                                                0   \n",
       "1           Kentucky                                           21,000   \n",
       "2       Adair County                                           21,001   \n",
       "3       Allen County                                           21,003   \n",
       "4    Anderson County                                           21,005   \n",
       "..               ...                                              ...   \n",
       "125     Wayne County                                           21,231   \n",
       "126   Webster County                                           21,233   \n",
       "127   Whitley County                                           21,235   \n",
       "128     Wolfe County                                           21,237   \n",
       "129  Woodford County                                           21,239   \n",
       "\n",
       "    Value (Dollars) Median Household Income Rank Within US (of 3141 counties)  \\\n",
       "0            78,538                                                NaN          \n",
       "1            62,417                                           45 of 52          \n",
       "2            50,316                                              2,664          \n",
       "3            59,029                                              2,016          \n",
       "4            71,747                                                917          \n",
       "..              ...                                                ...          \n",
       "125          41,933                                              3,006          \n",
       "126          58,786                                              2,049          \n",
       "127          41,719                                              3,015          \n",
       "128          29,052                                              3,136          \n",
       "129          80,006                                                506          \n",
       "\n",
       "    Value (Percent) People (Education: At Least Bachelor's Degree)  \\\n",
       "0              35.0                                     79,954,302   \n",
       "1              27.0                                        830,856   \n",
       "2              18.8                                          2,402   \n",
       "3              17.4                                          2,546   \n",
       "4              25.7                                          4,290   \n",
       "..              ...                                            ...   \n",
       "125            13.7                                          1,931   \n",
       "126            12.6                                          1,099   \n",
       "127            19.8                                          4,580   \n",
       "128             7.4                                            333   \n",
       "129            41.7                                          7,826   \n",
       "\n",
       "    Education Rank Within US (of 3141 counties)  \n",
       "0                                           NaN  \n",
       "1                                      48 of 52  \n",
       "2                                         2,043  \n",
       "3                                         2,295  \n",
       "4                                         1,028  \n",
       "..                                          ...  \n",
       "125                                       2,830  \n",
       "126                                       2,944  \n",
       "127                                       1,871  \n",
       "128                                       3,133  \n",
       "129                                         216  \n",
       "\n",
       "[122 rows x 7 columns]"
      ]
     },
     "execution_count": 53,
     "metadata": {},
     "output_type": "execute_result"
    }
   ],
   "source": [
    "merged_df_reordered['Value (Percent)'] = merged_df_reordered['Value (Percent)'].astype(str)\n",
    "\n",
    "merged_df_reordered.head(122)"
   ]
  },
  {
   "cell_type": "code",
   "execution_count": 54,
   "id": "8cb466e8",
   "metadata": {},
   "outputs": [
    {
     "data": {
      "application/vnd.microsoft.datawrangler.viewer.v0+json": {
       "columns": [
        {
         "name": "index",
         "rawType": "int64",
         "type": "integer"
        },
        {
         "name": "County",
         "rawType": "object",
         "type": "string"
        },
        {
         "name": "FIPS (Federal Information Processing Standards)",
         "rawType": "object",
         "type": "string"
        },
        {
         "name": "Value (Dollars)",
         "rawType": "object",
         "type": "string"
        },
        {
         "name": "Median Household Income Rank Within US (of 3141 counties)",
         "rawType": "object",
         "type": "unknown"
        },
        {
         "name": "Value (Percent)",
         "rawType": "object",
         "type": "string"
        },
        {
         "name": "People (Education: At Least Bachelor's Degree)",
         "rawType": "object",
         "type": "string"
        },
        {
         "name": "Education Rank Within US (of 3141 counties)",
         "rawType": "object",
         "type": "unknown"
        }
       ],
       "ref": "d0b3fc74-dc52-4bd0-b176-2367b8f161f7",
       "rows": [
        [
         "0",
         "United States",
         "00000",
         "78,538",
         null,
         "35.0",
         "79,954,302",
         null
        ],
        [
         "1",
         "Kentucky",
         "21000",
         "62,417",
         "45 of 52",
         "27.0",
         "830,856",
         "48 of 52"
        ],
        [
         "2",
         "Adair County",
         "21001",
         "50,316",
         "2,664",
         "18.8",
         "2,402",
         "2,043"
        ],
        [
         "3",
         "Allen County",
         "21003",
         "59,029",
         "2,016",
         "17.4",
         "2,546",
         "2,295"
        ],
        [
         "4",
         "Anderson County",
         "21005",
         "71,747",
         "917",
         "25.7",
         "4,290",
         "1,028"
        ],
        [
         "5",
         "Ballard County",
         "21007",
         "64,740",
         "1,468",
         "18.7",
         "1,028",
         "2,064"
        ],
        [
         "6",
         "Barren County",
         "21009",
         "49,171",
         "2,736",
         "17.8",
         "5,497",
         "2,228"
        ],
        [
         "7",
         "Bath County",
         "21011",
         "54,128",
         "2,410",
         "14.4",
         "1,227",
         "2,759"
        ],
        [
         "8",
         "Bell County",
         "21013",
         "32,403",
         "3,124",
         "13.9",
         "2,343",
         "2,810"
        ],
        [
         "9",
         "Boone County",
         "21015",
         "94,752",
         "198",
         "35.4",
         "32,143",
         "405"
        ],
        [
         "10",
         "Bourbon County",
         "21017",
         "56,322",
         "2,250",
         "25.5",
         "3,535",
         "1,055"
        ],
        [
         "11",
         "Boyd County",
         "21019",
         "60,659",
         "1,850",
         "19.4",
         "6,648",
         "1,932"
        ],
        [
         "12",
         "Boyle County",
         "21021",
         "61,635",
         "1,756",
         "27.4",
         "5,671",
         "878"
        ],
        [
         "13",
         "Bracken County",
         "21023",
         "59,521",
         "1,961",
         "17.0",
         "991",
         "2,352"
        ],
        [
         "14",
         "Breathitt County",
         "21025",
         "41,101",
         "3,031",
         "16.5",
         "1,606",
         "2,432"
        ],
        [
         "15",
         "Breckinridge County",
         "21027",
         "53,673",
         "2,443",
         "14.9",
         "2,131",
         "2,694"
        ],
        [
         "16",
         "Bullitt County",
         "21029",
         "77,640",
         "596",
         "18.9",
         "11,210",
         "2,022"
        ],
        [
         "17",
         "Butler County",
         "21031",
         "52,003",
         "2,559",
         "9.5",
         "826",
         "3,108"
        ],
        [
         "18",
         "Caldwell County",
         "21033",
         "57,618",
         "2,132",
         "18.1",
         "1,591",
         "2,177"
        ],
        [
         "19",
         "Calloway County",
         "21035",
         "51,854",
         "2,570",
         "32.3",
         "7,557",
         "568"
        ],
        [
         "20",
         "Campbell County",
         "21037",
         "77,271",
         "616",
         "39.5",
         "25,815",
         "267"
        ],
        [
         "21",
         "Carlisle County",
         "21039",
         "62,019",
         "1,715",
         "14.6",
         "484",
         "2,729"
        ],
        [
         "22",
         "Carroll County",
         "21041",
         "57,753",
         "2,124",
         "8.9",
         "635",
         "3,117"
        ],
        [
         "23",
         "Carter County",
         "21043",
         "50,389",
         "2,661",
         "15.4",
         "2,820",
         "2,613"
        ],
        [
         "24",
         "Casey County",
         "21045",
         "41,689",
         "3,016",
         "11.8",
         "1,303",
         "3,003"
        ],
        [
         "25",
         "Christian County",
         "21047",
         "54,190",
         "2,406",
         "20.0",
         "8,301",
         "1,835"
        ],
        [
         "26",
         "Clark County",
         "21049",
         "67,824",
         "1,214",
         "22.2",
         "5,779",
         "1,458"
        ],
        [
         "27",
         "Clay County",
         "21051",
         "39,607",
         "3,056",
         "16.6",
         "2,409",
         "2,412"
        ],
        [
         "28",
         "Clinton County",
         "21053",
         "42,168",
         "3,000",
         "16.5",
         "1,086",
         "2,432"
        ],
        [
         "29",
         "Crittenden County",
         "21055",
         "47,003",
         "2,842",
         "12.6",
         "796",
         "2,944"
        ],
        [
         "30",
         "Cumberland County",
         "21057",
         "39,662",
         "3,055",
         "17.5",
         "756",
         "2,276"
        ],
        [
         "31",
         "Daviess County",
         "21059",
         "65,323",
         "1,398",
         "25.2",
         "17,506",
         "1,090"
        ],
        [
         "32",
         "Edmonson County",
         "21061",
         "54,512",
         "2,384",
         "10.3",
         "939",
         "3,091"
        ],
        [
         "33",
         "Elliott County",
         "21063",
         "40,074",
         "3,051",
         "6.2",
         "349",
         "3,138"
        ],
        [
         "34",
         "Estill County",
         "21065",
         "43,905",
         "2,953",
         "9.9",
         "1,001",
         "3,100"
        ],
        [
         "35",
         "Fayette County",
         "21067",
         "67,631",
         "1,236",
         "47.3",
         "99,135",
         "122"
        ],
        [
         "36",
         "Fleming County",
         "21069",
         "49,663",
         "2,707",
         "16.4",
         "1,696",
         "2,447"
        ],
        [
         "37",
         "Floyd County",
         "21071",
         "41,582",
         "3,019",
         "15.1",
         "3,773",
         "2,665"
        ],
        [
         "40",
         "Franklin County",
         "21073",
         "66,470",
         "1,317",
         "31.8",
         "11,540",
         "599"
        ],
        [
         "41",
         "Fulton County",
         "21075",
         "36,834",
         "3,094",
         "17.3",
         "781",
         "2,308"
        ],
        [
         "42",
         "Gallatin County",
         "21077",
         "62,247",
         "1,702",
         "13.2",
         "792",
         "2,886"
        ],
        [
         "43",
         "Garrard County",
         "21079",
         "62,572",
         "1,669",
         "19.1",
         "2,352",
         "1,977"
        ],
        [
         "44",
         "Grant County",
         "21081",
         "67,940",
         "1,203",
         "15.1",
         "2,458",
         "2,665"
        ],
        [
         "45",
         "Graves County",
         "21083",
         "50,576",
         "2,641",
         "17.4",
         "4,338",
         "2,295"
        ],
        [
         "46",
         "Grayson County",
         "21085",
         "49,893",
         "2,694",
         "14.6",
         "2,677",
         "2,729"
        ],
        [
         "47",
         "Green County",
         "21087",
         "41,087",
         "3,032",
         "16.6",
         "1,361",
         "2,412"
        ],
        [
         "48",
         "Greenup County",
         "21089",
         "59,613",
         "1,954",
         "18.3",
         "4,674",
         "2,138"
        ],
        [
         "50",
         "Hancock County",
         "21091",
         "66,836",
         "1,295",
         "16.8",
         "1,032",
         "2,375"
        ],
        [
         "51",
         "Hardin County",
         "21093",
         "67,608",
         "1,239",
         "24.4",
         "18,171",
         "1,182"
        ],
        [
         "52",
         "Harlan County",
         "21095",
         "37,198",
         "3,087",
         "12.7",
         "2,326",
         "2,929"
        ]
       ],
       "shape": {
        "columns": 7,
        "rows": 122
       }
      },
      "text/html": [
       "<div>\n",
       "<style scoped>\n",
       "    .dataframe tbody tr th:only-of-type {\n",
       "        vertical-align: middle;\n",
       "    }\n",
       "\n",
       "    .dataframe tbody tr th {\n",
       "        vertical-align: top;\n",
       "    }\n",
       "\n",
       "    .dataframe thead th {\n",
       "        text-align: right;\n",
       "    }\n",
       "</style>\n",
       "<table border=\"1\" class=\"dataframe\">\n",
       "  <thead>\n",
       "    <tr style=\"text-align: right;\">\n",
       "      <th></th>\n",
       "      <th>County</th>\n",
       "      <th>FIPS (Federal Information Processing Standards)</th>\n",
       "      <th>Value (Dollars)</th>\n",
       "      <th>Median Household Income Rank Within US (of 3141 counties)</th>\n",
       "      <th>Value (Percent)</th>\n",
       "      <th>People (Education: At Least Bachelor's Degree)</th>\n",
       "      <th>Education Rank Within US (of 3141 counties)</th>\n",
       "    </tr>\n",
       "  </thead>\n",
       "  <tbody>\n",
       "    <tr>\n",
       "      <th>0</th>\n",
       "      <td>United States</td>\n",
       "      <td>00000</td>\n",
       "      <td>78,538</td>\n",
       "      <td>NaN</td>\n",
       "      <td>35.0</td>\n",
       "      <td>79,954,302</td>\n",
       "      <td>NaN</td>\n",
       "    </tr>\n",
       "    <tr>\n",
       "      <th>1</th>\n",
       "      <td>Kentucky</td>\n",
       "      <td>21000</td>\n",
       "      <td>62,417</td>\n",
       "      <td>45 of 52</td>\n",
       "      <td>27.0</td>\n",
       "      <td>830,856</td>\n",
       "      <td>48 of 52</td>\n",
       "    </tr>\n",
       "    <tr>\n",
       "      <th>2</th>\n",
       "      <td>Adair County</td>\n",
       "      <td>21001</td>\n",
       "      <td>50,316</td>\n",
       "      <td>2,664</td>\n",
       "      <td>18.8</td>\n",
       "      <td>2,402</td>\n",
       "      <td>2,043</td>\n",
       "    </tr>\n",
       "    <tr>\n",
       "      <th>3</th>\n",
       "      <td>Allen County</td>\n",
       "      <td>21003</td>\n",
       "      <td>59,029</td>\n",
       "      <td>2,016</td>\n",
       "      <td>17.4</td>\n",
       "      <td>2,546</td>\n",
       "      <td>2,295</td>\n",
       "    </tr>\n",
       "    <tr>\n",
       "      <th>4</th>\n",
       "      <td>Anderson County</td>\n",
       "      <td>21005</td>\n",
       "      <td>71,747</td>\n",
       "      <td>917</td>\n",
       "      <td>25.7</td>\n",
       "      <td>4,290</td>\n",
       "      <td>1,028</td>\n",
       "    </tr>\n",
       "    <tr>\n",
       "      <th>...</th>\n",
       "      <td>...</td>\n",
       "      <td>...</td>\n",
       "      <td>...</td>\n",
       "      <td>...</td>\n",
       "      <td>...</td>\n",
       "      <td>...</td>\n",
       "      <td>...</td>\n",
       "    </tr>\n",
       "    <tr>\n",
       "      <th>125</th>\n",
       "      <td>Wayne County</td>\n",
       "      <td>21231</td>\n",
       "      <td>41,933</td>\n",
       "      <td>3,006</td>\n",
       "      <td>13.7</td>\n",
       "      <td>1,931</td>\n",
       "      <td>2,830</td>\n",
       "    </tr>\n",
       "    <tr>\n",
       "      <th>126</th>\n",
       "      <td>Webster County</td>\n",
       "      <td>21233</td>\n",
       "      <td>58,786</td>\n",
       "      <td>2,049</td>\n",
       "      <td>12.6</td>\n",
       "      <td>1,099</td>\n",
       "      <td>2,944</td>\n",
       "    </tr>\n",
       "    <tr>\n",
       "      <th>127</th>\n",
       "      <td>Whitley County</td>\n",
       "      <td>21235</td>\n",
       "      <td>41,719</td>\n",
       "      <td>3,015</td>\n",
       "      <td>19.8</td>\n",
       "      <td>4,580</td>\n",
       "      <td>1,871</td>\n",
       "    </tr>\n",
       "    <tr>\n",
       "      <th>128</th>\n",
       "      <td>Wolfe County</td>\n",
       "      <td>21237</td>\n",
       "      <td>29,052</td>\n",
       "      <td>3,136</td>\n",
       "      <td>7.4</td>\n",
       "      <td>333</td>\n",
       "      <td>3,133</td>\n",
       "    </tr>\n",
       "    <tr>\n",
       "      <th>129</th>\n",
       "      <td>Woodford County</td>\n",
       "      <td>21239</td>\n",
       "      <td>80,006</td>\n",
       "      <td>506</td>\n",
       "      <td>41.7</td>\n",
       "      <td>7,826</td>\n",
       "      <td>216</td>\n",
       "    </tr>\n",
       "  </tbody>\n",
       "</table>\n",
       "<p>122 rows × 7 columns</p>\n",
       "</div>"
      ],
      "text/plain": [
       "              County FIPS (Federal Information Processing Standards)  \\\n",
       "0      United States                                           00000   \n",
       "1           Kentucky                                           21000   \n",
       "2       Adair County                                           21001   \n",
       "3       Allen County                                           21003   \n",
       "4    Anderson County                                           21005   \n",
       "..               ...                                             ...   \n",
       "125     Wayne County                                           21231   \n",
       "126   Webster County                                           21233   \n",
       "127   Whitley County                                           21235   \n",
       "128     Wolfe County                                           21237   \n",
       "129  Woodford County                                           21239   \n",
       "\n",
       "    Value (Dollars) Median Household Income Rank Within US (of 3141 counties)  \\\n",
       "0            78,538                                                NaN          \n",
       "1            62,417                                           45 of 52          \n",
       "2            50,316                                              2,664          \n",
       "3            59,029                                              2,016          \n",
       "4            71,747                                                917          \n",
       "..              ...                                                ...          \n",
       "125          41,933                                              3,006          \n",
       "126          58,786                                              2,049          \n",
       "127          41,719                                              3,015          \n",
       "128          29,052                                              3,136          \n",
       "129          80,006                                                506          \n",
       "\n",
       "    Value (Percent) People (Education: At Least Bachelor's Degree)  \\\n",
       "0              35.0                                     79,954,302   \n",
       "1              27.0                                        830,856   \n",
       "2              18.8                                          2,402   \n",
       "3              17.4                                          2,546   \n",
       "4              25.7                                          4,290   \n",
       "..              ...                                            ...   \n",
       "125            13.7                                          1,931   \n",
       "126            12.6                                          1,099   \n",
       "127            19.8                                          4,580   \n",
       "128             7.4                                            333   \n",
       "129            41.7                                          7,826   \n",
       "\n",
       "    Education Rank Within US (of 3141 counties)  \n",
       "0                                           NaN  \n",
       "1                                      48 of 52  \n",
       "2                                         2,043  \n",
       "3                                         2,295  \n",
       "4                                         1,028  \n",
       "..                                          ...  \n",
       "125                                       2,830  \n",
       "126                                       2,944  \n",
       "127                                       1,871  \n",
       "128                                       3,133  \n",
       "129                                         216  \n",
       "\n",
       "[122 rows x 7 columns]"
      ]
     },
     "execution_count": 54,
     "metadata": {},
     "output_type": "execute_result"
    }
   ],
   "source": [
    "merged_df_reordered['FIPS (Federal Information Processing Standards)'] = \\\n",
    "    merged_df_reordered['FIPS (Federal Information Processing Standards)'].astype(int).astype(str).str.zfill(5)\n",
    "\n",
    "merged_df_reordered.head(122)"
   ]
  },
  {
   "cell_type": "markdown",
   "id": "16ef783c",
   "metadata": {},
   "source": [
    "convert to str with zero-padding for better readability and consistency and preparing for potential future merges with other datasets"
   ]
  },
  {
   "cell_type": "code",
   "execution_count": 55,
   "id": "e6b7be94",
   "metadata": {},
   "outputs": [
    {
     "data": {
      "application/vnd.microsoft.datawrangler.viewer.v0+json": {
       "columns": [
        {
         "name": "index",
         "rawType": "int64",
         "type": "integer"
        },
        {
         "name": "County",
         "rawType": "object",
         "type": "string"
        },
        {
         "name": "FIPS (Federal Information Processing Standards)",
         "rawType": "object",
         "type": "string"
        },
        {
         "name": "Median Household Income (Dollars)",
         "rawType": "object",
         "type": "string"
        },
        {
         "name": "Median Household Income Rank Within US (of 3141 counties)",
         "rawType": "object",
         "type": "unknown"
        },
        {
         "name": "People (Education: At Least Bachelor's Degree) %",
         "rawType": "object",
         "type": "string"
        },
        {
         "name": "People (Education: At Least Bachelor's Degree)",
         "rawType": "object",
         "type": "string"
        },
        {
         "name": "Education Rank Within US (of 3141 counties)",
         "rawType": "object",
         "type": "unknown"
        }
       ],
       "ref": "220d10b7-4f71-4d39-83d3-fd172a8e96dc",
       "rows": [
        [
         "0",
         "United States",
         "00000",
         "78,538",
         null,
         "35.0",
         "79,954,302",
         null
        ],
        [
         "1",
         "Kentucky",
         "21000",
         "62,417",
         "45 of 52",
         "27.0",
         "830,856",
         "48 of 52"
        ],
        [
         "2",
         "Adair County",
         "21001",
         "50,316",
         "2,664",
         "18.8",
         "2,402",
         "2,043"
        ],
        [
         "3",
         "Allen County",
         "21003",
         "59,029",
         "2,016",
         "17.4",
         "2,546",
         "2,295"
        ],
        [
         "4",
         "Anderson County",
         "21005",
         "71,747",
         "917",
         "25.7",
         "4,290",
         "1,028"
        ],
        [
         "5",
         "Ballard County",
         "21007",
         "64,740",
         "1,468",
         "18.7",
         "1,028",
         "2,064"
        ],
        [
         "6",
         "Barren County",
         "21009",
         "49,171",
         "2,736",
         "17.8",
         "5,497",
         "2,228"
        ],
        [
         "7",
         "Bath County",
         "21011",
         "54,128",
         "2,410",
         "14.4",
         "1,227",
         "2,759"
        ],
        [
         "8",
         "Bell County",
         "21013",
         "32,403",
         "3,124",
         "13.9",
         "2,343",
         "2,810"
        ],
        [
         "9",
         "Boone County",
         "21015",
         "94,752",
         "198",
         "35.4",
         "32,143",
         "405"
        ],
        [
         "10",
         "Bourbon County",
         "21017",
         "56,322",
         "2,250",
         "25.5",
         "3,535",
         "1,055"
        ],
        [
         "11",
         "Boyd County",
         "21019",
         "60,659",
         "1,850",
         "19.4",
         "6,648",
         "1,932"
        ],
        [
         "12",
         "Boyle County",
         "21021",
         "61,635",
         "1,756",
         "27.4",
         "5,671",
         "878"
        ],
        [
         "13",
         "Bracken County",
         "21023",
         "59,521",
         "1,961",
         "17.0",
         "991",
         "2,352"
        ],
        [
         "14",
         "Breathitt County",
         "21025",
         "41,101",
         "3,031",
         "16.5",
         "1,606",
         "2,432"
        ],
        [
         "15",
         "Breckinridge County",
         "21027",
         "53,673",
         "2,443",
         "14.9",
         "2,131",
         "2,694"
        ],
        [
         "16",
         "Bullitt County",
         "21029",
         "77,640",
         "596",
         "18.9",
         "11,210",
         "2,022"
        ],
        [
         "17",
         "Butler County",
         "21031",
         "52,003",
         "2,559",
         "9.5",
         "826",
         "3,108"
        ],
        [
         "18",
         "Caldwell County",
         "21033",
         "57,618",
         "2,132",
         "18.1",
         "1,591",
         "2,177"
        ],
        [
         "19",
         "Calloway County",
         "21035",
         "51,854",
         "2,570",
         "32.3",
         "7,557",
         "568"
        ],
        [
         "20",
         "Campbell County",
         "21037",
         "77,271",
         "616",
         "39.5",
         "25,815",
         "267"
        ],
        [
         "21",
         "Carlisle County",
         "21039",
         "62,019",
         "1,715",
         "14.6",
         "484",
         "2,729"
        ],
        [
         "22",
         "Carroll County",
         "21041",
         "57,753",
         "2,124",
         "8.9",
         "635",
         "3,117"
        ],
        [
         "23",
         "Carter County",
         "21043",
         "50,389",
         "2,661",
         "15.4",
         "2,820",
         "2,613"
        ],
        [
         "24",
         "Casey County",
         "21045",
         "41,689",
         "3,016",
         "11.8",
         "1,303",
         "3,003"
        ],
        [
         "25",
         "Christian County",
         "21047",
         "54,190",
         "2,406",
         "20.0",
         "8,301",
         "1,835"
        ],
        [
         "26",
         "Clark County",
         "21049",
         "67,824",
         "1,214",
         "22.2",
         "5,779",
         "1,458"
        ],
        [
         "27",
         "Clay County",
         "21051",
         "39,607",
         "3,056",
         "16.6",
         "2,409",
         "2,412"
        ],
        [
         "28",
         "Clinton County",
         "21053",
         "42,168",
         "3,000",
         "16.5",
         "1,086",
         "2,432"
        ],
        [
         "29",
         "Crittenden County",
         "21055",
         "47,003",
         "2,842",
         "12.6",
         "796",
         "2,944"
        ],
        [
         "30",
         "Cumberland County",
         "21057",
         "39,662",
         "3,055",
         "17.5",
         "756",
         "2,276"
        ],
        [
         "31",
         "Daviess County",
         "21059",
         "65,323",
         "1,398",
         "25.2",
         "17,506",
         "1,090"
        ],
        [
         "32",
         "Edmonson County",
         "21061",
         "54,512",
         "2,384",
         "10.3",
         "939",
         "3,091"
        ],
        [
         "33",
         "Elliott County",
         "21063",
         "40,074",
         "3,051",
         "6.2",
         "349",
         "3,138"
        ],
        [
         "34",
         "Estill County",
         "21065",
         "43,905",
         "2,953",
         "9.9",
         "1,001",
         "3,100"
        ],
        [
         "35",
         "Fayette County",
         "21067",
         "67,631",
         "1,236",
         "47.3",
         "99,135",
         "122"
        ],
        [
         "36",
         "Fleming County",
         "21069",
         "49,663",
         "2,707",
         "16.4",
         "1,696",
         "2,447"
        ],
        [
         "37",
         "Floyd County",
         "21071",
         "41,582",
         "3,019",
         "15.1",
         "3,773",
         "2,665"
        ],
        [
         "40",
         "Franklin County",
         "21073",
         "66,470",
         "1,317",
         "31.8",
         "11,540",
         "599"
        ],
        [
         "41",
         "Fulton County",
         "21075",
         "36,834",
         "3,094",
         "17.3",
         "781",
         "2,308"
        ],
        [
         "42",
         "Gallatin County",
         "21077",
         "62,247",
         "1,702",
         "13.2",
         "792",
         "2,886"
        ],
        [
         "43",
         "Garrard County",
         "21079",
         "62,572",
         "1,669",
         "19.1",
         "2,352",
         "1,977"
        ],
        [
         "44",
         "Grant County",
         "21081",
         "67,940",
         "1,203",
         "15.1",
         "2,458",
         "2,665"
        ],
        [
         "45",
         "Graves County",
         "21083",
         "50,576",
         "2,641",
         "17.4",
         "4,338",
         "2,295"
        ],
        [
         "46",
         "Grayson County",
         "21085",
         "49,893",
         "2,694",
         "14.6",
         "2,677",
         "2,729"
        ],
        [
         "47",
         "Green County",
         "21087",
         "41,087",
         "3,032",
         "16.6",
         "1,361",
         "2,412"
        ],
        [
         "48",
         "Greenup County",
         "21089",
         "59,613",
         "1,954",
         "18.3",
         "4,674",
         "2,138"
        ],
        [
         "50",
         "Hancock County",
         "21091",
         "66,836",
         "1,295",
         "16.8",
         "1,032",
         "2,375"
        ],
        [
         "51",
         "Hardin County",
         "21093",
         "67,608",
         "1,239",
         "24.4",
         "18,171",
         "1,182"
        ],
        [
         "52",
         "Harlan County",
         "21095",
         "37,198",
         "3,087",
         "12.7",
         "2,326",
         "2,929"
        ]
       ],
       "shape": {
        "columns": 7,
        "rows": 122
       }
      },
      "text/html": [
       "<div>\n",
       "<style scoped>\n",
       "    .dataframe tbody tr th:only-of-type {\n",
       "        vertical-align: middle;\n",
       "    }\n",
       "\n",
       "    .dataframe tbody tr th {\n",
       "        vertical-align: top;\n",
       "    }\n",
       "\n",
       "    .dataframe thead th {\n",
       "        text-align: right;\n",
       "    }\n",
       "</style>\n",
       "<table border=\"1\" class=\"dataframe\">\n",
       "  <thead>\n",
       "    <tr style=\"text-align: right;\">\n",
       "      <th></th>\n",
       "      <th>County</th>\n",
       "      <th>FIPS (Federal Information Processing Standards)</th>\n",
       "      <th>Median Household Income (Dollars)</th>\n",
       "      <th>Median Household Income Rank Within US (of 3141 counties)</th>\n",
       "      <th>People (Education: At Least Bachelor's Degree) %</th>\n",
       "      <th>People (Education: At Least Bachelor's Degree)</th>\n",
       "      <th>Education Rank Within US (of 3141 counties)</th>\n",
       "    </tr>\n",
       "  </thead>\n",
       "  <tbody>\n",
       "    <tr>\n",
       "      <th>0</th>\n",
       "      <td>United States</td>\n",
       "      <td>00000</td>\n",
       "      <td>78,538</td>\n",
       "      <td>NaN</td>\n",
       "      <td>35.0</td>\n",
       "      <td>79,954,302</td>\n",
       "      <td>NaN</td>\n",
       "    </tr>\n",
       "    <tr>\n",
       "      <th>1</th>\n",
       "      <td>Kentucky</td>\n",
       "      <td>21000</td>\n",
       "      <td>62,417</td>\n",
       "      <td>45 of 52</td>\n",
       "      <td>27.0</td>\n",
       "      <td>830,856</td>\n",
       "      <td>48 of 52</td>\n",
       "    </tr>\n",
       "    <tr>\n",
       "      <th>2</th>\n",
       "      <td>Adair County</td>\n",
       "      <td>21001</td>\n",
       "      <td>50,316</td>\n",
       "      <td>2,664</td>\n",
       "      <td>18.8</td>\n",
       "      <td>2,402</td>\n",
       "      <td>2,043</td>\n",
       "    </tr>\n",
       "    <tr>\n",
       "      <th>3</th>\n",
       "      <td>Allen County</td>\n",
       "      <td>21003</td>\n",
       "      <td>59,029</td>\n",
       "      <td>2,016</td>\n",
       "      <td>17.4</td>\n",
       "      <td>2,546</td>\n",
       "      <td>2,295</td>\n",
       "    </tr>\n",
       "    <tr>\n",
       "      <th>4</th>\n",
       "      <td>Anderson County</td>\n",
       "      <td>21005</td>\n",
       "      <td>71,747</td>\n",
       "      <td>917</td>\n",
       "      <td>25.7</td>\n",
       "      <td>4,290</td>\n",
       "      <td>1,028</td>\n",
       "    </tr>\n",
       "    <tr>\n",
       "      <th>...</th>\n",
       "      <td>...</td>\n",
       "      <td>...</td>\n",
       "      <td>...</td>\n",
       "      <td>...</td>\n",
       "      <td>...</td>\n",
       "      <td>...</td>\n",
       "      <td>...</td>\n",
       "    </tr>\n",
       "    <tr>\n",
       "      <th>125</th>\n",
       "      <td>Wayne County</td>\n",
       "      <td>21231</td>\n",
       "      <td>41,933</td>\n",
       "      <td>3,006</td>\n",
       "      <td>13.7</td>\n",
       "      <td>1,931</td>\n",
       "      <td>2,830</td>\n",
       "    </tr>\n",
       "    <tr>\n",
       "      <th>126</th>\n",
       "      <td>Webster County</td>\n",
       "      <td>21233</td>\n",
       "      <td>58,786</td>\n",
       "      <td>2,049</td>\n",
       "      <td>12.6</td>\n",
       "      <td>1,099</td>\n",
       "      <td>2,944</td>\n",
       "    </tr>\n",
       "    <tr>\n",
       "      <th>127</th>\n",
       "      <td>Whitley County</td>\n",
       "      <td>21235</td>\n",
       "      <td>41,719</td>\n",
       "      <td>3,015</td>\n",
       "      <td>19.8</td>\n",
       "      <td>4,580</td>\n",
       "      <td>1,871</td>\n",
       "    </tr>\n",
       "    <tr>\n",
       "      <th>128</th>\n",
       "      <td>Wolfe County</td>\n",
       "      <td>21237</td>\n",
       "      <td>29,052</td>\n",
       "      <td>3,136</td>\n",
       "      <td>7.4</td>\n",
       "      <td>333</td>\n",
       "      <td>3,133</td>\n",
       "    </tr>\n",
       "    <tr>\n",
       "      <th>129</th>\n",
       "      <td>Woodford County</td>\n",
       "      <td>21239</td>\n",
       "      <td>80,006</td>\n",
       "      <td>506</td>\n",
       "      <td>41.7</td>\n",
       "      <td>7,826</td>\n",
       "      <td>216</td>\n",
       "    </tr>\n",
       "  </tbody>\n",
       "</table>\n",
       "<p>122 rows × 7 columns</p>\n",
       "</div>"
      ],
      "text/plain": [
       "              County FIPS (Federal Information Processing Standards)  \\\n",
       "0      United States                                           00000   \n",
       "1           Kentucky                                           21000   \n",
       "2       Adair County                                           21001   \n",
       "3       Allen County                                           21003   \n",
       "4    Anderson County                                           21005   \n",
       "..               ...                                             ...   \n",
       "125     Wayne County                                           21231   \n",
       "126   Webster County                                           21233   \n",
       "127   Whitley County                                           21235   \n",
       "128     Wolfe County                                           21237   \n",
       "129  Woodford County                                           21239   \n",
       "\n",
       "    Median Household Income (Dollars)  \\\n",
       "0                              78,538   \n",
       "1                              62,417   \n",
       "2                              50,316   \n",
       "3                              59,029   \n",
       "4                              71,747   \n",
       "..                                ...   \n",
       "125                            41,933   \n",
       "126                            58,786   \n",
       "127                            41,719   \n",
       "128                            29,052   \n",
       "129                            80,006   \n",
       "\n",
       "    Median Household Income Rank Within US (of 3141 counties)  \\\n",
       "0                                                  NaN          \n",
       "1                                             45 of 52          \n",
       "2                                                2,664          \n",
       "3                                                2,016          \n",
       "4                                                  917          \n",
       "..                                                 ...          \n",
       "125                                              3,006          \n",
       "126                                              2,049          \n",
       "127                                              3,015          \n",
       "128                                              3,136          \n",
       "129                                                506          \n",
       "\n",
       "    People (Education: At Least Bachelor's Degree) %  \\\n",
       "0                                               35.0   \n",
       "1                                               27.0   \n",
       "2                                               18.8   \n",
       "3                                               17.4   \n",
       "4                                               25.7   \n",
       "..                                               ...   \n",
       "125                                             13.7   \n",
       "126                                             12.6   \n",
       "127                                             19.8   \n",
       "128                                              7.4   \n",
       "129                                             41.7   \n",
       "\n",
       "    People (Education: At Least Bachelor's Degree)  \\\n",
       "0                                       79,954,302   \n",
       "1                                          830,856   \n",
       "2                                            2,402   \n",
       "3                                            2,546   \n",
       "4                                            4,290   \n",
       "..                                             ...   \n",
       "125                                          1,931   \n",
       "126                                          1,099   \n",
       "127                                          4,580   \n",
       "128                                            333   \n",
       "129                                          7,826   \n",
       "\n",
       "    Education Rank Within US (of 3141 counties)  \n",
       "0                                           NaN  \n",
       "1                                      48 of 52  \n",
       "2                                         2,043  \n",
       "3                                         2,295  \n",
       "4                                         1,028  \n",
       "..                                          ...  \n",
       "125                                       2,830  \n",
       "126                                       2,944  \n",
       "127                                       1,871  \n",
       "128                                       3,133  \n",
       "129                                         216  \n",
       "\n",
       "[122 rows x 7 columns]"
      ]
     },
     "execution_count": 55,
     "metadata": {},
     "output_type": "execute_result"
    }
   ],
   "source": [
    "merged_df_reordered.rename(columns={\"Value (Dollars)\": \"Median Household Income (Dollars)\"}, inplace=True)\n",
    "\n",
    "merged_df_reordered.rename(columns={\"Value (Percent)\": \"People (Education: At Least Bachelor's Degree) %\"}, inplace=True)\n",
    "\n",
    "merged_df_reordered.head(122)"
   ]
  },
  {
   "cell_type": "markdown",
   "id": "09586b63",
   "metadata": {},
   "source": [
    "renamed columns to more accurately reprsent the data for better visualization and less less confusion"
   ]
  },
  {
   "cell_type": "code",
   "execution_count": 56,
   "id": "3ba91a55",
   "metadata": {},
   "outputs": [],
   "source": [
    "merged_df_reordered[\"People (Education: At Least Bachelor's Degree) %\"] = (\n",
    "    merged_df_reordered[\"People (Education: At Least Bachelor's Degree) %\"]\n",
    "    .replace(\",\", \"\", regex=True)\n",
    "    .astype(float)\n",
    ")\n",
    "\n",
    "merged_df_reordered[\"Median Household Income (Dollars)\"] = (\n",
    "    merged_df_reordered[\"Median Household Income (Dollars)\"]\n",
    "    .replace(\",\", \"\", regex=True)\n",
    "    .astype(float)\n",
    ")"
   ]
  },
  {
   "cell_type": "markdown",
   "id": "6da55896",
   "metadata": {},
   "source": [
    "converted the columns to numeric to be able to display in charts/graphs"
   ]
  },
  {
   "cell_type": "code",
   "execution_count": 57,
   "id": "a36bcd1e",
   "metadata": {},
   "outputs": [
    {
     "data": {
      "application/vnd.microsoft.datawrangler.viewer.v0+json": {
       "columns": [
        {
         "name": "index",
         "rawType": "int64",
         "type": "integer"
        },
        {
         "name": "County",
         "rawType": "object",
         "type": "string"
        },
        {
         "name": "FIPS (Federal Information Processing Standards)",
         "rawType": "object",
         "type": "string"
        },
        {
         "name": "Median Household Income (Dollars)",
         "rawType": "float64",
         "type": "float"
        },
        {
         "name": "Median Household Income Rank Within US (of 3141 counties)",
         "rawType": "object",
         "type": "unknown"
        },
        {
         "name": "People (Education: At Least Bachelor's Degree) %",
         "rawType": "float64",
         "type": "float"
        },
        {
         "name": "People (Education: At Least Bachelor's Degree)",
         "rawType": "object",
         "type": "string"
        },
        {
         "name": "Education Rank Within US (of 3141 counties)",
         "rawType": "object",
         "type": "unknown"
        }
       ],
       "ref": "787f0534-7c71-4516-931f-bc3fff269d0f",
       "rows": [
        [
         "0",
         "United States",
         "00000",
         "78538.0",
         null,
         "35.0",
         "79,954,302",
         null
        ],
        [
         "1",
         "Kentucky",
         "21000",
         "62417.0",
         "45 of 52",
         "27.0",
         "830,856",
         "48 of 52"
        ],
        [
         "2",
         "Adair County",
         "21001",
         "50316.0",
         "2,664",
         "18.8",
         "2,402",
         "2,043"
        ],
        [
         "3",
         "Allen County",
         "21003",
         "59029.0",
         "2,016",
         "17.4",
         "2,546",
         "2,295"
        ],
        [
         "4",
         "Anderson County",
         "21005",
         "71747.0",
         "917",
         "25.7",
         "4,290",
         "1,028"
        ],
        [
         "5",
         "Ballard County",
         "21007",
         "64740.0",
         "1,468",
         "18.7",
         "1,028",
         "2,064"
        ],
        [
         "6",
         "Barren County",
         "21009",
         "49171.0",
         "2,736",
         "17.8",
         "5,497",
         "2,228"
        ],
        [
         "7",
         "Bath County",
         "21011",
         "54128.0",
         "2,410",
         "14.4",
         "1,227",
         "2,759"
        ],
        [
         "8",
         "Bell County",
         "21013",
         "32403.0",
         "3,124",
         "13.9",
         "2,343",
         "2,810"
        ],
        [
         "9",
         "Boone County",
         "21015",
         "94752.0",
         "198",
         "35.4",
         "32,143",
         "405"
        ],
        [
         "10",
         "Bourbon County",
         "21017",
         "56322.0",
         "2,250",
         "25.5",
         "3,535",
         "1,055"
        ],
        [
         "11",
         "Boyd County",
         "21019",
         "60659.0",
         "1,850",
         "19.4",
         "6,648",
         "1,932"
        ],
        [
         "12",
         "Boyle County",
         "21021",
         "61635.0",
         "1,756",
         "27.4",
         "5,671",
         "878"
        ],
        [
         "13",
         "Bracken County",
         "21023",
         "59521.0",
         "1,961",
         "17.0",
         "991",
         "2,352"
        ],
        [
         "14",
         "Breathitt County",
         "21025",
         "41101.0",
         "3,031",
         "16.5",
         "1,606",
         "2,432"
        ],
        [
         "15",
         "Breckinridge County",
         "21027",
         "53673.0",
         "2,443",
         "14.9",
         "2,131",
         "2,694"
        ],
        [
         "16",
         "Bullitt County",
         "21029",
         "77640.0",
         "596",
         "18.9",
         "11,210",
         "2,022"
        ],
        [
         "17",
         "Butler County",
         "21031",
         "52003.0",
         "2,559",
         "9.5",
         "826",
         "3,108"
        ],
        [
         "18",
         "Caldwell County",
         "21033",
         "57618.0",
         "2,132",
         "18.1",
         "1,591",
         "2,177"
        ],
        [
         "19",
         "Calloway County",
         "21035",
         "51854.0",
         "2,570",
         "32.3",
         "7,557",
         "568"
        ],
        [
         "20",
         "Campbell County",
         "21037",
         "77271.0",
         "616",
         "39.5",
         "25,815",
         "267"
        ],
        [
         "21",
         "Carlisle County",
         "21039",
         "62019.0",
         "1,715",
         "14.6",
         "484",
         "2,729"
        ],
        [
         "22",
         "Carroll County",
         "21041",
         "57753.0",
         "2,124",
         "8.9",
         "635",
         "3,117"
        ],
        [
         "23",
         "Carter County",
         "21043",
         "50389.0",
         "2,661",
         "15.4",
         "2,820",
         "2,613"
        ],
        [
         "24",
         "Casey County",
         "21045",
         "41689.0",
         "3,016",
         "11.8",
         "1,303",
         "3,003"
        ],
        [
         "25",
         "Christian County",
         "21047",
         "54190.0",
         "2,406",
         "20.0",
         "8,301",
         "1,835"
        ],
        [
         "26",
         "Clark County",
         "21049",
         "67824.0",
         "1,214",
         "22.2",
         "5,779",
         "1,458"
        ],
        [
         "27",
         "Clay County",
         "21051",
         "39607.0",
         "3,056",
         "16.6",
         "2,409",
         "2,412"
        ],
        [
         "28",
         "Clinton County",
         "21053",
         "42168.0",
         "3,000",
         "16.5",
         "1,086",
         "2,432"
        ],
        [
         "29",
         "Crittenden County",
         "21055",
         "47003.0",
         "2,842",
         "12.6",
         "796",
         "2,944"
        ],
        [
         "30",
         "Cumberland County",
         "21057",
         "39662.0",
         "3,055",
         "17.5",
         "756",
         "2,276"
        ],
        [
         "31",
         "Daviess County",
         "21059",
         "65323.0",
         "1,398",
         "25.2",
         "17,506",
         "1,090"
        ],
        [
         "32",
         "Edmonson County",
         "21061",
         "54512.0",
         "2,384",
         "10.3",
         "939",
         "3,091"
        ],
        [
         "33",
         "Elliott County",
         "21063",
         "40074.0",
         "3,051",
         "6.2",
         "349",
         "3,138"
        ],
        [
         "34",
         "Estill County",
         "21065",
         "43905.0",
         "2,953",
         "9.9",
         "1,001",
         "3,100"
        ],
        [
         "35",
         "Fayette County",
         "21067",
         "67631.0",
         "1,236",
         "47.3",
         "99,135",
         "122"
        ],
        [
         "36",
         "Fleming County",
         "21069",
         "49663.0",
         "2,707",
         "16.4",
         "1,696",
         "2,447"
        ],
        [
         "37",
         "Floyd County",
         "21071",
         "41582.0",
         "3,019",
         "15.1",
         "3,773",
         "2,665"
        ],
        [
         "40",
         "Franklin County",
         "21073",
         "66470.0",
         "1,317",
         "31.8",
         "11,540",
         "599"
        ],
        [
         "41",
         "Fulton County",
         "21075",
         "36834.0",
         "3,094",
         "17.3",
         "781",
         "2,308"
        ],
        [
         "42",
         "Gallatin County",
         "21077",
         "62247.0",
         "1,702",
         "13.2",
         "792",
         "2,886"
        ],
        [
         "43",
         "Garrard County",
         "21079",
         "62572.0",
         "1,669",
         "19.1",
         "2,352",
         "1,977"
        ],
        [
         "44",
         "Grant County",
         "21081",
         "67940.0",
         "1,203",
         "15.1",
         "2,458",
         "2,665"
        ],
        [
         "45",
         "Graves County",
         "21083",
         "50576.0",
         "2,641",
         "17.4",
         "4,338",
         "2,295"
        ],
        [
         "46",
         "Grayson County",
         "21085",
         "49893.0",
         "2,694",
         "14.6",
         "2,677",
         "2,729"
        ],
        [
         "47",
         "Green County",
         "21087",
         "41087.0",
         "3,032",
         "16.6",
         "1,361",
         "2,412"
        ],
        [
         "48",
         "Greenup County",
         "21089",
         "59613.0",
         "1,954",
         "18.3",
         "4,674",
         "2,138"
        ],
        [
         "50",
         "Hancock County",
         "21091",
         "66836.0",
         "1,295",
         "16.8",
         "1,032",
         "2,375"
        ],
        [
         "51",
         "Hardin County",
         "21093",
         "67608.0",
         "1,239",
         "24.4",
         "18,171",
         "1,182"
        ],
        [
         "52",
         "Harlan County",
         "21095",
         "37198.0",
         "3,087",
         "12.7",
         "2,326",
         "2,929"
        ]
       ],
       "shape": {
        "columns": 7,
        "rows": 122
       }
      },
      "text/html": [
       "<div>\n",
       "<style scoped>\n",
       "    .dataframe tbody tr th:only-of-type {\n",
       "        vertical-align: middle;\n",
       "    }\n",
       "\n",
       "    .dataframe tbody tr th {\n",
       "        vertical-align: top;\n",
       "    }\n",
       "\n",
       "    .dataframe thead th {\n",
       "        text-align: right;\n",
       "    }\n",
       "</style>\n",
       "<table border=\"1\" class=\"dataframe\">\n",
       "  <thead>\n",
       "    <tr style=\"text-align: right;\">\n",
       "      <th></th>\n",
       "      <th>County</th>\n",
       "      <th>FIPS (Federal Information Processing Standards)</th>\n",
       "      <th>Median Household Income (Dollars)</th>\n",
       "      <th>Median Household Income Rank Within US (of 3141 counties)</th>\n",
       "      <th>People (Education: At Least Bachelor's Degree) %</th>\n",
       "      <th>People (Education: At Least Bachelor's Degree)</th>\n",
       "      <th>Education Rank Within US (of 3141 counties)</th>\n",
       "    </tr>\n",
       "  </thead>\n",
       "  <tbody>\n",
       "    <tr>\n",
       "      <th>0</th>\n",
       "      <td>United States</td>\n",
       "      <td>00000</td>\n",
       "      <td>78,538</td>\n",
       "      <td>NaN</td>\n",
       "      <td>35</td>\n",
       "      <td>79,954,302</td>\n",
       "      <td>NaN</td>\n",
       "    </tr>\n",
       "    <tr>\n",
       "      <th>1</th>\n",
       "      <td>Kentucky</td>\n",
       "      <td>21000</td>\n",
       "      <td>62,417</td>\n",
       "      <td>45 of 52</td>\n",
       "      <td>27</td>\n",
       "      <td>830,856</td>\n",
       "      <td>48 of 52</td>\n",
       "    </tr>\n",
       "    <tr>\n",
       "      <th>2</th>\n",
       "      <td>Adair County</td>\n",
       "      <td>21001</td>\n",
       "      <td>50,316</td>\n",
       "      <td>2,664</td>\n",
       "      <td>19</td>\n",
       "      <td>2,402</td>\n",
       "      <td>2,043</td>\n",
       "    </tr>\n",
       "    <tr>\n",
       "      <th>3</th>\n",
       "      <td>Allen County</td>\n",
       "      <td>21003</td>\n",
       "      <td>59,029</td>\n",
       "      <td>2,016</td>\n",
       "      <td>17</td>\n",
       "      <td>2,546</td>\n",
       "      <td>2,295</td>\n",
       "    </tr>\n",
       "    <tr>\n",
       "      <th>4</th>\n",
       "      <td>Anderson County</td>\n",
       "      <td>21005</td>\n",
       "      <td>71,747</td>\n",
       "      <td>917</td>\n",
       "      <td>26</td>\n",
       "      <td>4,290</td>\n",
       "      <td>1,028</td>\n",
       "    </tr>\n",
       "    <tr>\n",
       "      <th>...</th>\n",
       "      <td>...</td>\n",
       "      <td>...</td>\n",
       "      <td>...</td>\n",
       "      <td>...</td>\n",
       "      <td>...</td>\n",
       "      <td>...</td>\n",
       "      <td>...</td>\n",
       "    </tr>\n",
       "    <tr>\n",
       "      <th>125</th>\n",
       "      <td>Wayne County</td>\n",
       "      <td>21231</td>\n",
       "      <td>41,933</td>\n",
       "      <td>3,006</td>\n",
       "      <td>14</td>\n",
       "      <td>1,931</td>\n",
       "      <td>2,830</td>\n",
       "    </tr>\n",
       "    <tr>\n",
       "      <th>126</th>\n",
       "      <td>Webster County</td>\n",
       "      <td>21233</td>\n",
       "      <td>58,786</td>\n",
       "      <td>2,049</td>\n",
       "      <td>13</td>\n",
       "      <td>1,099</td>\n",
       "      <td>2,944</td>\n",
       "    </tr>\n",
       "    <tr>\n",
       "      <th>127</th>\n",
       "      <td>Whitley County</td>\n",
       "      <td>21235</td>\n",
       "      <td>41,719</td>\n",
       "      <td>3,015</td>\n",
       "      <td>20</td>\n",
       "      <td>4,580</td>\n",
       "      <td>1,871</td>\n",
       "    </tr>\n",
       "    <tr>\n",
       "      <th>128</th>\n",
       "      <td>Wolfe County</td>\n",
       "      <td>21237</td>\n",
       "      <td>29,052</td>\n",
       "      <td>3,136</td>\n",
       "      <td>7</td>\n",
       "      <td>333</td>\n",
       "      <td>3,133</td>\n",
       "    </tr>\n",
       "    <tr>\n",
       "      <th>129</th>\n",
       "      <td>Woodford County</td>\n",
       "      <td>21239</td>\n",
       "      <td>80,006</td>\n",
       "      <td>506</td>\n",
       "      <td>42</td>\n",
       "      <td>7,826</td>\n",
       "      <td>216</td>\n",
       "    </tr>\n",
       "  </tbody>\n",
       "</table>\n",
       "<p>122 rows × 7 columns</p>\n",
       "</div>"
      ],
      "text/plain": [
       "              County FIPS (Federal Information Processing Standards)  \\\n",
       "0      United States                                           00000   \n",
       "1           Kentucky                                           21000   \n",
       "2       Adair County                                           21001   \n",
       "3       Allen County                                           21003   \n",
       "4    Anderson County                                           21005   \n",
       "..               ...                                             ...   \n",
       "125     Wayne County                                           21231   \n",
       "126   Webster County                                           21233   \n",
       "127   Whitley County                                           21235   \n",
       "128     Wolfe County                                           21237   \n",
       "129  Woodford County                                           21239   \n",
       "\n",
       "     Median Household Income (Dollars)  \\\n",
       "0                               78,538   \n",
       "1                               62,417   \n",
       "2                               50,316   \n",
       "3                               59,029   \n",
       "4                               71,747   \n",
       "..                                 ...   \n",
       "125                             41,933   \n",
       "126                             58,786   \n",
       "127                             41,719   \n",
       "128                             29,052   \n",
       "129                             80,006   \n",
       "\n",
       "    Median Household Income Rank Within US (of 3141 counties)  \\\n",
       "0                                                  NaN          \n",
       "1                                             45 of 52          \n",
       "2                                                2,664          \n",
       "3                                                2,016          \n",
       "4                                                  917          \n",
       "..                                                 ...          \n",
       "125                                              3,006          \n",
       "126                                              2,049          \n",
       "127                                              3,015          \n",
       "128                                              3,136          \n",
       "129                                                506          \n",
       "\n",
       "     People (Education: At Least Bachelor's Degree) %  \\\n",
       "0                                                  35   \n",
       "1                                                  27   \n",
       "2                                                  19   \n",
       "3                                                  17   \n",
       "4                                                  26   \n",
       "..                                                ...   \n",
       "125                                                14   \n",
       "126                                                13   \n",
       "127                                                20   \n",
       "128                                                 7   \n",
       "129                                                42   \n",
       "\n",
       "    People (Education: At Least Bachelor's Degree)  \\\n",
       "0                                       79,954,302   \n",
       "1                                          830,856   \n",
       "2                                            2,402   \n",
       "3                                            2,546   \n",
       "4                                            4,290   \n",
       "..                                             ...   \n",
       "125                                          1,931   \n",
       "126                                          1,099   \n",
       "127                                          4,580   \n",
       "128                                            333   \n",
       "129                                          7,826   \n",
       "\n",
       "    Education Rank Within US (of 3141 counties)  \n",
       "0                                           NaN  \n",
       "1                                      48 of 52  \n",
       "2                                         2,043  \n",
       "3                                         2,295  \n",
       "4                                         1,028  \n",
       "..                                          ...  \n",
       "125                                       2,830  \n",
       "126                                       2,944  \n",
       "127                                       1,871  \n",
       "128                                       3,133  \n",
       "129                                         216  \n",
       "\n",
       "[122 rows x 7 columns]"
      ]
     },
     "execution_count": 57,
     "metadata": {},
     "output_type": "execute_result"
    }
   ],
   "source": [
    "merged_df_reordered.head(122)"
   ]
  },
  {
   "cell_type": "code",
   "execution_count": 58,
   "id": "16c96003",
   "metadata": {},
   "outputs": [
    {
     "data": {
      "application/vnd.microsoft.datawrangler.viewer.v0+json": {
       "columns": [
        {
         "name": "index",
         "rawType": "object",
         "type": "string"
        },
        {
         "name": "0",
         "rawType": "object",
         "type": "unknown"
        }
       ],
       "ref": "2a3d652a-0e9b-4dc5-93e6-7a85b53629fa",
       "rows": [
        [
         "County",
         "object"
        ],
        [
         "FIPS (Federal Information Processing Standards)",
         "object"
        ],
        [
         "Median Household Income (Dollars)",
         "float64"
        ],
        [
         "Median Household Income Rank Within US (of 3141 counties)",
         "object"
        ],
        [
         "People (Education: At Least Bachelor's Degree) %",
         "float64"
        ],
        [
         "People (Education: At Least Bachelor's Degree)",
         "object"
        ],
        [
         "Education Rank Within US (of 3141 counties)",
         "object"
        ]
       ],
       "shape": {
        "columns": 1,
        "rows": 7
       }
      },
      "text/plain": [
       "County                                                        object\n",
       "FIPS (Federal Information Processing Standards)               object\n",
       "Median Household Income (Dollars)                            float64\n",
       "Median Household Income Rank Within US (of 3141 counties)     object\n",
       "People (Education: At Least Bachelor's Degree) %             float64\n",
       "People (Education: At Least Bachelor's Degree)                object\n",
       "Education Rank Within US (of 3141 counties)                   object\n",
       "dtype: object"
      ]
     },
     "execution_count": 58,
     "metadata": {},
     "output_type": "execute_result"
    }
   ],
   "source": [
    "merged_df_reordered.dtypes"
   ]
  },
  {
   "cell_type": "markdown",
   "id": "60bab50d",
   "metadata": {},
   "source": [
    "checked the data types of the columns"
   ]
  },
  {
   "cell_type": "code",
   "execution_count": 59,
   "id": "a9a69a33",
   "metadata": {},
   "outputs": [],
   "source": [
    "# plt.figure(figsize=(10, 6))\n",
    "# plt.scatter(\n",
    "#     merged_df_reordered[\"People (Education: At Least Bachelor's Degree) %\"],\n",
    "#     merged_df_reordered[\"Median Household Income (Dollars)\"],\n",
    "#     color='blue',\n",
    "#     alpha=0.7\n",
    "# )\n",
    "\n",
    "# plt.title(\"Correlation: Education vs Median Household Income (KY Counties)\")\n",
    "# plt.xlabel(\"People with Bachelor's Degree or Higher (%)\")\n",
    "# plt.ylabel(\"Median Household Income ($)\")\n",
    "# plt.grid(True)\n",
    "# plt.show()"
   ]
  },
  {
   "cell_type": "code",
   "execution_count": 60,
   "id": "1d165b30",
   "metadata": {},
   "outputs": [
    {
     "data": {
      "application/vnd.plotly.v1+json": {
       "config": {
        "plotlyServerURL": "https://plot.ly"
       },
       "data": [
        {
         "hovertemplate": "<b>%{hovertext}</b><br><br>People (Education: At Least Bachelor's Degree) %=%{x}<br>Median Household Income (Dollars)=%{marker.color}<br>People (Education: At Least Bachelor's Degree)=%{marker.size}<extra></extra>",
         "hovertext": [
          "Adair County",
          "Allen County",
          "Anderson County",
          "Ballard County",
          "Barren County",
          "Bath County",
          "Bell County",
          "Boone County",
          "Bourbon County",
          "Boyd County",
          "Boyle County",
          "Bracken County",
          "Breathitt County",
          "Breckinridge County",
          "Bullitt County",
          "Butler County",
          "Caldwell County",
          "Calloway County",
          "Campbell County",
          "Carlisle County",
          "Carroll County",
          "Carter County",
          "Casey County",
          "Christian County",
          "Clark County",
          "Clay County",
          "Clinton County",
          "Crittenden County",
          "Cumberland County",
          "Daviess County",
          "Edmonson County",
          "Elliott County",
          "Estill County",
          "Fayette County",
          "Fleming County",
          "Floyd County",
          "Franklin County",
          "Fulton County",
          "Gallatin County",
          "Garrard County",
          "Grant County",
          "Graves County",
          "Grayson County",
          "Green County",
          "Greenup County",
          "Hancock County",
          "Hardin County",
          "Harlan County",
          "Harrison County",
          "Hart County",
          "Henderson County",
          "Henry County",
          "Hickman County",
          "Hopkins County",
          "Jackson County",
          "Jefferson County",
          "Jessamine County",
          "Johnson County",
          "Kenton County",
          "Knott County",
          "Knox County",
          "Larue County",
          "Laurel County",
          "Lawrence County",
          "Lee County",
          "Leslie County",
          "Letcher County",
          "Lewis County",
          "Lincoln County",
          "Livingston County",
          "Logan County",
          "Lyon County",
          "Madison County",
          "Magoffin County",
          "Marion County",
          "Marshall County",
          "Martin County",
          "Mason County",
          "McCracken County",
          "McCreary County",
          "McLean County",
          "Meade County",
          "Menifee County",
          "Mercer County",
          "Metcalfe County",
          "Monroe County",
          "Montgomery County",
          "Morgan County",
          "Muhlenberg County",
          "Nelson County",
          "Nicholas County",
          "Ohio County",
          "Oldham County",
          "Owen County",
          "Owsley County",
          "Pendleton County",
          "Perry County",
          "Pike County",
          "Powell County",
          "Pulaski County",
          "Robertson County",
          "Rockcastle County",
          "Rowan County",
          "Russell County",
          "Scott County",
          "Shelby County",
          "Simpson County",
          "Spencer County",
          "Taylor County",
          "Todd County",
          "Trigg County",
          "Trimble County",
          "Union County",
          "Warren County",
          "Washington County",
          "Wayne County",
          "Webster County",
          "Whitley County",
          "Wolfe County",
          "Woodford County"
         ],
         "legendgroup": "",
         "marker": {
          "color": {
           "bdata": "AAAAAICR6EAAAAAAoNLsQAAAAAAwhPFAAAAAAICc70AAAAAAYALoQAAAAAAAbupAAAAAAMCk30AAAAAAACL3QAAAAABAgOtAAAAAAGCe7UAAAAAAYBjuQAAAAAAgEO1AAAAAAKAR5EAAAAAAIDXqQAAAAACA9PJAAAAAAGBk6UAAAAAAQCLsQAAAAADAUelAAAAAAHDd8kAAAAAAYEjuQAAAAAAgM+xAAAAAAKCa6EAAAAAAIFvkQAAAAADAdepAAAAAAACP8EAAAAAA4FbjQAAAAAAAl+RAAAAAAGDz5kAAAAAAwF3jQAAAAABg5e9AAAAAAACe6kAAAAAAQJHjQAAAAAAgcOVAAAAAAPCC8EAAAAAA4D/oQAAAAADATeRAAAAAAGA68EAAAAAAQPzhQAAAAADgZO5AAAAAAICN7kAAAAAAQJbwQAAAAAAAsuhAAAAAAKBc6EAAAAAA4A/kQAAAAACgG+1AAAAAAEBR8EAAAAAAgIHwQAAAAADAKeJAAAAAAKDc7kAAAAAAoD7oQAAAAADgb+xAAAAAAACo7UAAAAAAwCDvQAAAAABAIexAAAAAAEA45EAAAAAAkJDwQAAAAABgSPJAAAAAAMAA5UAAAAAA0GPzQAAAAAAAbeJAAAAAACAw4EAAAAAAoIvwQAAAAADg1OtAAAAAAABC5kAAAAAAwLDgQAAAAAAAnuNAAAAAAKDG40AAAAAAAFTkQAAAAADA1ehAAAAAACAo7UAAAAAA4AvuQAAAAAAAeu9AAAAAAOB47kAAAAAAAGzgQAAAAACADetAAAAAAGAP70AAAAAAII3mQAAAAAAgIulAAAAAACB27kAAAAAAYD3iQAAAAABQOfFAAAAAADAh8UAAAAAAANDlQAAAAABg0e5AAAAAAIC350AAAAAAwCLoQAAAAACAD+xAAAAAAKAw50AAAAAAALjpQAAAAAAAk/BAAAAAAAAu6kAAAAAAIIzqQAAAAAAwqf1AAAAAAEAn7UAAAAAAAFbeQAAAAACQQvBAAAAAAKAZ5kAAAAAAYJjkQAAAAABgcONAAAAAAODf6EAAAAAAII7pQAAAAADgnedAAAAAACAz6kAAAAAAAKvoQAAAAADAbPRAAAAAAPAu9EAAAAAAAAbsQAAAAADQAfhAAAAAAOA17kAAAAAA4DPsQAAAAADArOpAAAAAAFCO8EAAAAAAoMftQAAAAAAgpO9AAAAAAEAu7UAAAAAAoHnkQAAAAABAtOxAAAAAAOBe5EAAAAAAAF/cQAAAAABgiPNA",
           "dtype": "f8"
          },
          "coloraxis": "coloraxis",
          "size": {
           "bdata": "AAAAAADEokAAAAAAAOSjQAAAAAAAwrBAAAAAAAAQkEAAAAAAAHm1QAAAAAAALJNAAAAAAABOokAAAAAAwGPfQAAAAAAAnqtAAAAAAAD4uUAAAAAAACe2QAAAAAAA+I5AAAAAAAAYmUAAAAAAAKagQAAAAAAA5cVAAAAAAADQiUAAAAAAANyYQAAAAAAAhb1AAAAAAMA12UAAAAAAAEB+QAAAAAAA2INAAAAAAAAIpkAAAAAAAFyUQAAAAACANsBAAAAAAACTtkAAAAAAANKiQAAAAAAA+JBAAAAAAADgiEAAAAAAAKCHQAAAAACAGNFAAAAAAABYjUAAAAAAANB1QAAAAAAASI9AAAAAAPAz+EAAAAAAAICaQAAAAAAAeq1AAAAAAACKxkAAAAAAAGiIQAAAAAAAwIhAAAAAAABgokAAAAAAADSjQAAAAAAA8rBAAAAAAADqpEAAAAAAAESVQAAAAAAAQrJAAAAAAAAgkEAAAAAAwL7RQAAAAAAALKJAAAAAAAC0pEAAAAAAABSWQAAAAAAAHbdAAAAAAAAYmUAAAAAAAGB9QAAAAAAAZbRAAAAAAABAjUAAAAAAUBUIQQAAAACA4sZAAAAAAACApEAAAAAAYFblQAAAAAAAXJtAAAAAAACgpUAAAAAAAKCZQAAAAAAAE7xAAAAAAAD4mEAAAAAAAAB6QAAAAAAAyIdAAAAAAAA2oEAAAAAAAAiQQAAAAAAAFqRAAAAAAAAIjEAAAAAAAKyoQAAAAAAA9JFAAAAAAACx00AAAAAAALSQQAAAAAAAnJpAAAAAAAD1skAAAAAAAICLQAAAAAAAoqNAAAAAAID5yUAAAAAAAPyQQAAAAAAASJJAAAAAAAAmrkAAAAAAAGB+QAAAAAAA9qtAAAAAAAB4jUAAAAAAACCSQAAAAAAAkq9AAAAAAAA8nEAAAAAAADimQAAAAAAA5LxAAAAAAACgfkAAAAAAANKhQAAAAAAAZ9RAAAAAAABElUAAAAAAADB1QAAAAAAARJpAAAAAAAC2pUAAAAAAALK5QAAAAAAA7JdAAAAAAIA6wEAAAAAAAKBpQAAAAAAAmJhAAAAAAACKrkAAAAAAAOCeQAAAAAAA88hAAAAAAIB4xEAAAAAAAIKhQAAAAAAAGKhAAAAAAACWrUAAAAAAAPyTQAAAAAAAGqBAAAAAAACoi0AAAAAAAFiRQAAAAADAgNtAAAAAAAD0mEAAAAAAACyeQAAAAAAALJFAAAAAAADksUAAAAAAANB0QAAAAAAAkr5A",
           "dtype": "f8"
          },
          "sizemode": "area",
          "sizeref": 54.80277777777778,
          "symbol": "circle"
         },
         "mode": "markers",
         "name": "",
         "orientation": "v",
         "showlegend": false,
         "type": "scatter",
         "x": {
          "bdata": "zczMzMzMMkBmZmZmZmYxQDMzMzMzszlAMzMzMzOzMkDNzMzMzMwxQM3MzMzMzCxAzczMzMzMK0AzMzMzM7NBQAAAAAAAgDlAZmZmZmZmM0BmZmZmZmY7QAAAAAAAADFAAAAAAACAMEDNzMzMzMwtQGZmZmZm5jJAAAAAAAAAI0CamZmZmRkyQGZmZmZmJkBAAAAAAADAQ0AzMzMzMzMtQM3MzMzMzCFAzczMzMzMLkCamZmZmZknQAAAAAAAADRAMzMzMzMzNkCamZmZmZkwQAAAAAAAgDBAMzMzMzMzKUAAAAAAAIAxQDMzMzMzMzlAmpmZmZmZJEDNzMzMzMwYQM3MzMzMzCNAZmZmZmamR0BmZmZmZmYwQDMzMzMzMy5AzczMzMzMP0DNzMzMzEwxQGZmZmZmZipAmpmZmZkZM0AzMzMzMzMuQGZmZmZmZjFAMzMzMzMzLUCamZmZmZkwQM3MzMzMTDJAzczMzMzMMEBmZmZmZmY4QGZmZmZmZilAmpmZmZkZNEBmZmZmZmYlQAAAAAAAADNAmpmZmZmZLUDNzMzMzMwsQJqZmZmZmTBAmpmZmZmZJEDNzMzMzExCQDMzMzMzM0BAmpmZmZmZMEDNzMzMzMxCQM3MzMzMzDFAAAAAAAAAK0AzMzMzMzMvQAAAAAAAgDBAZmZmZmZmLEAAAAAAAAAeQM3MzMzMzCRAZmZmZmZmK0CamZmZmZkmQGZmZmZmZi5AzczMzMzMK0CamZmZmZkwQM3MzMzMTDBAmpmZmZkZQUBmZmZmZmYqQGZmZmZmZilAAAAAAAAANUBmZmZmZmYlQJqZmZmZGTVAZmZmZmbmO0AzMzMzMzMiQGZmZmZmZjJAZmZmZmZmMkDNzMzMzMwlQAAAAAAAgDZAMzMzMzMzKkDNzMzMzMwtQM3MzMzMzDRAmpmZmZmZMUAAAAAAAAAqQM3MzMzMzDZAAAAAAAAAI0BmZmZmZmYsQM3MzMzMzEZAzczMzMxMMUDNzMzMzMwmQJqZmZmZmTBAZmZmZmZmLEAAAAAAAAAwQM3MzMzMTDFAZmZmZmbmMUAAAAAAAAArQGZmZmZmZitAAAAAAAAAO0CamZmZmZkvQJqZmZmZmUBAAAAAAAAAP0DNzMzMzMwwQJqZmZmZGTZAAAAAAAAANkDNzMzMzMwvQM3MzMzMTDRAZmZmZmZmLUCamZmZmZknQDMzMzMzs0BAZmZmZmbmMkBmZmZmZmYrQDMzMzMzMylAzczMzMzMM0CamZmZmZkdQJqZmZmZ2URA",
          "dtype": "f8"
         },
         "xaxis": "x",
         "y": {
          "bdata": "AAAAAICR6EAAAAAAoNLsQAAAAAAwhPFAAAAAAICc70AAAAAAYALoQAAAAAAAbupAAAAAAMCk30AAAAAAACL3QAAAAABAgOtAAAAAAGCe7UAAAAAAYBjuQAAAAAAgEO1AAAAAAKAR5EAAAAAAIDXqQAAAAACA9PJAAAAAAGBk6UAAAAAAQCLsQAAAAADAUelAAAAAAHDd8kAAAAAAYEjuQAAAAAAgM+xAAAAAAKCa6EAAAAAAIFvkQAAAAADAdepAAAAAAACP8EAAAAAA4FbjQAAAAAAAl+RAAAAAAGDz5kAAAAAAwF3jQAAAAABg5e9AAAAAAACe6kAAAAAAQJHjQAAAAAAgcOVAAAAAAPCC8EAAAAAA4D/oQAAAAADATeRAAAAAAGA68EAAAAAAQPzhQAAAAADgZO5AAAAAAICN7kAAAAAAQJbwQAAAAAAAsuhAAAAAAKBc6EAAAAAA4A/kQAAAAACgG+1AAAAAAEBR8EAAAAAAgIHwQAAAAADAKeJAAAAAAKDc7kAAAAAAoD7oQAAAAADgb+xAAAAAAACo7UAAAAAAwCDvQAAAAABAIexAAAAAAEA45EAAAAAAkJDwQAAAAABgSPJAAAAAAMAA5UAAAAAA0GPzQAAAAAAAbeJAAAAAACAw4EAAAAAAoIvwQAAAAADg1OtAAAAAAABC5kAAAAAAwLDgQAAAAAAAnuNAAAAAAKDG40AAAAAAAFTkQAAAAADA1ehAAAAAACAo7UAAAAAA4AvuQAAAAAAAeu9AAAAAAOB47kAAAAAAAGzgQAAAAACADetAAAAAAGAP70AAAAAAII3mQAAAAAAgIulAAAAAACB27kAAAAAAYD3iQAAAAABQOfFAAAAAADAh8UAAAAAAANDlQAAAAABg0e5AAAAAAIC350AAAAAAwCLoQAAAAACAD+xAAAAAAKAw50AAAAAAALjpQAAAAAAAk/BAAAAAAAAu6kAAAAAAIIzqQAAAAAAwqf1AAAAAAEAn7UAAAAAAAFbeQAAAAACQQvBAAAAAAKAZ5kAAAAAAYJjkQAAAAABgcONAAAAAAODf6EAAAAAAII7pQAAAAADgnedAAAAAACAz6kAAAAAAAKvoQAAAAADAbPRAAAAAAPAu9EAAAAAAAAbsQAAAAADQAfhAAAAAAOA17kAAAAAA4DPsQAAAAADArOpAAAAAAFCO8EAAAAAAoMftQAAAAAAgpO9AAAAAAEAu7UAAAAAAoHnkQAAAAABAtOxAAAAAAOBe5EAAAAAAAF/cQAAAAABgiPNA",
          "dtype": "f8"
         },
         "yaxis": "y"
        }
       ],
       "layout": {
        "coloraxis": {
         "colorbar": {
          "title": {
           "text": "Median Household Income (Dollars)"
          }
         },
         "colorscale": [
          [
           0,
           "#0d0887"
          ],
          [
           0.1111111111111111,
           "#46039f"
          ],
          [
           0.2222222222222222,
           "#7201a8"
          ],
          [
           0.3333333333333333,
           "#9c179e"
          ],
          [
           0.4444444444444444,
           "#bd3786"
          ],
          [
           0.5555555555555556,
           "#d8576b"
          ],
          [
           0.6666666666666666,
           "#ed7953"
          ],
          [
           0.7777777777777778,
           "#fb9f3a"
          ],
          [
           0.8888888888888888,
           "#fdca26"
          ],
          [
           1,
           "#f0f921"
          ]
         ]
        },
        "legend": {
         "itemsizing": "constant",
         "tracegroupgap": 0
        },
        "margin": {
         "t": 60
        },
        "template": {
         "data": {
          "bar": [
           {
            "error_x": {
             "color": "#2a3f5f"
            },
            "error_y": {
             "color": "#2a3f5f"
            },
            "marker": {
             "line": {
              "color": "white",
              "width": 0.5
             },
             "pattern": {
              "fillmode": "overlay",
              "size": 10,
              "solidity": 0.2
             }
            },
            "type": "bar"
           }
          ],
          "barpolar": [
           {
            "marker": {
             "line": {
              "color": "white",
              "width": 0.5
             },
             "pattern": {
              "fillmode": "overlay",
              "size": 10,
              "solidity": 0.2
             }
            },
            "type": "barpolar"
           }
          ],
          "carpet": [
           {
            "aaxis": {
             "endlinecolor": "#2a3f5f",
             "gridcolor": "#C8D4E3",
             "linecolor": "#C8D4E3",
             "minorgridcolor": "#C8D4E3",
             "startlinecolor": "#2a3f5f"
            },
            "baxis": {
             "endlinecolor": "#2a3f5f",
             "gridcolor": "#C8D4E3",
             "linecolor": "#C8D4E3",
             "minorgridcolor": "#C8D4E3",
             "startlinecolor": "#2a3f5f"
            },
            "type": "carpet"
           }
          ],
          "choropleth": [
           {
            "colorbar": {
             "outlinewidth": 0,
             "ticks": ""
            },
            "type": "choropleth"
           }
          ],
          "contour": [
           {
            "colorbar": {
             "outlinewidth": 0,
             "ticks": ""
            },
            "colorscale": [
             [
              0,
              "#0d0887"
             ],
             [
              0.1111111111111111,
              "#46039f"
             ],
             [
              0.2222222222222222,
              "#7201a8"
             ],
             [
              0.3333333333333333,
              "#9c179e"
             ],
             [
              0.4444444444444444,
              "#bd3786"
             ],
             [
              0.5555555555555556,
              "#d8576b"
             ],
             [
              0.6666666666666666,
              "#ed7953"
             ],
             [
              0.7777777777777778,
              "#fb9f3a"
             ],
             [
              0.8888888888888888,
              "#fdca26"
             ],
             [
              1,
              "#f0f921"
             ]
            ],
            "type": "contour"
           }
          ],
          "contourcarpet": [
           {
            "colorbar": {
             "outlinewidth": 0,
             "ticks": ""
            },
            "type": "contourcarpet"
           }
          ],
          "heatmap": [
           {
            "colorbar": {
             "outlinewidth": 0,
             "ticks": ""
            },
            "colorscale": [
             [
              0,
              "#0d0887"
             ],
             [
              0.1111111111111111,
              "#46039f"
             ],
             [
              0.2222222222222222,
              "#7201a8"
             ],
             [
              0.3333333333333333,
              "#9c179e"
             ],
             [
              0.4444444444444444,
              "#bd3786"
             ],
             [
              0.5555555555555556,
              "#d8576b"
             ],
             [
              0.6666666666666666,
              "#ed7953"
             ],
             [
              0.7777777777777778,
              "#fb9f3a"
             ],
             [
              0.8888888888888888,
              "#fdca26"
             ],
             [
              1,
              "#f0f921"
             ]
            ],
            "type": "heatmap"
           }
          ],
          "histogram": [
           {
            "marker": {
             "pattern": {
              "fillmode": "overlay",
              "size": 10,
              "solidity": 0.2
             }
            },
            "type": "histogram"
           }
          ],
          "histogram2d": [
           {
            "colorbar": {
             "outlinewidth": 0,
             "ticks": ""
            },
            "colorscale": [
             [
              0,
              "#0d0887"
             ],
             [
              0.1111111111111111,
              "#46039f"
             ],
             [
              0.2222222222222222,
              "#7201a8"
             ],
             [
              0.3333333333333333,
              "#9c179e"
             ],
             [
              0.4444444444444444,
              "#bd3786"
             ],
             [
              0.5555555555555556,
              "#d8576b"
             ],
             [
              0.6666666666666666,
              "#ed7953"
             ],
             [
              0.7777777777777778,
              "#fb9f3a"
             ],
             [
              0.8888888888888888,
              "#fdca26"
             ],
             [
              1,
              "#f0f921"
             ]
            ],
            "type": "histogram2d"
           }
          ],
          "histogram2dcontour": [
           {
            "colorbar": {
             "outlinewidth": 0,
             "ticks": ""
            },
            "colorscale": [
             [
              0,
              "#0d0887"
             ],
             [
              0.1111111111111111,
              "#46039f"
             ],
             [
              0.2222222222222222,
              "#7201a8"
             ],
             [
              0.3333333333333333,
              "#9c179e"
             ],
             [
              0.4444444444444444,
              "#bd3786"
             ],
             [
              0.5555555555555556,
              "#d8576b"
             ],
             [
              0.6666666666666666,
              "#ed7953"
             ],
             [
              0.7777777777777778,
              "#fb9f3a"
             ],
             [
              0.8888888888888888,
              "#fdca26"
             ],
             [
              1,
              "#f0f921"
             ]
            ],
            "type": "histogram2dcontour"
           }
          ],
          "mesh3d": [
           {
            "colorbar": {
             "outlinewidth": 0,
             "ticks": ""
            },
            "type": "mesh3d"
           }
          ],
          "parcoords": [
           {
            "line": {
             "colorbar": {
              "outlinewidth": 0,
              "ticks": ""
             }
            },
            "type": "parcoords"
           }
          ],
          "pie": [
           {
            "automargin": true,
            "type": "pie"
           }
          ],
          "scatter": [
           {
            "fillpattern": {
             "fillmode": "overlay",
             "size": 10,
             "solidity": 0.2
            },
            "type": "scatter"
           }
          ],
          "scatter3d": [
           {
            "line": {
             "colorbar": {
              "outlinewidth": 0,
              "ticks": ""
             }
            },
            "marker": {
             "colorbar": {
              "outlinewidth": 0,
              "ticks": ""
             }
            },
            "type": "scatter3d"
           }
          ],
          "scattercarpet": [
           {
            "marker": {
             "colorbar": {
              "outlinewidth": 0,
              "ticks": ""
             }
            },
            "type": "scattercarpet"
           }
          ],
          "scattergeo": [
           {
            "marker": {
             "colorbar": {
              "outlinewidth": 0,
              "ticks": ""
             }
            },
            "type": "scattergeo"
           }
          ],
          "scattergl": [
           {
            "marker": {
             "colorbar": {
              "outlinewidth": 0,
              "ticks": ""
             }
            },
            "type": "scattergl"
           }
          ],
          "scattermap": [
           {
            "marker": {
             "colorbar": {
              "outlinewidth": 0,
              "ticks": ""
             }
            },
            "type": "scattermap"
           }
          ],
          "scattermapbox": [
           {
            "marker": {
             "colorbar": {
              "outlinewidth": 0,
              "ticks": ""
             }
            },
            "type": "scattermapbox"
           }
          ],
          "scatterpolar": [
           {
            "marker": {
             "colorbar": {
              "outlinewidth": 0,
              "ticks": ""
             }
            },
            "type": "scatterpolar"
           }
          ],
          "scatterpolargl": [
           {
            "marker": {
             "colorbar": {
              "outlinewidth": 0,
              "ticks": ""
             }
            },
            "type": "scatterpolargl"
           }
          ],
          "scatterternary": [
           {
            "marker": {
             "colorbar": {
              "outlinewidth": 0,
              "ticks": ""
             }
            },
            "type": "scatterternary"
           }
          ],
          "surface": [
           {
            "colorbar": {
             "outlinewidth": 0,
             "ticks": ""
            },
            "colorscale": [
             [
              0,
              "#0d0887"
             ],
             [
              0.1111111111111111,
              "#46039f"
             ],
             [
              0.2222222222222222,
              "#7201a8"
             ],
             [
              0.3333333333333333,
              "#9c179e"
             ],
             [
              0.4444444444444444,
              "#bd3786"
             ],
             [
              0.5555555555555556,
              "#d8576b"
             ],
             [
              0.6666666666666666,
              "#ed7953"
             ],
             [
              0.7777777777777778,
              "#fb9f3a"
             ],
             [
              0.8888888888888888,
              "#fdca26"
             ],
             [
              1,
              "#f0f921"
             ]
            ],
            "type": "surface"
           }
          ],
          "table": [
           {
            "cells": {
             "fill": {
              "color": "#EBF0F8"
             },
             "line": {
              "color": "white"
             }
            },
            "header": {
             "fill": {
              "color": "#C8D4E3"
             },
             "line": {
              "color": "white"
             }
            },
            "type": "table"
           }
          ]
         },
         "layout": {
          "annotationdefaults": {
           "arrowcolor": "#2a3f5f",
           "arrowhead": 0,
           "arrowwidth": 1
          },
          "autotypenumbers": "strict",
          "coloraxis": {
           "colorbar": {
            "outlinewidth": 0,
            "ticks": ""
           }
          },
          "colorscale": {
           "diverging": [
            [
             0,
             "#8e0152"
            ],
            [
             0.1,
             "#c51b7d"
            ],
            [
             0.2,
             "#de77ae"
            ],
            [
             0.3,
             "#f1b6da"
            ],
            [
             0.4,
             "#fde0ef"
            ],
            [
             0.5,
             "#f7f7f7"
            ],
            [
             0.6,
             "#e6f5d0"
            ],
            [
             0.7,
             "#b8e186"
            ],
            [
             0.8,
             "#7fbc41"
            ],
            [
             0.9,
             "#4d9221"
            ],
            [
             1,
             "#276419"
            ]
           ],
           "sequential": [
            [
             0,
             "#0d0887"
            ],
            [
             0.1111111111111111,
             "#46039f"
            ],
            [
             0.2222222222222222,
             "#7201a8"
            ],
            [
             0.3333333333333333,
             "#9c179e"
            ],
            [
             0.4444444444444444,
             "#bd3786"
            ],
            [
             0.5555555555555556,
             "#d8576b"
            ],
            [
             0.6666666666666666,
             "#ed7953"
            ],
            [
             0.7777777777777778,
             "#fb9f3a"
            ],
            [
             0.8888888888888888,
             "#fdca26"
            ],
            [
             1,
             "#f0f921"
            ]
           ],
           "sequentialminus": [
            [
             0,
             "#0d0887"
            ],
            [
             0.1111111111111111,
             "#46039f"
            ],
            [
             0.2222222222222222,
             "#7201a8"
            ],
            [
             0.3333333333333333,
             "#9c179e"
            ],
            [
             0.4444444444444444,
             "#bd3786"
            ],
            [
             0.5555555555555556,
             "#d8576b"
            ],
            [
             0.6666666666666666,
             "#ed7953"
            ],
            [
             0.7777777777777778,
             "#fb9f3a"
            ],
            [
             0.8888888888888888,
             "#fdca26"
            ],
            [
             1,
             "#f0f921"
            ]
           ]
          },
          "colorway": [
           "#636efa",
           "#EF553B",
           "#00cc96",
           "#ab63fa",
           "#FFA15A",
           "#19d3f3",
           "#FF6692",
           "#B6E880",
           "#FF97FF",
           "#FECB52"
          ],
          "font": {
           "color": "#2a3f5f"
          },
          "geo": {
           "bgcolor": "white",
           "lakecolor": "white",
           "landcolor": "white",
           "showlakes": true,
           "showland": true,
           "subunitcolor": "#C8D4E3"
          },
          "hoverlabel": {
           "align": "left"
          },
          "hovermode": "closest",
          "mapbox": {
           "style": "light"
          },
          "paper_bgcolor": "white",
          "plot_bgcolor": "white",
          "polar": {
           "angularaxis": {
            "gridcolor": "#EBF0F8",
            "linecolor": "#EBF0F8",
            "ticks": ""
           },
           "bgcolor": "white",
           "radialaxis": {
            "gridcolor": "#EBF0F8",
            "linecolor": "#EBF0F8",
            "ticks": ""
           }
          },
          "scene": {
           "xaxis": {
            "backgroundcolor": "white",
            "gridcolor": "#DFE8F3",
            "gridwidth": 2,
            "linecolor": "#EBF0F8",
            "showbackground": true,
            "ticks": "",
            "zerolinecolor": "#EBF0F8"
           },
           "yaxis": {
            "backgroundcolor": "white",
            "gridcolor": "#DFE8F3",
            "gridwidth": 2,
            "linecolor": "#EBF0F8",
            "showbackground": true,
            "ticks": "",
            "zerolinecolor": "#EBF0F8"
           },
           "zaxis": {
            "backgroundcolor": "white",
            "gridcolor": "#DFE8F3",
            "gridwidth": 2,
            "linecolor": "#EBF0F8",
            "showbackground": true,
            "ticks": "",
            "zerolinecolor": "#EBF0F8"
           }
          },
          "shapedefaults": {
           "line": {
            "color": "#2a3f5f"
           }
          },
          "ternary": {
           "aaxis": {
            "gridcolor": "#DFE8F3",
            "linecolor": "#A2B1C6",
            "ticks": ""
           },
           "baxis": {
            "gridcolor": "#DFE8F3",
            "linecolor": "#A2B1C6",
            "ticks": ""
           },
           "bgcolor": "white",
           "caxis": {
            "gridcolor": "#DFE8F3",
            "linecolor": "#A2B1C6",
            "ticks": ""
           }
          },
          "title": {
           "x": 0.05
          },
          "xaxis": {
           "automargin": true,
           "gridcolor": "#EBF0F8",
           "linecolor": "#EBF0F8",
           "ticks": "",
           "title": {
            "standoff": 15
           },
           "zerolinecolor": "#EBF0F8",
           "zerolinewidth": 2
          },
          "yaxis": {
           "automargin": true,
           "gridcolor": "#EBF0F8",
           "linecolor": "#EBF0F8",
           "ticks": "",
           "title": {
            "standoff": 15
           },
           "zerolinecolor": "#EBF0F8",
           "zerolinewidth": 2
          }
         }
        },
        "title": {
         "text": "Education vs Median Household Income (Bubble Size = Population)"
        },
        "xaxis": {
         "anchor": "y",
         "domain": [
          0,
          1
         ],
         "title": {
          "text": "Percentage with Bachelor's Degree or Higher"
         }
        },
        "yaxis": {
         "anchor": "x",
         "domain": [
          0,
          1
         ],
         "title": {
          "text": "Median Household Income ($)"
         }
        }
       }
      }
     },
     "metadata": {},
     "output_type": "display_data"
    }
   ],
   "source": [
    "df_plot = merged_df_reordered.loc[2:].copy()\n",
    "\n",
    "df_plot[\"People (Education: At Least Bachelor's Degree) %\"] = (\n",
    "    df_plot[\"People (Education: At Least Bachelor's Degree) %\"]\n",
    "    .replace(\",\", \"\", regex=True)\n",
    "    .astype(float)\n",
    ")\n",
    "\n",
    "df_plot[\"Median Household Income (Dollars)\"] = (\n",
    "    df_plot[\"Median Household Income (Dollars)\"]\n",
    "    .replace(\",\", \"\", regex=True)\n",
    "    .astype(float)\n",
    ")\n",
    "\n",
    "df_plot[\"People (Education: At Least Bachelor's Degree)\"] = (\n",
    "    df_plot[\"People (Education: At Least Bachelor's Degree)\"]\n",
    "    .replace(\",\", \"\", regex=True)\n",
    "    .astype(float)\n",
    ")\n",
    "\n",
    "fig = px.scatter(\n",
    "    df_plot,\n",
    "    x=\"People (Education: At Least Bachelor's Degree) %\",\n",
    "    y=\"Median Household Income (Dollars)\",\n",
    "    size=\"People (Education: At Least Bachelor's Degree)\",  # bubble size\n",
    "    hover_name=\"County\",  # replace with the column that has county names\n",
    "    size_max=60,          # max bubble size\n",
    "    color=\"Median Household Income (Dollars)\",\n",
    ")\n",
    "\n",
    "fig.update_layout(\n",
    "    title=\"Education vs Median Household Income (Bubble Size = Population)\",\n",
    "    xaxis_title=\"Percentage with Bachelor's Degree or Higher\",\n",
    "    yaxis_title=\"Median Household Income ($)\",\n",
    "    template=\"plotly_white\"\n",
    ")"
   ]
  },
  {
   "cell_type": "markdown",
   "id": "22fc8e81",
   "metadata": {},
   "source": [
    "converted a column to numeric, to be able to do math functions with that column\n",
    "\n",
    "also skipped the first two rows (United States & Kentucky) because they are not traditional counties\n",
    "\n",
    "induced an interactive version to show counties when hovered over with plotly (installed dependency: 'nbformat' as well)"
   ]
  },
  {
   "cell_type": "code",
   "execution_count": 61,
   "id": "7e1139bf",
   "metadata": {},
   "outputs": [
    {
     "data": {
      "application/vnd.microsoft.datawrangler.viewer.v0+json": {
       "columns": [
        {
         "name": "index",
         "rawType": "int64",
         "type": "integer"
        },
        {
         "name": "State",
         "rawType": "object",
         "type": "string"
        },
        {
         "name": "FIPS",
         "rawType": "float64",
         "type": "float"
        },
        {
         "name": "Median Household Income (Dollars)",
         "rawType": "object",
         "type": "string"
        },
        {
         "name": "Rank within US (of 52 states)",
         "rawType": "float64",
         "type": "float"
        }
       ],
       "ref": "44c26932-2b5c-42d2-a80e-80860c687a2e",
       "rows": [
        [
         "0",
         "United States",
         "0.0",
         "78,538",
         null
        ],
        [
         "1",
         "Puerto Rico",
         "72001.0",
         "25,096",
         "52.0"
        ],
        [
         "2",
         "Mississippi",
         "28000.0",
         "54,915",
         "51.0"
        ],
        [
         "3",
         "West Virginia",
         "54000.0",
         "57,917",
         "50.0"
        ],
        [
         "4",
         "Arkansas",
         "5000.0",
         "58,773",
         "49.0"
        ],
        [
         "5",
         "Louisiana",
         "22000.0",
         "60,023",
         "48.0"
        ],
        [
         "6",
         "Alabama",
         "1000.0",
         "62,027",
         "47.0"
        ],
        [
         "7",
         "New Mexico",
         "35000.0",
         "62,125",
         "46.0"
        ],
        [
         "8",
         "Kentucky",
         "21000.0",
         "62,417",
         "45.0"
        ],
        [
         "9",
         "Oklahoma",
         "40000.0",
         "63,603",
         "44.0"
        ],
        [
         "10",
         "South Carolina",
         "45000.0",
         "66,818",
         "43.0"
        ],
        [
         "11",
         "Tennessee",
         "47000.0",
         "67,097",
         "42.0"
        ],
        [
         "12",
         "Missouri",
         "29000.0",
         "68,920",
         "41.0"
        ],
        [
         "13",
         "Ohio",
         "39000.0",
         "69,680",
         "40.0"
        ],
        [
         "14",
         "North Carolina",
         "37000.0",
         "69,904",
         "39.0"
        ],
        [
         "15",
         "Montana",
         "30000.0",
         "69,922",
         "38.0"
        ],
        [
         "16",
         "Indiana",
         "18000.0",
         "70,051",
         "37.0"
        ],
        [
         "17",
         "Michigan",
         "26000.0",
         "71,149",
         "36.0"
        ],
        [
         "18",
         "Florida",
         "12000.0",
         "71,711",
         "35.0"
        ],
        [
         "19",
         "Maine",
         "23000.0",
         "71,773",
         "34.0"
        ],
        [
         "20",
         "South Dakota",
         "46000.0",
         "72,421",
         "33.0"
        ],
        [
         "21",
         "Kansas",
         "20000.0",
         "72,639",
         "32.0"
        ],
        [
         "22",
         "Iowa",
         "19000.0",
         "73,147",
         "31.0"
        ],
        [
         "23",
         "Idaho",
         "16000.0",
         "74,636",
         "30.0"
        ],
        [
         "24",
         "Georgia",
         "13000.0",
         "74,664",
         "29.0"
        ],
        [
         "25",
         "Wyoming",
         "56000.0",
         "74,815",
         "28.0"
        ],
        [
         "26",
         "Nebraska",
         "31000.0",
         "74,985",
         "27.0"
        ],
        [
         "27",
         "Nevada",
         "32000.0",
         "75,561",
         "26.0"
        ],
        [
         "28",
         "Wisconsin",
         "55000.0",
         "75,670",
         "25.0"
        ],
        [
         "29",
         "North Dakota",
         "38000.0",
         "75,949",
         "24.0"
        ],
        [
         "30",
         "Pennsylvania",
         "42000.0",
         "76,081",
         "23.0"
        ],
        [
         "31",
         "Texas",
         "48000.0",
         "76,292",
         "22.0"
        ],
        [
         "32",
         "Arizona",
         "4000.0",
         "76,872",
         "21.0"
        ],
        [
         "33",
         "Vermont",
         "50000.0",
         "78,024",
         "20.0"
        ],
        [
         "34",
         "Oregon",
         "41000.0",
         "80,426",
         "19.0"
        ],
        [
         "35",
         "Illinois",
         "17000.0",
         "81,702",
         "18.0"
        ],
        [
         "36",
         "Delaware",
         "10000.0",
         "82,855",
         "17.0"
        ],
        [
         "37",
         "New York",
         "36000.0",
         "84,578",
         "16.0"
        ],
        [
         "38",
         "Rhode Island",
         "44000.0",
         "86,372",
         "15.0"
        ],
        [
         "39",
         "Minnesota",
         "27000.0",
         "87,556",
         "14.0"
        ],
        [
         "40",
         "Alaska",
         "2900.0",
         "89,336",
         "13.0"
        ],
        [
         "41",
         "Virginia",
         "51000.0",
         "90,974",
         "12.0"
        ],
        [
         "42",
         "Utah",
         "49000.0",
         "91,750",
         "11.0"
        ],
        [
         "43",
         "Colorado",
         "8000.0",
         "92,470",
         "10.0"
        ],
        [
         "44",
         "Connecticut",
         "9000.0",
         "93,760",
         "9.0"
        ],
        [
         "45",
         "Washington",
         "53000.0",
         "94,952",
         "8.0"
        ],
        [
         "46",
         "New Hampshire",
         "33000.0",
         "95,628",
         "7.0"
        ],
        [
         "47",
         "California",
         "6000.0",
         "96,334",
         "6.0"
        ],
        [
         "48",
         "Hawaii",
         "15000.0",
         "98,317",
         "5.0"
        ],
        [
         "49",
         "New Jersey",
         "34000.0",
         "101,050",
         "4.0"
        ]
       ],
       "shape": {
        "columns": 4,
        "rows": 53
       }
      },
      "text/html": [
       "<div>\n",
       "<style scoped>\n",
       "    .dataframe tbody tr th:only-of-type {\n",
       "        vertical-align: middle;\n",
       "    }\n",
       "\n",
       "    .dataframe tbody tr th {\n",
       "        vertical-align: top;\n",
       "    }\n",
       "\n",
       "    .dataframe thead th {\n",
       "        text-align: right;\n",
       "    }\n",
       "</style>\n",
       "<table border=\"1\" class=\"dataframe\">\n",
       "  <thead>\n",
       "    <tr style=\"text-align: right;\">\n",
       "      <th></th>\n",
       "      <th>State</th>\n",
       "      <th>FIPS</th>\n",
       "      <th>Median Household Income (Dollars)</th>\n",
       "      <th>Rank within US (of 52 states)</th>\n",
       "    </tr>\n",
       "  </thead>\n",
       "  <tbody>\n",
       "    <tr>\n",
       "      <th>0</th>\n",
       "      <td>United States</td>\n",
       "      <td>0</td>\n",
       "      <td>78,538</td>\n",
       "      <td>NaN</td>\n",
       "    </tr>\n",
       "    <tr>\n",
       "      <th>1</th>\n",
       "      <td>Puerto Rico</td>\n",
       "      <td>72,001</td>\n",
       "      <td>25,096</td>\n",
       "      <td>52</td>\n",
       "    </tr>\n",
       "    <tr>\n",
       "      <th>2</th>\n",
       "      <td>Mississippi</td>\n",
       "      <td>28,000</td>\n",
       "      <td>54,915</td>\n",
       "      <td>51</td>\n",
       "    </tr>\n",
       "    <tr>\n",
       "      <th>3</th>\n",
       "      <td>West Virginia</td>\n",
       "      <td>54,000</td>\n",
       "      <td>57,917</td>\n",
       "      <td>50</td>\n",
       "    </tr>\n",
       "    <tr>\n",
       "      <th>4</th>\n",
       "      <td>Arkansas</td>\n",
       "      <td>5,000</td>\n",
       "      <td>58,773</td>\n",
       "      <td>49</td>\n",
       "    </tr>\n",
       "    <tr>\n",
       "      <th>5</th>\n",
       "      <td>Louisiana</td>\n",
       "      <td>22,000</td>\n",
       "      <td>60,023</td>\n",
       "      <td>48</td>\n",
       "    </tr>\n",
       "    <tr>\n",
       "      <th>6</th>\n",
       "      <td>Alabama</td>\n",
       "      <td>1,000</td>\n",
       "      <td>62,027</td>\n",
       "      <td>47</td>\n",
       "    </tr>\n",
       "    <tr>\n",
       "      <th>7</th>\n",
       "      <td>New Mexico</td>\n",
       "      <td>35,000</td>\n",
       "      <td>62,125</td>\n",
       "      <td>46</td>\n",
       "    </tr>\n",
       "    <tr>\n",
       "      <th>8</th>\n",
       "      <td>Kentucky</td>\n",
       "      <td>21,000</td>\n",
       "      <td>62,417</td>\n",
       "      <td>45</td>\n",
       "    </tr>\n",
       "    <tr>\n",
       "      <th>9</th>\n",
       "      <td>Oklahoma</td>\n",
       "      <td>40,000</td>\n",
       "      <td>63,603</td>\n",
       "      <td>44</td>\n",
       "    </tr>\n",
       "    <tr>\n",
       "      <th>10</th>\n",
       "      <td>South Carolina</td>\n",
       "      <td>45,000</td>\n",
       "      <td>66,818</td>\n",
       "      <td>43</td>\n",
       "    </tr>\n",
       "    <tr>\n",
       "      <th>11</th>\n",
       "      <td>Tennessee</td>\n",
       "      <td>47,000</td>\n",
       "      <td>67,097</td>\n",
       "      <td>42</td>\n",
       "    </tr>\n",
       "    <tr>\n",
       "      <th>12</th>\n",
       "      <td>Missouri</td>\n",
       "      <td>29,000</td>\n",
       "      <td>68,920</td>\n",
       "      <td>41</td>\n",
       "    </tr>\n",
       "    <tr>\n",
       "      <th>13</th>\n",
       "      <td>Ohio</td>\n",
       "      <td>39,000</td>\n",
       "      <td>69,680</td>\n",
       "      <td>40</td>\n",
       "    </tr>\n",
       "    <tr>\n",
       "      <th>14</th>\n",
       "      <td>North Carolina</td>\n",
       "      <td>37,000</td>\n",
       "      <td>69,904</td>\n",
       "      <td>39</td>\n",
       "    </tr>\n",
       "    <tr>\n",
       "      <th>15</th>\n",
       "      <td>Montana</td>\n",
       "      <td>30,000</td>\n",
       "      <td>69,922</td>\n",
       "      <td>38</td>\n",
       "    </tr>\n",
       "    <tr>\n",
       "      <th>16</th>\n",
       "      <td>Indiana</td>\n",
       "      <td>18,000</td>\n",
       "      <td>70,051</td>\n",
       "      <td>37</td>\n",
       "    </tr>\n",
       "    <tr>\n",
       "      <th>17</th>\n",
       "      <td>Michigan</td>\n",
       "      <td>26,000</td>\n",
       "      <td>71,149</td>\n",
       "      <td>36</td>\n",
       "    </tr>\n",
       "    <tr>\n",
       "      <th>18</th>\n",
       "      <td>Florida</td>\n",
       "      <td>12,000</td>\n",
       "      <td>71,711</td>\n",
       "      <td>35</td>\n",
       "    </tr>\n",
       "    <tr>\n",
       "      <th>19</th>\n",
       "      <td>Maine</td>\n",
       "      <td>23,000</td>\n",
       "      <td>71,773</td>\n",
       "      <td>34</td>\n",
       "    </tr>\n",
       "    <tr>\n",
       "      <th>20</th>\n",
       "      <td>South Dakota</td>\n",
       "      <td>46,000</td>\n",
       "      <td>72,421</td>\n",
       "      <td>33</td>\n",
       "    </tr>\n",
       "    <tr>\n",
       "      <th>21</th>\n",
       "      <td>Kansas</td>\n",
       "      <td>20,000</td>\n",
       "      <td>72,639</td>\n",
       "      <td>32</td>\n",
       "    </tr>\n",
       "    <tr>\n",
       "      <th>22</th>\n",
       "      <td>Iowa</td>\n",
       "      <td>19,000</td>\n",
       "      <td>73,147</td>\n",
       "      <td>31</td>\n",
       "    </tr>\n",
       "    <tr>\n",
       "      <th>23</th>\n",
       "      <td>Idaho</td>\n",
       "      <td>16,000</td>\n",
       "      <td>74,636</td>\n",
       "      <td>30</td>\n",
       "    </tr>\n",
       "    <tr>\n",
       "      <th>24</th>\n",
       "      <td>Georgia</td>\n",
       "      <td>13,000</td>\n",
       "      <td>74,664</td>\n",
       "      <td>29</td>\n",
       "    </tr>\n",
       "    <tr>\n",
       "      <th>25</th>\n",
       "      <td>Wyoming</td>\n",
       "      <td>56,000</td>\n",
       "      <td>74,815</td>\n",
       "      <td>28</td>\n",
       "    </tr>\n",
       "    <tr>\n",
       "      <th>26</th>\n",
       "      <td>Nebraska</td>\n",
       "      <td>31,000</td>\n",
       "      <td>74,985</td>\n",
       "      <td>27</td>\n",
       "    </tr>\n",
       "    <tr>\n",
       "      <th>27</th>\n",
       "      <td>Nevada</td>\n",
       "      <td>32,000</td>\n",
       "      <td>75,561</td>\n",
       "      <td>26</td>\n",
       "    </tr>\n",
       "    <tr>\n",
       "      <th>28</th>\n",
       "      <td>Wisconsin</td>\n",
       "      <td>55,000</td>\n",
       "      <td>75,670</td>\n",
       "      <td>25</td>\n",
       "    </tr>\n",
       "    <tr>\n",
       "      <th>29</th>\n",
       "      <td>North Dakota</td>\n",
       "      <td>38,000</td>\n",
       "      <td>75,949</td>\n",
       "      <td>24</td>\n",
       "    </tr>\n",
       "    <tr>\n",
       "      <th>30</th>\n",
       "      <td>Pennsylvania</td>\n",
       "      <td>42,000</td>\n",
       "      <td>76,081</td>\n",
       "      <td>23</td>\n",
       "    </tr>\n",
       "    <tr>\n",
       "      <th>31</th>\n",
       "      <td>Texas</td>\n",
       "      <td>48,000</td>\n",
       "      <td>76,292</td>\n",
       "      <td>22</td>\n",
       "    </tr>\n",
       "    <tr>\n",
       "      <th>32</th>\n",
       "      <td>Arizona</td>\n",
       "      <td>4,000</td>\n",
       "      <td>76,872</td>\n",
       "      <td>21</td>\n",
       "    </tr>\n",
       "    <tr>\n",
       "      <th>33</th>\n",
       "      <td>Vermont</td>\n",
       "      <td>50,000</td>\n",
       "      <td>78,024</td>\n",
       "      <td>20</td>\n",
       "    </tr>\n",
       "    <tr>\n",
       "      <th>34</th>\n",
       "      <td>Oregon</td>\n",
       "      <td>41,000</td>\n",
       "      <td>80,426</td>\n",
       "      <td>19</td>\n",
       "    </tr>\n",
       "    <tr>\n",
       "      <th>35</th>\n",
       "      <td>Illinois</td>\n",
       "      <td>17,000</td>\n",
       "      <td>81,702</td>\n",
       "      <td>18</td>\n",
       "    </tr>\n",
       "    <tr>\n",
       "      <th>36</th>\n",
       "      <td>Delaware</td>\n",
       "      <td>10,000</td>\n",
       "      <td>82,855</td>\n",
       "      <td>17</td>\n",
       "    </tr>\n",
       "    <tr>\n",
       "      <th>37</th>\n",
       "      <td>New York</td>\n",
       "      <td>36,000</td>\n",
       "      <td>84,578</td>\n",
       "      <td>16</td>\n",
       "    </tr>\n",
       "    <tr>\n",
       "      <th>38</th>\n",
       "      <td>Rhode Island</td>\n",
       "      <td>44,000</td>\n",
       "      <td>86,372</td>\n",
       "      <td>15</td>\n",
       "    </tr>\n",
       "    <tr>\n",
       "      <th>39</th>\n",
       "      <td>Minnesota</td>\n",
       "      <td>27,000</td>\n",
       "      <td>87,556</td>\n",
       "      <td>14</td>\n",
       "    </tr>\n",
       "    <tr>\n",
       "      <th>40</th>\n",
       "      <td>Alaska</td>\n",
       "      <td>2,900</td>\n",
       "      <td>89,336</td>\n",
       "      <td>13</td>\n",
       "    </tr>\n",
       "    <tr>\n",
       "      <th>41</th>\n",
       "      <td>Virginia</td>\n",
       "      <td>51,000</td>\n",
       "      <td>90,974</td>\n",
       "      <td>12</td>\n",
       "    </tr>\n",
       "    <tr>\n",
       "      <th>42</th>\n",
       "      <td>Utah</td>\n",
       "      <td>49,000</td>\n",
       "      <td>91,750</td>\n",
       "      <td>11</td>\n",
       "    </tr>\n",
       "    <tr>\n",
       "      <th>43</th>\n",
       "      <td>Colorado</td>\n",
       "      <td>8,000</td>\n",
       "      <td>92,470</td>\n",
       "      <td>10</td>\n",
       "    </tr>\n",
       "    <tr>\n",
       "      <th>44</th>\n",
       "      <td>Connecticut</td>\n",
       "      <td>9,000</td>\n",
       "      <td>93,760</td>\n",
       "      <td>9</td>\n",
       "    </tr>\n",
       "    <tr>\n",
       "      <th>45</th>\n",
       "      <td>Washington</td>\n",
       "      <td>53,000</td>\n",
       "      <td>94,952</td>\n",
       "      <td>8</td>\n",
       "    </tr>\n",
       "    <tr>\n",
       "      <th>46</th>\n",
       "      <td>New Hampshire</td>\n",
       "      <td>33,000</td>\n",
       "      <td>95,628</td>\n",
       "      <td>7</td>\n",
       "    </tr>\n",
       "    <tr>\n",
       "      <th>47</th>\n",
       "      <td>California</td>\n",
       "      <td>6,000</td>\n",
       "      <td>96,334</td>\n",
       "      <td>6</td>\n",
       "    </tr>\n",
       "    <tr>\n",
       "      <th>48</th>\n",
       "      <td>Hawaii</td>\n",
       "      <td>15,000</td>\n",
       "      <td>98,317</td>\n",
       "      <td>5</td>\n",
       "    </tr>\n",
       "    <tr>\n",
       "      <th>49</th>\n",
       "      <td>New Jersey</td>\n",
       "      <td>34,000</td>\n",
       "      <td>101,050</td>\n",
       "      <td>4</td>\n",
       "    </tr>\n",
       "    <tr>\n",
       "      <th>50</th>\n",
       "      <td>Massachusetts</td>\n",
       "      <td>25,000</td>\n",
       "      <td>101,341</td>\n",
       "      <td>3</td>\n",
       "    </tr>\n",
       "    <tr>\n",
       "      <th>51</th>\n",
       "      <td>Maryland</td>\n",
       "      <td>24,000</td>\n",
       "      <td>101,652</td>\n",
       "      <td>2</td>\n",
       "    </tr>\n",
       "    <tr>\n",
       "      <th>52</th>\n",
       "      <td>District of Columbia</td>\n",
       "      <td>11,001</td>\n",
       "      <td>106,287</td>\n",
       "      <td>1</td>\n",
       "    </tr>\n",
       "  </tbody>\n",
       "</table>\n",
       "</div>"
      ],
      "text/plain": [
       "                   State   FIPS Median Household Income (Dollars)  \\\n",
       "0          United States      0                            78,538   \n",
       "1            Puerto Rico 72,001                            25,096   \n",
       "2            Mississippi 28,000                            54,915   \n",
       "3          West Virginia 54,000                            57,917   \n",
       "4               Arkansas  5,000                            58,773   \n",
       "5              Louisiana 22,000                            60,023   \n",
       "6                Alabama  1,000                            62,027   \n",
       "7             New Mexico 35,000                            62,125   \n",
       "8               Kentucky 21,000                            62,417   \n",
       "9               Oklahoma 40,000                            63,603   \n",
       "10        South Carolina 45,000                            66,818   \n",
       "11             Tennessee 47,000                            67,097   \n",
       "12              Missouri 29,000                            68,920   \n",
       "13                  Ohio 39,000                            69,680   \n",
       "14        North Carolina 37,000                            69,904   \n",
       "15               Montana 30,000                            69,922   \n",
       "16               Indiana 18,000                            70,051   \n",
       "17              Michigan 26,000                            71,149   \n",
       "18               Florida 12,000                            71,711   \n",
       "19                 Maine 23,000                            71,773   \n",
       "20          South Dakota 46,000                            72,421   \n",
       "21                Kansas 20,000                            72,639   \n",
       "22                  Iowa 19,000                            73,147   \n",
       "23                 Idaho 16,000                            74,636   \n",
       "24               Georgia 13,000                            74,664   \n",
       "25               Wyoming 56,000                            74,815   \n",
       "26              Nebraska 31,000                            74,985   \n",
       "27                Nevada 32,000                            75,561   \n",
       "28             Wisconsin 55,000                            75,670   \n",
       "29          North Dakota 38,000                            75,949   \n",
       "30          Pennsylvania 42,000                            76,081   \n",
       "31                 Texas 48,000                            76,292   \n",
       "32               Arizona  4,000                            76,872   \n",
       "33               Vermont 50,000                            78,024   \n",
       "34                Oregon 41,000                            80,426   \n",
       "35              Illinois 17,000                            81,702   \n",
       "36              Delaware 10,000                            82,855   \n",
       "37              New York 36,000                            84,578   \n",
       "38          Rhode Island 44,000                            86,372   \n",
       "39             Minnesota 27,000                            87,556   \n",
       "40                Alaska  2,900                            89,336   \n",
       "41              Virginia 51,000                            90,974   \n",
       "42                  Utah 49,000                            91,750   \n",
       "43              Colorado  8,000                            92,470   \n",
       "44           Connecticut  9,000                            93,760   \n",
       "45            Washington 53,000                            94,952   \n",
       "46         New Hampshire 33,000                            95,628   \n",
       "47            California  6,000                            96,334   \n",
       "48                Hawaii 15,000                            98,317   \n",
       "49            New Jersey 34,000                           101,050   \n",
       "50         Massachusetts 25,000                           101,341   \n",
       "51              Maryland 24,000                           101,652   \n",
       "52  District of Columbia 11,001                           106,287   \n",
       "\n",
       "    Rank within US (of 52 states)  \n",
       "0                             NaN  \n",
       "1                              52  \n",
       "2                              51  \n",
       "3                              50  \n",
       "4                              49  \n",
       "5                              48  \n",
       "6                              47  \n",
       "7                              46  \n",
       "8                              45  \n",
       "9                              44  \n",
       "10                             43  \n",
       "11                             42  \n",
       "12                             41  \n",
       "13                             40  \n",
       "14                             39  \n",
       "15                             38  \n",
       "16                             37  \n",
       "17                             36  \n",
       "18                             35  \n",
       "19                             34  \n",
       "20                             33  \n",
       "21                             32  \n",
       "22                             31  \n",
       "23                             30  \n",
       "24                             29  \n",
       "25                             28  \n",
       "26                             27  \n",
       "27                             26  \n",
       "28                             25  \n",
       "29                             24  \n",
       "30                             23  \n",
       "31                             22  \n",
       "32                             21  \n",
       "33                             20  \n",
       "34                             19  \n",
       "35                             18  \n",
       "36                             17  \n",
       "37                             16  \n",
       "38                             15  \n",
       "39                             14  \n",
       "40                             13  \n",
       "41                             12  \n",
       "42                             11  \n",
       "43                             10  \n",
       "44                              9  \n",
       "45                              8  \n",
       "46                              7  \n",
       "47                              6  \n",
       "48                              5  \n",
       "49                              4  \n",
       "50                              3  \n",
       "51                              2  \n",
       "52                              1  "
      ]
     },
     "execution_count": 61,
     "metadata": {},
     "output_type": "execute_result"
    }
   ],
   "source": [
    "df_renamed_allstates_inc = df_renamed_allstates_inc[\n",
    "    ~df_renamed_allstates_inc['State'].str.contains(\n",
    "        \"For more information|An ecosystem|Median incomes over|Data not available|Notes|Demographic data provided|Suggested Citation\",\n",
    "        case=False, na=False\n",
    "    )\n",
    "]\n",
    "\n",
    "df_renamed_allstates_inc.head(53)"
   ]
  },
  {
   "cell_type": "code",
   "execution_count": 62,
   "id": "bb8f4300",
   "metadata": {},
   "outputs": [],
   "source": [
    "states_to_compare = [\"Maryland\", \"Massachusetts\", \"Mississippi\", \"West Virginia\", \"Nevada\", \"Wisconsin\", \"Nebraska\"]\n",
    "\n",
    "df_allstates_subset_inc = df_renamed_allstates_inc[df_renamed_allstates_inc[\"State\"].isin(states_to_compare)].copy()\n",
    "\n",
    "df_allstates_subset_inc[\"Median Household Income (Dollars)\"] = pd.to_numeric(\n",
    "    df_allstates_subset_inc[\"Median Household Income (Dollars)\"].replace(',', '', regex=True),\n",
    "    errors='coerce'\n",
    ")"
   ]
  },
  {
   "cell_type": "code",
   "execution_count": 63,
   "id": "e24bf88c",
   "metadata": {},
   "outputs": [
    {
     "data": {
      "image/png": "[encoded data removed]",
      "text/plain": [
       "<Figure size 800x600 with 1 Axes>"
      ]
     },
     "metadata": {},
     "output_type": "display_data"
    }
   ],
   "source": [
    "def dollar_format(x, pos):\n",
    "    return f\"${int(x):,}\"  # adds $ and thousands comma\n",
    "\n",
    "formatter = FuncFormatter(dollar_format)\n",
    "\n",
    "plt.figure(figsize=(8,6))\n",
    "bars = plt.bar(df_allstates_subset_inc[\"State\"], df_allstates_subset_inc[\"Median Household Income (Dollars)\"])\n",
    "plt.xlabel(\"State\", labelpad=8)\n",
    "plt.ylabel(\"Median Household Income (Dollars)\")\n",
    "plt.title(\"Median Household Income in Selected States\")\n",
    "plt.ylim(0, 110000)\n",
    "plt.gca().yaxis.set_major_locator(MultipleLocator(10000))\n",
    "plt.gca().yaxis.set_major_formatter(formatter)\n",
    "plt.xticks(rotation=30, fontsize=10, ha='right')\n",
    "\n",
    "for bar in bars:\n",
    "    yval = bar.get_height()\n",
    "    plt.text(bar.get_x() + bar.get_width()/2, yval + 1000, f\"${int(yval):,}\", \n",
    "             ha='center', va='bottom', fontsize=8.5)\n",
    "\n",
    "plt.tight_layout()\n",
    "plt.show()"
   ]
  },
  {
   "cell_type": "markdown",
   "id": "40eb2000",
   "metadata": {},
   "source": [
    "The states I chose to use to display the variance of income are the lowest two median household income states within the US, the middle three, and the two highest (excluding D.C. and Puerto Rico)."
   ]
  },
  {
   "cell_type": "code",
   "execution_count": 64,
   "id": "882ba3f5",
   "metadata": {},
   "outputs": [
    {
     "data": {
      "application/vnd.microsoft.datawrangler.viewer.v0+json": {
       "columns": [
        {
         "name": "index",
         "rawType": "int64",
         "type": "integer"
        },
        {
         "name": "State",
         "rawType": "object",
         "type": "string"
        },
        {
         "name": "FIPS",
         "rawType": "float64",
         "type": "float"
        },
        {
         "name": "People (Education: At Least Bachelor's Degree) %",
         "rawType": "float64",
         "type": "float"
        },
        {
         "name": "People (Education: At Least Bachelor's Degree)",
         "rawType": "float64",
         "type": "float"
        },
        {
         "name": "Rank within US (of 52 states)",
         "rawType": "float64",
         "type": "float"
        }
       ],
       "ref": "ae64f4f8-d03c-4ca8-9deb-edec3e6da70e",
       "rows": [
        [
         "1",
         "West Virginia",
         "54000.0",
         "23.3",
         "295541.0",
         "52.0"
        ],
        [
         "2",
         "Mississippi",
         "28000.0",
         "24.2",
         "475997.0",
         "51.0"
        ],
        [
         "3",
         "Arkansas",
         "5000.0",
         "25.1",
         "513221.0",
         "50.0"
        ],
        [
         "4",
         "Louisiana",
         "22000.0",
         "26.6",
         "825794.0",
         "49.0"
        ],
        [
         "5",
         "Kentucky",
         "21000.0",
         "27.0",
         "830856.0",
         "48.0"
        ],
        [
         "6",
         "Nevada",
         "32000.0",
         "27.4",
         "601393.0",
         "47.0"
        ],
        [
         "7",
         "Alabama",
         "1000.0",
         "27.8",
         "957081.0",
         "45.0"
        ],
        [
         "8",
         "Oklahoma",
         "40000.0",
         "27.8",
         "733793.0",
         "45.0"
        ],
        [
         "9",
         "Indiana",
         "18000.0",
         "28.8",
         "1313086.0",
         "44.0"
        ],
        [
         "10",
         "Puerto Rico",
         "72001.0",
         "29.1",
         "702653.0",
         "43.0"
        ],
        [
         "11",
         "Wyoming",
         "56000.0",
         "29.9",
         "118336.0",
         "42.0"
        ],
        [
         "12",
         "New Mexico",
         "35000.0",
         "30.2",
         "438228.0",
         "41.0"
        ],
        [
         "13",
         "Tennessee",
         "47000.0",
         "30.4",
         "1460501.0",
         "40.0"
        ],
        [
         "14",
         "Iowa",
         "19000.0",
         "30.9",
         "660619.0",
         "38.0"
        ],
        [
         "15",
         "Ohio",
         "39000.0",
         "30.9",
         "2514129.0",
         "38.0"
        ],
        [
         "16",
         "South Dakota",
         "46000.0",
         "31.1",
         "185411.0",
         "37.0"
        ],
        [
         "17",
         "Alaska",
         "2900.0",
         "31.2",
         "152432.0",
         "35.0"
        ],
        [
         "18",
         "Idaho",
         "16000.0",
         "31.2",
         "388032.0",
         "35.0"
        ],
        [
         "19",
         "South Carolina",
         "45000.0",
         "31.5",
         "1136208.0",
         "34.0"
        ],
        [
         "20",
         "Michigan",
         "26000.0",
         "31.8",
         "2213104.0",
         "33.0"
        ],
        [
         "21",
         "Missouri",
         "29000.0",
         "31.9",
         "1345230.0",
         "32.0"
        ],
        [
         "22",
         "North Dakota",
         "38000.0",
         "32.3",
         "164378.0",
         "31.0"
        ],
        [
         "23",
         "Arizona",
         "4000.0",
         "32.6",
         "1627462.0",
         "30.0"
        ],
        [
         "24",
         "Wisconsin",
         "55000.0",
         "32.8",
         "1333128.0",
         "29.0"
        ],
        [
         "25",
         "Texas",
         "48000.0",
         "33.1",
         "6381971.0",
         "28.0"
        ],
        [
         "26",
         "Florida",
         "12000.0",
         "33.2",
         "5263931.0",
         "27.0"
        ],
        [
         "27",
         "Nebraska",
         "31000.0",
         "34.1",
         "440234.0",
         "26.0"
        ],
        [
         "28",
         "Georgia",
         "13000.0",
         "34.2",
         "2480907.0",
         "25.0"
        ],
        [
         "29",
         "Montana",
         "30000.0",
         "34.5",
         "266066.0",
         "23.0"
        ],
        [
         "30",
         "Pennsylvania",
         "42000.0",
         "34.5",
         "3157318.0",
         "23.0"
        ],
        [
         "31",
         "North Carolina",
         "37000.0",
         "34.7",
         "2521353.0",
         "22.0"
        ],
        [
         "32",
         "Kansas",
         "20000.0",
         "35.2",
         "679664.0",
         "21.0"
        ],
        [
         "33",
         "Delaware",
         "10000.0",
         "35.3",
         "250626.0",
         "19.0"
        ],
        [
         "34",
         "Maine",
         "23000.0",
         "35.3",
         "359323.0",
         "19.0"
        ],
        [
         "35",
         "Hawaii",
         "15000.0",
         "35.5",
         "364398.0",
         "18.0"
        ],
        [
         "36",
         "Oregon",
         "41000.0",
         "36.2",
         "1094312.0",
         "17.0"
        ],
        [
         "37",
         "California",
         "6000.0",
         "36.5",
         "9834361.0",
         "16.0"
        ],
        [
         "38",
         "Utah",
         "49000.0",
         "36.9",
         "739555.0",
         "15.0"
        ],
        [
         "39",
         "Illinois",
         "17000.0",
         "37.2",
         "3249494.0",
         "14.0"
        ],
        [
         "40",
         "Rhode Island",
         "44000.0",
         "37.3",
         "289667.0",
         "13.0"
        ],
        [
         "41",
         "Minnesota",
         "27000.0",
         "38.8",
         "1513374.0",
         "11.0"
        ],
        [
         "42",
         "Washington",
         "53000.0",
         "38.8",
         "2097154.0",
         "11.0"
        ],
        [
         "43",
         "New York",
         "36000.0",
         "39.6",
         "5535503.0",
         "10.0"
        ],
        [
         "44",
         "New Hampshire",
         "33000.0",
         "39.8",
         "401838.0",
         "9.0"
        ],
        [
         "45",
         "Virginia",
         "51000.0",
         "41.5",
         "2471630.0",
         "8.0"
        ],
        [
         "46",
         "Connecticut",
         "9000.0",
         "41.9",
         "1062403.0",
         "7.0"
        ],
        [
         "47",
         "Vermont",
         "50000.0",
         "42.6",
         "197369.0",
         "6.0"
        ],
        [
         "48",
         "Maryland",
         "24000.0",
         "42.7",
         "1826045.0",
         "5.0"
        ],
        [
         "49",
         "New Jersey",
         "34000.0",
         "42.9",
         "2771686.0",
         "4.0"
        ],
        [
         "50",
         "Colorado",
         "8000.0",
         "44.7",
         "1806355.0",
         "3.0"
        ]
       ],
       "shape": {
        "columns": 5,
        "rows": 52
       }
      },
      "text/html": [
       "<div>\n",
       "<style scoped>\n",
       "    .dataframe tbody tr th:only-of-type {\n",
       "        vertical-align: middle;\n",
       "    }\n",
       "\n",
       "    .dataframe tbody tr th {\n",
       "        vertical-align: top;\n",
       "    }\n",
       "\n",
       "    .dataframe thead th {\n",
       "        text-align: right;\n",
       "    }\n",
       "</style>\n",
       "<table border=\"1\" class=\"dataframe\">\n",
       "  <thead>\n",
       "    <tr style=\"text-align: right;\">\n",
       "      <th></th>\n",
       "      <th>State</th>\n",
       "      <th>FIPS</th>\n",
       "      <th>People (Education: At Least Bachelor's Degree) %</th>\n",
       "      <th>People (Education: At Least Bachelor's Degree)</th>\n",
       "      <th>Rank within US (of 52 states)</th>\n",
       "    </tr>\n",
       "  </thead>\n",
       "  <tbody>\n",
       "    <tr>\n",
       "      <th>1</th>\n",
       "      <td>West Virginia</td>\n",
       "      <td>54,000</td>\n",
       "      <td>23</td>\n",
       "      <td>295,541</td>\n",
       "      <td>52</td>\n",
       "    </tr>\n",
       "    <tr>\n",
       "      <th>2</th>\n",
       "      <td>Mississippi</td>\n",
       "      <td>28,000</td>\n",
       "      <td>24</td>\n",
       "      <td>475,997</td>\n",
       "      <td>51</td>\n",
       "    </tr>\n",
       "    <tr>\n",
       "      <th>3</th>\n",
       "      <td>Arkansas</td>\n",
       "      <td>5,000</td>\n",
       "      <td>25</td>\n",
       "      <td>513,221</td>\n",
       "      <td>50</td>\n",
       "    </tr>\n",
       "    <tr>\n",
       "      <th>4</th>\n",
       "      <td>Louisiana</td>\n",
       "      <td>22,000</td>\n",
       "      <td>27</td>\n",
       "      <td>825,794</td>\n",
       "      <td>49</td>\n",
       "    </tr>\n",
       "    <tr>\n",
       "      <th>5</th>\n",
       "      <td>Kentucky</td>\n",
       "      <td>21,000</td>\n",
       "      <td>27</td>\n",
       "      <td>830,856</td>\n",
       "      <td>48</td>\n",
       "    </tr>\n",
       "    <tr>\n",
       "      <th>6</th>\n",
       "      <td>Nevada</td>\n",
       "      <td>32,000</td>\n",
       "      <td>27</td>\n",
       "      <td>601,393</td>\n",
       "      <td>47</td>\n",
       "    </tr>\n",
       "    <tr>\n",
       "      <th>7</th>\n",
       "      <td>Alabama</td>\n",
       "      <td>1,000</td>\n",
       "      <td>28</td>\n",
       "      <td>957,081</td>\n",
       "      <td>45</td>\n",
       "    </tr>\n",
       "    <tr>\n",
       "      <th>8</th>\n",
       "      <td>Oklahoma</td>\n",
       "      <td>40,000</td>\n",
       "      <td>28</td>\n",
       "      <td>733,793</td>\n",
       "      <td>45</td>\n",
       "    </tr>\n",
       "    <tr>\n",
       "      <th>9</th>\n",
       "      <td>Indiana</td>\n",
       "      <td>18,000</td>\n",
       "      <td>29</td>\n",
       "      <td>1,313,086</td>\n",
       "      <td>44</td>\n",
       "    </tr>\n",
       "    <tr>\n",
       "      <th>10</th>\n",
       "      <td>Puerto Rico</td>\n",
       "      <td>72,001</td>\n",
       "      <td>29</td>\n",
       "      <td>702,653</td>\n",
       "      <td>43</td>\n",
       "    </tr>\n",
       "    <tr>\n",
       "      <th>11</th>\n",
       "      <td>Wyoming</td>\n",
       "      <td>56,000</td>\n",
       "      <td>30</td>\n",
       "      <td>118,336</td>\n",
       "      <td>42</td>\n",
       "    </tr>\n",
       "    <tr>\n",
       "      <th>12</th>\n",
       "      <td>New Mexico</td>\n",
       "      <td>35,000</td>\n",
       "      <td>30</td>\n",
       "      <td>438,228</td>\n",
       "      <td>41</td>\n",
       "    </tr>\n",
       "    <tr>\n",
       "      <th>13</th>\n",
       "      <td>Tennessee</td>\n",
       "      <td>47,000</td>\n",
       "      <td>30</td>\n",
       "      <td>1,460,501</td>\n",
       "      <td>40</td>\n",
       "    </tr>\n",
       "    <tr>\n",
       "      <th>14</th>\n",
       "      <td>Iowa</td>\n",
       "      <td>19,000</td>\n",
       "      <td>31</td>\n",
       "      <td>660,619</td>\n",
       "      <td>38</td>\n",
       "    </tr>\n",
       "    <tr>\n",
       "      <th>15</th>\n",
       "      <td>Ohio</td>\n",
       "      <td>39,000</td>\n",
       "      <td>31</td>\n",
       "      <td>2,514,129</td>\n",
       "      <td>38</td>\n",
       "    </tr>\n",
       "    <tr>\n",
       "      <th>16</th>\n",
       "      <td>South Dakota</td>\n",
       "      <td>46,000</td>\n",
       "      <td>31</td>\n",
       "      <td>185,411</td>\n",
       "      <td>37</td>\n",
       "    </tr>\n",
       "    <tr>\n",
       "      <th>17</th>\n",
       "      <td>Alaska</td>\n",
       "      <td>2,900</td>\n",
       "      <td>31</td>\n",
       "      <td>152,432</td>\n",
       "      <td>35</td>\n",
       "    </tr>\n",
       "    <tr>\n",
       "      <th>18</th>\n",
       "      <td>Idaho</td>\n",
       "      <td>16,000</td>\n",
       "      <td>31</td>\n",
       "      <td>388,032</td>\n",
       "      <td>35</td>\n",
       "    </tr>\n",
       "    <tr>\n",
       "      <th>19</th>\n",
       "      <td>South Carolina</td>\n",
       "      <td>45,000</td>\n",
       "      <td>32</td>\n",
       "      <td>1,136,208</td>\n",
       "      <td>34</td>\n",
       "    </tr>\n",
       "    <tr>\n",
       "      <th>20</th>\n",
       "      <td>Michigan</td>\n",
       "      <td>26,000</td>\n",
       "      <td>32</td>\n",
       "      <td>2,213,104</td>\n",
       "      <td>33</td>\n",
       "    </tr>\n",
       "    <tr>\n",
       "      <th>21</th>\n",
       "      <td>Missouri</td>\n",
       "      <td>29,000</td>\n",
       "      <td>32</td>\n",
       "      <td>1,345,230</td>\n",
       "      <td>32</td>\n",
       "    </tr>\n",
       "    <tr>\n",
       "      <th>22</th>\n",
       "      <td>North Dakota</td>\n",
       "      <td>38,000</td>\n",
       "      <td>32</td>\n",
       "      <td>164,378</td>\n",
       "      <td>31</td>\n",
       "    </tr>\n",
       "    <tr>\n",
       "      <th>23</th>\n",
       "      <td>Arizona</td>\n",
       "      <td>4,000</td>\n",
       "      <td>33</td>\n",
       "      <td>1,627,462</td>\n",
       "      <td>30</td>\n",
       "    </tr>\n",
       "    <tr>\n",
       "      <th>24</th>\n",
       "      <td>Wisconsin</td>\n",
       "      <td>55,000</td>\n",
       "      <td>33</td>\n",
       "      <td>1,333,128</td>\n",
       "      <td>29</td>\n",
       "    </tr>\n",
       "    <tr>\n",
       "      <th>25</th>\n",
       "      <td>Texas</td>\n",
       "      <td>48,000</td>\n",
       "      <td>33</td>\n",
       "      <td>6,381,971</td>\n",
       "      <td>28</td>\n",
       "    </tr>\n",
       "    <tr>\n",
       "      <th>26</th>\n",
       "      <td>Florida</td>\n",
       "      <td>12,000</td>\n",
       "      <td>33</td>\n",
       "      <td>5,263,931</td>\n",
       "      <td>27</td>\n",
       "    </tr>\n",
       "    <tr>\n",
       "      <th>27</th>\n",
       "      <td>Nebraska</td>\n",
       "      <td>31,000</td>\n",
       "      <td>34</td>\n",
       "      <td>440,234</td>\n",
       "      <td>26</td>\n",
       "    </tr>\n",
       "    <tr>\n",
       "      <th>28</th>\n",
       "      <td>Georgia</td>\n",
       "      <td>13,000</td>\n",
       "      <td>34</td>\n",
       "      <td>2,480,907</td>\n",
       "      <td>25</td>\n",
       "    </tr>\n",
       "    <tr>\n",
       "      <th>29</th>\n",
       "      <td>Montana</td>\n",
       "      <td>30,000</td>\n",
       "      <td>34</td>\n",
       "      <td>266,066</td>\n",
       "      <td>23</td>\n",
       "    </tr>\n",
       "    <tr>\n",
       "      <th>30</th>\n",
       "      <td>Pennsylvania</td>\n",
       "      <td>42,000</td>\n",
       "      <td>34</td>\n",
       "      <td>3,157,318</td>\n",
       "      <td>23</td>\n",
       "    </tr>\n",
       "    <tr>\n",
       "      <th>31</th>\n",
       "      <td>North Carolina</td>\n",
       "      <td>37,000</td>\n",
       "      <td>35</td>\n",
       "      <td>2,521,353</td>\n",
       "      <td>22</td>\n",
       "    </tr>\n",
       "    <tr>\n",
       "      <th>32</th>\n",
       "      <td>Kansas</td>\n",
       "      <td>20,000</td>\n",
       "      <td>35</td>\n",
       "      <td>679,664</td>\n",
       "      <td>21</td>\n",
       "    </tr>\n",
       "    <tr>\n",
       "      <th>33</th>\n",
       "      <td>Delaware</td>\n",
       "      <td>10,000</td>\n",
       "      <td>35</td>\n",
       "      <td>250,626</td>\n",
       "      <td>19</td>\n",
       "    </tr>\n",
       "    <tr>\n",
       "      <th>34</th>\n",
       "      <td>Maine</td>\n",
       "      <td>23,000</td>\n",
       "      <td>35</td>\n",
       "      <td>359,323</td>\n",
       "      <td>19</td>\n",
       "    </tr>\n",
       "    <tr>\n",
       "      <th>35</th>\n",
       "      <td>Hawaii</td>\n",
       "      <td>15,000</td>\n",
       "      <td>36</td>\n",
       "      <td>364,398</td>\n",
       "      <td>18</td>\n",
       "    </tr>\n",
       "    <tr>\n",
       "      <th>36</th>\n",
       "      <td>Oregon</td>\n",
       "      <td>41,000</td>\n",
       "      <td>36</td>\n",
       "      <td>1,094,312</td>\n",
       "      <td>17</td>\n",
       "    </tr>\n",
       "    <tr>\n",
       "      <th>37</th>\n",
       "      <td>California</td>\n",
       "      <td>6,000</td>\n",
       "      <td>36</td>\n",
       "      <td>9,834,361</td>\n",
       "      <td>16</td>\n",
       "    </tr>\n",
       "    <tr>\n",
       "      <th>38</th>\n",
       "      <td>Utah</td>\n",
       "      <td>49,000</td>\n",
       "      <td>37</td>\n",
       "      <td>739,555</td>\n",
       "      <td>15</td>\n",
       "    </tr>\n",
       "    <tr>\n",
       "      <th>39</th>\n",
       "      <td>Illinois</td>\n",
       "      <td>17,000</td>\n",
       "      <td>37</td>\n",
       "      <td>3,249,494</td>\n",
       "      <td>14</td>\n",
       "    </tr>\n",
       "    <tr>\n",
       "      <th>40</th>\n",
       "      <td>Rhode Island</td>\n",
       "      <td>44,000</td>\n",
       "      <td>37</td>\n",
       "      <td>289,667</td>\n",
       "      <td>13</td>\n",
       "    </tr>\n",
       "    <tr>\n",
       "      <th>41</th>\n",
       "      <td>Minnesota</td>\n",
       "      <td>27,000</td>\n",
       "      <td>39</td>\n",
       "      <td>1,513,374</td>\n",
       "      <td>11</td>\n",
       "    </tr>\n",
       "    <tr>\n",
       "      <th>42</th>\n",
       "      <td>Washington</td>\n",
       "      <td>53,000</td>\n",
       "      <td>39</td>\n",
       "      <td>2,097,154</td>\n",
       "      <td>11</td>\n",
       "    </tr>\n",
       "    <tr>\n",
       "      <th>43</th>\n",
       "      <td>New York</td>\n",
       "      <td>36,000</td>\n",
       "      <td>40</td>\n",
       "      <td>5,535,503</td>\n",
       "      <td>10</td>\n",
       "    </tr>\n",
       "    <tr>\n",
       "      <th>44</th>\n",
       "      <td>New Hampshire</td>\n",
       "      <td>33,000</td>\n",
       "      <td>40</td>\n",
       "      <td>401,838</td>\n",
       "      <td>9</td>\n",
       "    </tr>\n",
       "    <tr>\n",
       "      <th>45</th>\n",
       "      <td>Virginia</td>\n",
       "      <td>51,000</td>\n",
       "      <td>42</td>\n",
       "      <td>2,471,630</td>\n",
       "      <td>8</td>\n",
       "    </tr>\n",
       "    <tr>\n",
       "      <th>46</th>\n",
       "      <td>Connecticut</td>\n",
       "      <td>9,000</td>\n",
       "      <td>42</td>\n",
       "      <td>1,062,403</td>\n",
       "      <td>7</td>\n",
       "    </tr>\n",
       "    <tr>\n",
       "      <th>47</th>\n",
       "      <td>Vermont</td>\n",
       "      <td>50,000</td>\n",
       "      <td>43</td>\n",
       "      <td>197,369</td>\n",
       "      <td>6</td>\n",
       "    </tr>\n",
       "    <tr>\n",
       "      <th>48</th>\n",
       "      <td>Maryland</td>\n",
       "      <td>24,000</td>\n",
       "      <td>43</td>\n",
       "      <td>1,826,045</td>\n",
       "      <td>5</td>\n",
       "    </tr>\n",
       "    <tr>\n",
       "      <th>49</th>\n",
       "      <td>New Jersey</td>\n",
       "      <td>34,000</td>\n",
       "      <td>43</td>\n",
       "      <td>2,771,686</td>\n",
       "      <td>4</td>\n",
       "    </tr>\n",
       "    <tr>\n",
       "      <th>50</th>\n",
       "      <td>Colorado</td>\n",
       "      <td>8,000</td>\n",
       "      <td>45</td>\n",
       "      <td>1,806,355</td>\n",
       "      <td>3</td>\n",
       "    </tr>\n",
       "    <tr>\n",
       "      <th>51</th>\n",
       "      <td>Massachusetts</td>\n",
       "      <td>25,000</td>\n",
       "      <td>47</td>\n",
       "      <td>2,305,899</td>\n",
       "      <td>2</td>\n",
       "    </tr>\n",
       "    <tr>\n",
       "      <th>52</th>\n",
       "      <td>District of Columbia</td>\n",
       "      <td>11,001</td>\n",
       "      <td>64</td>\n",
       "      <td>307,906</td>\n",
       "      <td>1</td>\n",
       "    </tr>\n",
       "  </tbody>\n",
       "</table>\n",
       "</div>"
      ],
      "text/plain": [
       "                   State   FIPS  \\\n",
       "1          West Virginia 54,000   \n",
       "2            Mississippi 28,000   \n",
       "3               Arkansas  5,000   \n",
       "4              Louisiana 22,000   \n",
       "5               Kentucky 21,000   \n",
       "6                 Nevada 32,000   \n",
       "7                Alabama  1,000   \n",
       "8               Oklahoma 40,000   \n",
       "9                Indiana 18,000   \n",
       "10           Puerto Rico 72,001   \n",
       "11               Wyoming 56,000   \n",
       "12            New Mexico 35,000   \n",
       "13             Tennessee 47,000   \n",
       "14                  Iowa 19,000   \n",
       "15                  Ohio 39,000   \n",
       "16          South Dakota 46,000   \n",
       "17                Alaska  2,900   \n",
       "18                 Idaho 16,000   \n",
       "19        South Carolina 45,000   \n",
       "20              Michigan 26,000   \n",
       "21              Missouri 29,000   \n",
       "22          North Dakota 38,000   \n",
       "23               Arizona  4,000   \n",
       "24             Wisconsin 55,000   \n",
       "25                 Texas 48,000   \n",
       "26               Florida 12,000   \n",
       "27              Nebraska 31,000   \n",
       "28               Georgia 13,000   \n",
       "29               Montana 30,000   \n",
       "30          Pennsylvania 42,000   \n",
       "31        North Carolina 37,000   \n",
       "32                Kansas 20,000   \n",
       "33              Delaware 10,000   \n",
       "34                 Maine 23,000   \n",
       "35                Hawaii 15,000   \n",
       "36                Oregon 41,000   \n",
       "37            California  6,000   \n",
       "38                  Utah 49,000   \n",
       "39              Illinois 17,000   \n",
       "40          Rhode Island 44,000   \n",
       "41             Minnesota 27,000   \n",
       "42            Washington 53,000   \n",
       "43              New York 36,000   \n",
       "44         New Hampshire 33,000   \n",
       "45              Virginia 51,000   \n",
       "46           Connecticut  9,000   \n",
       "47               Vermont 50,000   \n",
       "48              Maryland 24,000   \n",
       "49            New Jersey 34,000   \n",
       "50              Colorado  8,000   \n",
       "51         Massachusetts 25,000   \n",
       "52  District of Columbia 11,001   \n",
       "\n",
       "    People (Education: At Least Bachelor's Degree) %  \\\n",
       "1                                                 23   \n",
       "2                                                 24   \n",
       "3                                                 25   \n",
       "4                                                 27   \n",
       "5                                                 27   \n",
       "6                                                 27   \n",
       "7                                                 28   \n",
       "8                                                 28   \n",
       "9                                                 29   \n",
       "10                                                29   \n",
       "11                                                30   \n",
       "12                                                30   \n",
       "13                                                30   \n",
       "14                                                31   \n",
       "15                                                31   \n",
       "16                                                31   \n",
       "17                                                31   \n",
       "18                                                31   \n",
       "19                                                32   \n",
       "20                                                32   \n",
       "21                                                32   \n",
       "22                                                32   \n",
       "23                                                33   \n",
       "24                                                33   \n",
       "25                                                33   \n",
       "26                                                33   \n",
       "27                                                34   \n",
       "28                                                34   \n",
       "29                                                34   \n",
       "30                                                34   \n",
       "31                                                35   \n",
       "32                                                35   \n",
       "33                                                35   \n",
       "34                                                35   \n",
       "35                                                36   \n",
       "36                                                36   \n",
       "37                                                36   \n",
       "38                                                37   \n",
       "39                                                37   \n",
       "40                                                37   \n",
       "41                                                39   \n",
       "42                                                39   \n",
       "43                                                40   \n",
       "44                                                40   \n",
       "45                                                42   \n",
       "46                                                42   \n",
       "47                                                43   \n",
       "48                                                43   \n",
       "49                                                43   \n",
       "50                                                45   \n",
       "51                                                47   \n",
       "52                                                64   \n",
       "\n",
       "    People (Education: At Least Bachelor's Degree)  \\\n",
       "1                                          295,541   \n",
       "2                                          475,997   \n",
       "3                                          513,221   \n",
       "4                                          825,794   \n",
       "5                                          830,856   \n",
       "6                                          601,393   \n",
       "7                                          957,081   \n",
       "8                                          733,793   \n",
       "9                                        1,313,086   \n",
       "10                                         702,653   \n",
       "11                                         118,336   \n",
       "12                                         438,228   \n",
       "13                                       1,460,501   \n",
       "14                                         660,619   \n",
       "15                                       2,514,129   \n",
       "16                                         185,411   \n",
       "17                                         152,432   \n",
       "18                                         388,032   \n",
       "19                                       1,136,208   \n",
       "20                                       2,213,104   \n",
       "21                                       1,345,230   \n",
       "22                                         164,378   \n",
       "23                                       1,627,462   \n",
       "24                                       1,333,128   \n",
       "25                                       6,381,971   \n",
       "26                                       5,263,931   \n",
       "27                                         440,234   \n",
       "28                                       2,480,907   \n",
       "29                                         266,066   \n",
       "30                                       3,157,318   \n",
       "31                                       2,521,353   \n",
       "32                                         679,664   \n",
       "33                                         250,626   \n",
       "34                                         359,323   \n",
       "35                                         364,398   \n",
       "36                                       1,094,312   \n",
       "37                                       9,834,361   \n",
       "38                                         739,555   \n",
       "39                                       3,249,494   \n",
       "40                                         289,667   \n",
       "41                                       1,513,374   \n",
       "42                                       2,097,154   \n",
       "43                                       5,535,503   \n",
       "44                                         401,838   \n",
       "45                                       2,471,630   \n",
       "46                                       1,062,403   \n",
       "47                                         197,369   \n",
       "48                                       1,826,045   \n",
       "49                                       2,771,686   \n",
       "50                                       1,806,355   \n",
       "51                                       2,305,899   \n",
       "52                                         307,906   \n",
       "\n",
       "    Rank within US (of 52 states)  \n",
       "1                              52  \n",
       "2                              51  \n",
       "3                              50  \n",
       "4                              49  \n",
       "5                              48  \n",
       "6                              47  \n",
       "7                              45  \n",
       "8                              45  \n",
       "9                              44  \n",
       "10                             43  \n",
       "11                             42  \n",
       "12                             41  \n",
       "13                             40  \n",
       "14                             38  \n",
       "15                             38  \n",
       "16                             37  \n",
       "17                             35  \n",
       "18                             35  \n",
       "19                             34  \n",
       "20                             33  \n",
       "21                             32  \n",
       "22                             31  \n",
       "23                             30  \n",
       "24                             29  \n",
       "25                             28  \n",
       "26                             27  \n",
       "27                             26  \n",
       "28                             25  \n",
       "29                             23  \n",
       "30                             23  \n",
       "31                             22  \n",
       "32                             21  \n",
       "33                             19  \n",
       "34                             19  \n",
       "35                             18  \n",
       "36                             17  \n",
       "37                             16  \n",
       "38                             15  \n",
       "39                             14  \n",
       "40                             13  \n",
       "41                             11  \n",
       "42                             11  \n",
       "43                             10  \n",
       "44                              9  \n",
       "45                              8  \n",
       "46                              7  \n",
       "47                              6  \n",
       "48                              5  \n",
       "49                              4  \n",
       "50                              3  \n",
       "51                              2  \n",
       "52                              1  "
      ]
     },
     "execution_count": 64,
     "metadata": {},
     "output_type": "execute_result"
    }
   ],
   "source": [
    "# drops rows that contain specific phrases such as \"an ecosystem\", \n",
    "\n",
    "df_renamed_allstates_edu = df_renamed_allstates_edu[\n",
    "    ~df_renamed_allstates_edu['State'].str.contains(\n",
    "        \"For more information|An ecosystem|Median incomes over|Data not available|Notes|Demographic data provided|Suggested Citation\",\n",
    "        case=False, na=False\n",
    "    )\n",
    "]\n",
    "\n",
    "df_allstates_subset_edu = df_renamed_allstates_edu[df_renamed_allstates_edu[\"State\"] != \"United States\"]\n",
    "\n",
    "df_allstates_subset_edu.head(53)"
   ]
  },
  {
   "cell_type": "code",
   "execution_count": 65,
   "id": "3f160821",
   "metadata": {},
   "outputs": [
    {
     "data": {
      "image/png": "[encoded data removed]",
      "text/plain": [
       "<Figure size 1000x1400 with 1 Axes>"
      ]
     },
     "metadata": {},
     "output_type": "display_data"
    }
   ],
   "source": [
    "# plt.figure(figsize=(10,14))\n",
    "# plt.barh(df_allstates_subset_edu[\"State\"], df_allstates_subset_edu[\"People (Education: At Least Bachelor's Degree) %\"], height=0.8)\n",
    "# plt.xlabel(\"Percentage with Bachelor's Degree or Higher\")\n",
    "# plt.title(\"Education Level by State\")\n",
    "# plt.ylim(-0.75, len(df_allstates_subset_edu[\"State\"]) - 1 + 0.75)\n",
    "# plt.tight_layout()\n",
    "# plt.show()\n",
    "\n",
    "plt.figure(figsize=(10,14))\n",
    "\n",
    "bars = plt.barh(\n",
    "    df_allstates_subset_edu[\"State\"], \n",
    "    df_allstates_subset_edu[\"People (Education: At Least Bachelor's Degree) %\"], \n",
    "    height=0.8\n",
    ")\n",
    "\n",
    "plt.xlabel(\"Percentage with Bachelor's Degree or Higher\")\n",
    "plt.title(\"Education Level by State\")\n",
    "max_val = df_allstates_subset_edu[\"People (Education: At Least Bachelor's Degree) %\"].max()\n",
    "plt.xlim(0, max_val * 1.08)\n",
    "plt.ylim(-0.75, len(df_allstates_subset_edu[\"State\"]) - 1 + 0.75)\n",
    "\n",
    "for bar in bars:\n",
    "    width = bar.get_width()\n",
    "    plt.text(\n",
    "        width + 0.5,\n",
    "        bar.get_y() + bar.get_height()/2,\n",
    "        f\"{width:.1f}%\",\n",
    "        ha='left',\n",
    "        va='center',\n",
    "        fontsize=9\n",
    "    )\n",
    "\n",
    "plt.tight_layout()\n",
    "plt.show()"
   ]
  },
  {
   "cell_type": "code",
   "execution_count": null,
   "id": "bba1d4bf",
   "metadata": {},
   "outputs": [],
   "source": []
  }
 ],
 "metadata": {
  "kernelspec": {
   "display_name": "mid-course_milestone_env",
   "language": "python",
   "name": "python3"
  },
  "language_info": {
   "codemirror_mode": {
    "name": "ipython",
    "version": 3
   },
   "file_extension": ".py",
   "mimetype": "text/x-python",
   "name": "python",
   "nbconvert_exporter": "python",
   "pygments_lexer": "ipython3",
   "version": "3.13.5"
  }
 },
 "nbformat": 4,
 "nbformat_minor": 5
}
